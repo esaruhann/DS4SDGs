{
 "cells": [
  {
   "cell_type": "markdown",
   "metadata": {
    "id": "ggPSYfAuSlWx"
   },
   "source": [
    "<a target=\"_blank\" href=\"https://colab.research.google.com/github/esaruhann/DS4SDGs/blob/Data_Manupilation/01_DS4SDGS_Introduction_to_Python_v0.3.1.ipynb\">\n",
    "  <img src=\"https://colab.research.google.com/assets/colab-badge.svg\" alt=\"Open In Colab\"/>\n",
    "</a>"
   ]
  },
  {
   "cell_type": "markdown",
   "metadata": {
    "id": "iUMCaPEwskfU"
   },
   "source": [
    "# Introduction to Python\n",
    "\n",
    "\n"
   ]
  },
  {
   "cell_type": "markdown",
   "metadata": {
    "id": "5bAHDv7hs0Gz"
   },
   "source": [
    "# 0. Learning Objectives  <a class=\"anchor\" id=\"zero\"></a>\n",
    "\n",
    "### Course Motivation\n",
    "\n",
    "The full course has been created for those who are interested in learning data science methods for contributing towards sustainable development goals. From someone who is beginning in their programming journey to someone who has been working on projects would find the course contents useful to gain new skills and renew their understanding. By the end of the DS4SDGs curriculum, learners will grasp the essential understanding of Python-based programming, geographic information systems, machine learning and deep learning models.\n",
    "\n",
    "Our learning approach follows the Socratic method that involves the integration of advanced AI chatbots (ChatGPT and Google Gemini) as a learning facilitator to stimulate critical thinking, encourage active engagement, and build deeper understanding of particular concepts.\n",
    "\n",
    "### Learning Outcomes\n",
    "After completing this course on Introduction to Python, you will:\n",
    "\n",
    "- Comprehend the key Python skills to start using it for a data science approach   \n",
    "- Gain a brief overview of Python syntax, variable assignment, and arithmetic operations   \n",
    "- Know how to use functions and utilize built-in functions   \n",
    "- Know what Boolean values and conditional statements are   \n",
    "- Learn to create, index, slice, and modify lists   \n",
    "- Be able to create loops to execute code in iterations\n",
    "- Be able to differentiate between Python data types, such as strings and dictionaries   \n",
    "- Know how to import external libraries for various programming tasks"
   ]
  },
  {
   "cell_type": "markdown",
   "metadata": {
    "id": "pOTglvBbs0G0"
   },
   "source": [
    "# 1. Python Background & Benefits <a class=\"anchor\" id=\"one\"></a>"
   ]
  },
  {
   "cell_type": "markdown",
   "metadata": {
    "id": "p-t-GtDcs0G0"
   },
   "source": [
    "![Python Background & Benefits.png](data:image/png;base64,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)"
   ]
  },
  {
   "cell_type": "markdown",
   "metadata": {
    "id": "2PkYQ1nUuqv2"
   },
   "source": [
    "Before we delve into the Python programming language:\n",
    "\n",
    "### **What is a programming language?**\n",
    "\n",
    "A programming language is a formalized set of instructions that can be used to produce a wide array of outputs, ranging from software applications to operating system commands.\n",
    "\n",
    "These languages enable humans to write instructions in a format that a computer can execute. Over time, a plethora of programming languages has emerged, each tailored for specific tasks and industries.\n",
    "\n",
    "Broadly categorized, we have low-level languages like Assembly, which are closer to machine code and often used for system-level programming. In contrast, high-level languages such as Python, Java, and C++ are more abstracted from the machine code, offering easier syntax and versatility at the expense of direct hardware control.\n",
    "\n",
    "Scripting languages like JavaScript and PHP are primarily used for web applications, while query languages like SQL are designed for managing and querying large datasets in databases. Each language comes with its syntax, use-cases, and intricacies. The choice of language often hinges on the requirements of the project, the platform targeted, performance needs, and the existing ecosystem of libraries and frameworks."
   ]
  },
  {
   "cell_type": "markdown",
   "metadata": {
    "id": "30k-GHtq1Ms-"
   },
   "source": [
    "##  🤖 Machine Tutor Question\n",
    "**Prompt:**\n",
    "```\n",
    "What is a programming language? Include examples of the most common programming languages.\n",
    "```\n",
    "\n",
    "* [ChatGPT Tutor Response](https://chat.openai.com/share/5608e202-6239-4dd0-9f1d-0821fc432203)\n",
    "* [Gemini Tutor Response](https://g.co/gemini/share/a84e198d10eb)"
   ]
  },
  {
   "cell_type": "markdown",
   "metadata": {
    "id": "amnOLZ4Cs0G1"
   },
   "source": [
    "## 1.1 Origin of Python <a class=\"anchor\" id=\"one-one\"></a>"
   ]
  },
  {
   "cell_type": "markdown",
   "metadata": {
    "id": "5JfK00fws0G1"
   },
   "source": [
    "Python was created in the late 1980s by Guido van Rossum at Centrum Wiskunde & Informatica in Netherlands. As of 2021, Python has become one of the top 3 most popular programming languages along with C and Java.  For more information on the history of Python, follow this [link](https://en.wikipedia.org/wiki/History_of_Python).\n",
    "\n",
    "Python is a high-level and general-purpose programming language, meaning that it can be used for software development, web development, data science, machine learning, speeding up and automating workflows, building embedded systems, and so on. Its real-world use cases are limitless, and top tech companies use the language to build successful products."
   ]
  },
  {
   "cell_type": "markdown",
   "metadata": {
    "id": "tOEBdvhAs2Bk"
   },
   "source": [
    "## 1.2 Python Features & Advantages <a class=\"anchor\" id=\"one-two\"></a>"
   ]
  },
  {
   "cell_type": "markdown",
   "metadata": {
    "id": "6KxOoqvb5RxE"
   },
   "source": [
    "- **Simple and Easy to Learn**\n",
    "\n",
    "    Python is a user-friendly language, with a syntax similar to English. The user would find it easy to read and understand the code. Compared to C/C++, fewer lines of code are needed to perform the same task. The line of codes required to execute the same task is generally less for Python than Java. This benefit is directly linked to productivity.\n",
    "  \n",
    "  \n",
    "- **Free and Open Source**\n",
    "\n",
    "    Python is one of the fastest-growing languages in terms of number of users. Programming communities have grown along with the popularity of the language. There are countless communities and massive information and insights formed around the language, which enables a simple googling for a wide range of problem-solving.\n",
    "\n",
    "  \n",
    "- **Dynamic Typing**\n",
    "    \n",
    "    Dynamic typing in Python means the interpreter itself infers the type of data that a variable receives, without the need of users. Through the dynamic typing feature, it is easier to test or debug units by creating interfaces.\n",
    "  \n",
    "  \n",
    "- **Vast Libraries**\n",
    "\n",
    "    Libraries available for Python is vast and powerful to perform different tasks. Python package manager (pip) is easy for people to import other packages from the Python package index (PyPi). It consists of more than 200,000 packages.\n",
    "    \n",
    "    #### ⚠️ Note:\n",
    "    A package is just like a tool in your toolbox, and different packages would help to facilitate the user in completing unique assignments.\n",
    "  \n",
    "  \n",
    " <p align=\"center\">\n",
    "  <img src=\"https://miro.medium.com/max/1400/1*RIrPOCyMFwFC-XULbja3rw.png\" />\n",
    "</p>\n",
    "<center>Commonly used Python libraries for Machine Learning and Deep Learning tasks</center>\n",
    "<center>Image from <a href=\"https://towardsdatascience.com/best-python-libraries-for-machine-learning-and-deep-learning-b0bd40c7e8c\">Best Python Libraries for ML and DL</a> by Claire D. Costa</center>"
   ]
  },
  {
   "cell_type": "markdown",
   "metadata": {
    "id": "q57HUUuF2Tmc"
   },
   "source": [
    "##  🤖 Machine Tutor Question\n",
    "**Prompt:**\n",
    "```\n",
    "What are the main features or characteristics of Python Programming language that makes it a powerful programming language?\n",
    "```\n",
    "\n",
    "* [ChatGPT Tutor Response](https://chat.openai.com/share/084fbedd-8458-410e-b40f-2a2475ae2bdf)\n",
    "* [Gemini Tutor Response](https://g.co/gemini/share/d13efdafd817)"
   ]
  },
  {
   "cell_type": "markdown",
   "metadata": {
    "id": "WXeph1QytDPm"
   },
   "source": [
    "## 1.3 Python Disadvantages <a class=\"anchor\" id=\"one-two\"></a>"
   ]
  },
  {
   "cell_type": "markdown",
   "metadata": {
    "id": "6mC_BOlus5GG"
   },
   "source": [
    "While Python is a versatile and widely-used language, it does have its set of disadvantages:\n",
    "\n",
    "**Performance Issues:**\n",
    "\n",
    "* Python is generally slower than languages like C, C++, or Java. This is mainly because it is an interpreted language and dynamically typed.\n",
    "\n",
    "**Mobile Development:**\n",
    "\n",
    "* Python is not considered ideal for mobile app development. While there are frameworks and libraries that allow Python to be used for mobile, it's not as efficient or streamlined as languages like Swift for iOS or Java for Android.\n",
    "\n",
    "**Memory Consumption:**\n",
    "\n",
    "* Python's dynamic typing and garbage collection can lead to high memory consumption, making it less suitable for memory-intensive tasks.\n",
    "\n",
    "**Database Access:**\n",
    "\n",
    "* Python has limitations with database access compared to languages like JDBC (Java) or ODBC (C, C++). While there are libraries like SQLAlchemy or Django ORM, they can be slower and less efficient for large-scale applications.\n",
    "\n",
    "**Runtime Errors:**\n",
    "\n",
    "* Due to its dynamic typing, Python is prone to runtime errors. Errors that statically-typed languages would catch at compile-time can sometimes only be detected at runtime in Python.\n",
    "\n",
    "**Threading:**\n",
    "* In Python, threading is limited by the Global Interpreter Lock (GIL), which prevents multiple threads from executing Python bytecode simultaneously. This can cause performance issues for CPU-bound tasks, but threading is still useful for I/O-bound tasks.\n",
    "\n",
    "**Not Native to Web Browsers:**\n",
    "\n",
    "* Unlike JavaScript, Python isn't native to web browsers. While tools like Brython exist to run Python code in browsers, they are not mainstream or as efficient as using JavaScript for frontend web development."
   ]
  },
  {
   "cell_type": "markdown",
   "metadata": {
    "id": "KQ2gYy8fqA5X"
   },
   "source": [
    "## 1.4 Compilers vs. Interpreters: An Overview\n",
    "At the heart of programming languages lie compilers and interpreters, both pivotal in translating high-level code into machine-executable instructions. While serving the same goal, their methodologies diverge.\n",
    "\n",
    "**Compilers:** Compilers take the entire source code program, and translate it into machine code or an intermediate form. Once compiled, the generated executable runs independently and usually at a swift pace. This independent execution conceals the original source, offering code protection. Languages like C, C++, and Rust employ compilers. However, the need for distinct compilations for various platforms can be a limitation.\n",
    "\n",
    "**Interpreters:** Operating differently, interpreters translate code line-by-line during execution, eradicating the need for a priori compilation. This immediate execution facilitates effortless code testing and debugging, bestowing a cross-platform nature to the code. Yet, this very method can lead to slower run-times. Python, Ruby, and JavaScript are examples of interpreted languages, with the source code being essential and exposed for execution.\n",
    "\n",
    "Blurring the lines, hybrid systems like Java combine both. Java's compiler transforms code into bytecode, which the Java Virtual Machine (JVM) then interprets or compiles at runtime, exemplifying the fusion of both worlds."
   ]
  },
  {
   "cell_type": "markdown",
   "metadata": {
    "id": "N9J6MxxS3EmM"
   },
   "source": [
    "##  🤖 Machine Tutor Question\n",
    "**Prompt:**\n",
    "```\n",
    "\n",
    "What are compilers and interpreters in the domain of programming. What is the difference between compiler and interpreter?\n",
    "```\n",
    "\n",
    "* [ChatGPT Tutor Response](https://chat.openai.com/share/1cd5ddf7-0c71-4e98-8dbd-20a958a0acbe)\n",
    "* [Gemini Tutor Response](https://g.co/gemini/share/9fcbaf626f6f)"
   ]
  },
  {
   "cell_type": "markdown",
   "metadata": {
    "id": "KsZXTCJQqzyK"
   },
   "source": [
    "## 1.5  Introducing your Machine Tutor Chatbots (ChatGPT - Gemini)\n",
    "\n",
    "As mentioned at the beginning of this notebook, throughout the course, you will have the opportunity to expand and deepen your understanding of Python programming concepts using LLM-based chatbots such as ChatGPT developed by [OpenAI](https://openai.com/blog/chatgpt), and Gemini developed by [Google](https://gemini.google.com/).\n",
    "\n",
    "In certain sections of the notebook, you will be provided with prompts (input questions) and links to the ChatGPT and Gemini responses to these prompts as starting point to dive deeper into the subject matter.\n",
    "\n",
    "To learn more about ChatGPT and how to access it, click [this link]( https://openai.com/blog/chatgpt).\n",
    "\n",
    "For more information on Gemini, follow [this link](https://blog.google/technology/ai/bard-google-ai-search-updates/). To access Google Gemini, here is [the link](https://gemini.google.com/)\n",
    "\n",
    "LLMs have multiple uses spanning a diverse domains. To find out about ChatGPT (and Gemini) use-cases in programming, follow this [resource link](https://www.valuecoders.com/blog/blockchain-ml/chatgpt-use-cases-in-software-development/)."
   ]
  },
  {
   "cell_type": "markdown",
   "metadata": {
    "id": "HXGSNDVA1n7P"
   },
   "source": [
    "![Introducing your Machine Tutor Chatbots (ChatGPT - Gemini).png](data:image/png;base64,iVBORw0KGgoAAAANSUhEUgAABN4AAALVCAYAAAAf5izfAAAAAXNSR0IArs4c6QAAAARnQU1BAACxjwv8YQUAAAAJcEhZcwAAEnQAABJ0Ad5mH3gAAP+lSURBVHhe7N0LfBTV3f/xr4ol1ZJYq0lRudQagwrGagJaSfJoICoSWhDUQgqFFIrcrAIKRMofI5cKWCFAIUopNFolCIUg1CCtINqHgJcItYR4A6qQPLUltGhS0f2fmZ1NdjebZDfJQoDP+/UaMjs7O3PmnDO3HzPnnOUyBAAAAAAAAKBZne38BQAAAAAAANCMCLwBAAAAAAAAYUDgDQAAAAAAAAiDWm28ffXVV/ZgTab5tzPbWWedZQ9nn322PQAAAAAAACB41YE3K9j25ZdfEmxDQFYA7pxzziEABwAAAAAAECQ78GYF3KwBaIgVfLMGAAAAAAAA1O9sgm4IBfUFAAAAAAAgOHbgDQiFVWesV5MBAAAAAABQNxrsQqMQsAUAAAAAAKgfgTc0itUJB0+9AQAAAAAA1I3AGxqNwBsAAAAAAEDdCLyh0ayn3gAAAAAAABAYgTc0GoE3AAAAAACAuhF4AwAAAAAAAMKAwBsAAAAAAAAQBgTeAAAAAAAAgDAg8AYAAAAAAACEAYE3AAAAAAAAIAwIvAEAAAAAAABhQOANAAAAAAAACIOzqqqqXM74ifHmU/rp4h32aLdRT2v49fYoTlFf+9rXnDEAAAAAAAB4a7bA2xfle/XnLWv16q4DOlTxhTNVOjcqSm3bd1fvwX11/TfNhBYYePviX+/rf/+8QX/+y/s69K/P5Em9J+039kzSLVdfpHOd6Tr8oqY+slaHnI/ezo1qq/YJaRrUK0nto9zT3sz9qRYXuccb1k2jnh6uUyUeSeANAAAAAAAgsKa/avrVP/Tm8qkaN2WuVm153yfoZvmiokIHdr+oNz50JpwgFe++qGfmP6rxvywMGCCzedI+cZZWbNytA15BN4sn7aueWKvdzrSGfFFxSO9vWaFHJz6qVaWfOVMBAAAAAABwpmnaE29fHdKL2VO19qDz+exz1faa7rrxe1foogj3pP+Wv6c3396hC3ot0BDrMa4T9MRb9VNml/ZV9vQ71dY9uUagtF/fW2nXX6SL25q5Dx3Sgb//r17dsluHqvyeQvN64q3t7ZM1oedF9uQvPt2rHX9cq7Vv/sP+rG900/2/HK5OX1boM++IXvlLmusEBL1/73auzos6r+bpuhaOJ94AAAAAAAACa8ITb19o9/JZNYGr6Ft0/5xfK/v+QbozuZu6dXUPSb0H6f5HnKBbi/GZ3ny6Ju3ndrxTE6y0j7xTSSbNndq1VyfzN63f/crOmacJvTrUHQiLOE9RUVH2cNHl3XTnqGyN6nqe+7v/7ND//tUs/zz399VDm/Pd31u8fu8eTp2gGwAAAAAAAOrW+MDbwQ165i/Oq5Tf6KZRjwxSF6dNs5D8400988tJum/ET/XTn/5U902ZrxcDvKL5RfmbenH5LE0df589nz2MnqRZv9+hf3g9TWY96WZ9V92m2sdrNdUzf+6b7ml71+q3Rc46Lr1Tv5jSV53qSvvZUerUL01dnI8NO1fXJ9TMfeCTOl90bRKXy6UPP/xQn3/+uTOlfh9//LGOHDnifAIAAAAAAEC4NTrwtnfrn+V+ofI8dRv8E13vPOQVii8OvKhHpyzWn0v/oS++cqaV79baOXNVeNj92e1N/dbMt/Y1vzbkqv6h97c8pUkzX9Qh5/fBeHPbn+UOu52npHv6qm3TW7o74f7973/rvffeU1FRUYPBt3379undd9/VRx995EwBAAAAAABAuDUy5HRI73ueSju7i264rnEvR765Ya0qrhuiXyz4tZ5elK0h8U707qsD2vDyXve4xzfa65YRv9CCXz+tp582Q+48Tbi9vfu7g2u1aoc7IHf9CPf3o7raH91tvFnzW8MI633XA3qv1P2Vzuumblc7481o7x5PVwznqdMVtVqXaxaRkZHq0KGD/vvf/2rXrl11Bt+s4Nz+/fvtttiuvPJKZyoAAAAAAADCrdGBt08+dkbbXtL4J8YuvVMTRiap/XnnSq3bKmn0KCU5sbfPSt/36o20i34y5xca1LW9rFlt9iugvas7PDjwcbCvdP5DFf9yRr95gfzfMD20YWrNq6xew9QNDS//i88OaMfyqZq/zQlKXnSLkjq5R8PBCqRddtllqqysDBh8Ky0ttV9HtYJuiYmJOu+8RjyWCAAAAAAAgEY5qS9Zfjf5Vt+g3dnf1eXfdcYPfeK8ymo5V+eeK31xeK92bF6rFcvn69GJ4zVu9GI5rbap4p81c59Ih/5QE6i7b9yjeuq1Q7KfvTu3ve4e21fOM3lhc9VVV+nSSy+tDr5Zfy1W0M16tfRck3EJCQkE3QAAAAAAAE6wRgbezlN1HOdfR1ThjIbqom/6P292rs7/ujP6ldwBLMtn72vtY/fpvkfm6qnnX9Srr+3WgYrPdO43mtgD6Jf/dUZqtO05WfPmzXOGISF0quA49zy1T7hbE2b/QmmXOtPC7Oqrr/YJvpWUlPgE3c4/36sXVQAAAAAAAJwQjQy8tdUlnqDSZ7v1t4POeFh8oTfz5uvFj74wqb1I3QZP1myrTbjcX2venJ9Uv2oavO/qilhn9PBe7fa8durR+jxFRUU5w/lq6Dmxtrd7BeqeNOn69QL9YmRa3b2khon15Fvbtm3t100PHDigVq1a2UG3b3zjG84cAAAAAAAAOJEaGXiL0vXXe94J/YdefPbPjX7qrUFf7db/FrnbTItKG6Xhyd/VRZ6G3qqOOb2ThsI77e9rw5rdNU/WNUaEV6DuG016/q5JzjrrLF1zzTV28M0Kut1www0E3QAAAAAAAE6iRrfxFpXaV7d44jqlz2hqzqv6R5MiWHUoP1TdycJ5rXwDW5/telOe/kPrFOBVWO+0f/aX+Zr1hwNNC761EFbwrXPnzrrlllvsXk8BAAAAAABw8jQ68KazO2nQxL5q7yzhs+IVmjRukmYtf1GvFu3QDmcoXLNC8x8bpxWeXhBCFd22eh2HXtmgHf9yh8gq9q7S3BUNht1MwnaY9FT4Btb80n5gw6MaN2mWntls0vzuAR141/zd9qJWzHxGO9yzAAAAAAAAACFpfODNcumdmjCxrzp5nnz74h96/7W1WpH7lJ5yhlUbX9Xujz5T7W4MgnT29UpKdlpa+88OPTXxPrsH0fFzC6U+d9bZxluXLp5uET7Tjtzxus/qeTTXK/pn0j556t3VbbF98Y/39efnTZqfeFSPPmH+rlyrVz/wPCt3rs77+sl7jRQAAAAAAACnnqYF3ozzYu/UhDnzNHnwnerSMUqe5tdsraMU1bGL7rxngvqG3D1ojU4DszXhh110UWtnQuu2uv6eyZrQu0OdvZqee9NwTfb+zdnnKqqN79zntkszaf+1skf1VVJsW0V55rWce56d9lt+aJYzZ4Emp17kfAEAAAAAAAA07KyqqiqXMw6E7Gtf+5ozBgAAAAAAAG9NfuINAAAAAAAAQG0E3gAAAAAAAIAwIPAGAAAAAAAAhAGBNwAAAAAAACAMCLwBAAAAAAAAYUDgDQAAAAAAAAgDAm9otLPOOssZAwAAAAAAgD8Cb2g0Am8AAAAAAAB1I/CGRjv7bKoPAAAAAABAXYicoFGsp90IvAEAAAAAANSNyAka5ZxzznHGAAAAAAAAEMjZBFAQKqvO8LQbAAAAAABA/ezAG8E3BIv6AgAAAAAAEJyzXIY18tVXX+nLL7+U8xHwYbXpxpNuAAAAAAAAwasOvHlYAThrsCYThDuzWcE2TycKBNwAAAAAAABCUyvwBgAAAAAAAKDpeIwJAAAAAAAACAMCbwAAAAAAAEAYEHgDAAAAAAAAwoDAGwAAAAAAABAGBN4AAAAAAACAMCDwBgAAAAAAAIQBgTcAAAAAAAAgDAi8AQAAAAAAAGFA4A0AAAAAAAAIg7NchjMOAAAAL9ZlUmVlpb766itnCgAAAFDb2WefrYiICJ111lnOFDeeeAMAAAiAoBsAAACCZV0zWteO/s+3EXgDAAAIoKqqiqAbAAAAgmZdO1rXkN4IvAEAAPixLpi+/PJL5xMAAAAQHOsa0jv4RuANAADAy/Hjx+0BAAAAaAzv60kCbwAAAA6rTQ7/1wMAAACAUFnXlNa1JYE3AAAAx3//+19nDAAAAGga69qSwBsAAIBhtcfBK6YAAABoLta1JYE3AAAA44svvnDGAAAAgOZB4A0AAJzxrKfd6MUUAAAAzY3AGwAAOOPxtBsAAADCgcAbAAA4o1m9TfG0GwAAAMKBwBsAADij0aECAAAAwoXAGwAAOKPxtNtp4tCzGtCureInblGVM+lEObA4WW3bjtYW53OjHd+l6fFt1bb3ch1wJoXuqHYtzlS8yYu2bdtq/J+cyS1Ms+XZiXAS61ZLdUqV3xnrgJbcYo4DY0/vUtoy1jrWtby62LL3kQB1I+BxbotGm/NI8uLGn5GaU/lzA0yexpvz2ql3JCbwBgAAzlgn4zXTqvLtWj5xgJI7uQMj1UOneE3f6syE0FVWqdIZPWVVVeioM9pY5c9kKj17oyL6z9SynPt1Q5TzBRrvdKhbwJnuwyVK9j7nOkOn20drydZyZ6Yz2ClwnKs8duoeiQm8AQCAM9ZXX33ljJ0IVSpdNkDx8QM05bndat1toEZOXaRls+/XwIyBSu1YpaM8TtN43xmqgoOHVDwnVa2dSaec81M1r/iQDm0YqvbOpNAc0JrfbZc6TVP+r4aqV/9JGniD8xUaVP6n6Rrw/Sm1n1A5HepWo5RrS/YAdXvk9H5iCmeW6L4ztSx3mRlm6v6MVLXbu0bT741Xz8WlzhyhOI32kVPgONc+s0CHDhVr3q2n3pGYwBsAADhjncjAW+ni3kp+ZLtap8/Tjvf2avOKeZo2qp96DZmkeXPmKe+PezUvzZkZaJRyHdhr/nSObWTg7sxWuXeLtn9Y4XyCyRGV/mm7DpAlOI1EdU5Vr/ReZhiqSXPytPm9bZoWL+3Jnq01x5yZgsY+guAQeAMAAGesExZ4+3CJMrP3KKp/nl7NHaj2Z9ZjMzhhKlTBU5MAELxWsRp5fz8zskW7/uqeBDQ3Am8AAOCMdaICb9uXzlapUjVzRqoinWkNqjqgjdO824LrqG7DlmiXTyNgXg0k/3OXlgzrpo7V7dZM15Z/OrPVoWptpj3vgGcCtW9TqtldzbJ6L1f1t8ePatey0eoZ39FJU1t1jO+p0ct21WqbzG7w+pYlAToJCK2x5qNFyzX69k7V64vvP9ts10Z7Gb6Nhvsu17NtmWsDRKKOrVGm+a7jpO3OBOPoLi0f21OdnE4J2nYKvF31c/LHU2Ydu2nAtI0q9+k4t6bMjr6xRJnXu+cdXej7nb/yTdZrkJ58N3Wh/3RtPOR8abgbGM/QGuvD6gxnvoYb9j76hm/+Wu0dLX/Da6uLpqiTmd5t1h5nguPDJeppzf/ILvfnwtHm98la8qFfWtt1Us+xy/3qbV2qdKDA/DapJj0dv5+pJd7pMaobLbfq4+JMdevontcqs+l/CrAis29YZRvvmc9K00SvcnHafuqWbb1qtkYZzrpryqGOOhvC/hBymutQ9eFGTe+fXFNPzbYk+9UFt5o0W78ZX13G1nFkuUobCNC609tN060nKKvrk6eeegmwPeM3BTieHC+3j2fV8wXcN+pTu25Y65ryJ991uY8X8dXHwbYd4wPXv+r66pv+jj08x02/7bq+dj30zmN7X/bU+Y41ZeozvV28MhcHPqaciHIN+XhfSx37gcVr/6/mlLnPOaz/cvkdSRo8tlVz9uPqPLp+gGabfG6W/2s4x/qnSlX/CT6f3mr2fcTMd4KPJ77qKV/LIauOel9j+J0rLJ568J4p+4k93fN6XQfU2j8D5UV9ywhUzyxBnr/d5zvf9fsfQ8KFwBsAADhjWZ0rhN8ebd9kbg3S+unOoKNu5hJ4Qjdl/qZMXcYtstujWfRAoirMDUr63QGCWf9co9G3ZGp7p4e12J63u1S8RBm3WwG/urVOH6qhraXta1+ufbNlLpCXHJR6ZQ5UtPX5eKmW/DBO6Y+sUVXyJC1y2sgZ2rFcax5JV1crkGT/sPkcNRfZXX8wRWuOpWpajrW+Rbqv7UZlfP9Bc4tQP8+2bfzDi7VuzKoK12ij2mvkT0w+WY6aG46u6ZqyOUI/esxazzLNTK9yb5cnsBSEPYvvUv/fSnfZy1ikaWkmb3MzlfxAgLyxnoKcdkT3vXxIhw4d0qJ6XjMuXdxT8cNMuXd28j1npGJLraDdAD3r3KB2+am1zpFKsD50HWlvw7Lc+9TF/jYwO397T9GWVj/STKc87zy2RlN6d9WUImemrtO06N4oHVgwvXpd5pda8/+ma0/UUOX9P3uN1co2mRvHSbvU+WeL7TTMHBarg6un2PW2tKEgS+GD6jZiicqu+7mznfcr8Z/mZq/3XbVvtFShNQ8kKfO1WD1s1Q0zb3ezry0Z1FOzrRvhage05C5Tttsi1G+6tY0mTf2jtCfPlIun977oVHv7Z/a1anqCRtp5YYaf1pN7jdofgk1zYEcLx6urFYgsjaqup4smp0o7rLrQ09yoOjN62/NL9b5ltvSjJ9zbfm+MDmyaouT7TLqdWQKJSbPawZqpflaWVNenZbrPJ0sCb8+zw9I1u9iZxWLlVe94ZeYeUOeHnOPZqFjtM/tG/L3P1hPo8TiqLWPj7bqx70JPXTXbcs8FKvuwprH10tx0xdnHi+6aZB8vzDxD2qvcqn9dR2tLgAPU7icGVad/0QOpivqrOW7eNV8bzb6cnneBRnq26zOrHmZ67QNeTB4PGr5dsQ+aOm/mTY2yyrS35m9aort+uFwX2PvCIt1/c5U2Zqcr0y+gc6LKNaTjfZOV69l7TZmbc1jiZGebpt6pyF17VObMYQnm2GazjtHfN/vxH6qUOtmpQz+N1sYhXfXgZmeeJtj+pxfNv911Q+fg8+nq5t5HTvDxJCSfbtTo2ydr1zUj7WuMZbNNOX1knSvMsTlA/dwyqb9euGGZSsy57dCfR7qbPjDnvN5m/9zeup+mOds38EIrL5ID9lIacBmBBHv+Lppin++2f+tHesJZ/8jO5dq99wR12GAuOAEAAM5I//nPf07AsM41pE0b13ez/jfAd3UP6554xPXKJ77TXnn4u642ba53zXjbM+1d19zENmbaZa4haz7xmfd/s64x0y9yjftTzbRAw1u/sOa7xZVT6jv9j2MucrW5aJzrj0fcn999/PqA67GGtx6/yb2ul2qmrRtq0pU41/Wu13zuwZ0f1z/+rt90v6HMzHeRWUb3ua63nDR4Bvf6zHdD13lNr73cV35utqHNHa7cD2p++5//fODKvd07bZ+atFrbOsS1yi+/35ppbbP/72sP7rxp47po8CrXJ37fucvhMtfErZ5pnjKrnefV33lv1+65ruut7Zr5ltd8ZvhklZ0/F/38Fa/p7jzwzZc6Bid/a6X5yFuuGVYabs91feCZ9omZ9zIzr1nup+bzp2uGuC4y2+RTt8w0u0wSZ9Qqr09+90P7uzuWflA9zZ1nQ1zrvOb7z/q5rke2+tWvrRNd3/Xbfk9+X2bS45P21x5xXWOm++bJu67cX6x0feCTpk9cuT+wysCUudf0gGmyh9p1K9T9IbQ0Bxjq2R885dPmf3JqysxTF9rc5Jpbfbywhk9cK++ypjdcrwPWR2cIZXvc83oft9zDJ/lWPWr4GPXB0jvsdd30uN8+4D04+0mt9FjD23NdN1lpGvPHmmme+nrXSp/5PdvV5jJTD7yPBy+NM2n1rcM1efxD10rveZ201KofR/7oGmeVofe+FdZyrV1+wR7vAw/udQc8dtv5eb1r7m7n89/ceV7ruPXpp/YxxB4P+tjmHKNrbbMZ/pbjusPOj0D7rd/gWZ9X+j/95C3XuvG3mN+buuNVZ4PPp+bcR07g8SRgugOVr6e+1d5///PJStcPre96e9VnZ7/y2dc8w+5c1yO/895/zPBJrnsZ5jxUPa2+ZfjXsxDO3+uGW9vhe8y3hk8/9f0croEn3gAAAE6AqKgQHnczUkdMUoLfTxK6WU9olWrfB+7P1a64Tz9P8525c6rVM1mVKj51JtQhdsBQxWqX1mz0+r/941v0+xVVaj9qqLq3sibs0bNLS6UbHtY0v/VYYk1a+5l1LV/d0HNoIXhtjdZUtdbQqSMVa6ehRuyIB8z6GpaQYf0v+Xb9vsBr2w69qN+/Zn3Xz/0/6MdeNOmuUvTP7lMvv02L7XWXyZvteu1tZ0K9ojXyZ71qvUrcOdN6CqFCW17ze/bwih7q3tYZr8ee535tSjxVP8+MdaY4Invpzl5S1Wu7aj8BGYSqwuUmfwOkuVWsevU163rtNe12JikyVbN+ZXJ89RT96o3tmj5ujSIy8zSzq/O9l9Rxtcsrsu/P3U+QmLTW69aRmnSDXw7e0N3kn6n1pf5bGav77vd7dTu+h1LNeqr+6f2cSnsNfKifon3SFKnuN1v5uVsHDrqnhKax+0Owaa7NXV6B9werfB4eZ7bnjWe1xn97+j6gkVc44zaz7WlWjpbp/5r8iGqg7ekt68HBqgpPa/NOXqX93C8dJiU979SdJp+276qvBh/Qmqe3m7yeqWdG+e0DXtz7SYIenhLgdf4rTL3qb9K0Ym2tJ2X73dvPZ/72N/eyn/iKHnKfUr2/MMfeO82fnX8LkNa+A9XPe97vdFcveyE/0X3e9aOVqctmn9WuPdX77Iku1+CO983gwmj7+Fq6caPv66+tW1f3mBn0sc2kb405RrceMq1WHVK7oRra1xkPUml2N/drhmboGJesjNxdZp/NU5HX07vNl08h7CMn8HgSsgD7ryL7mbIzK9v6mnb5Pc18Z4rzNLm37wzUJPupYi+RZp/oZP6a/cp/zwq4DH8hnL/bt7Vq5Ba9uNl3BzFV8oQg8AYAABBmEWYo3ePfsk0Djlep9LXlmj1xvDJuj1f89Z3Udojdgldt13U2F5h+Lm5v3/js/rC+m1rjO/009AZzL5i3puZmsMDc6JklDh3gWWqZDprr+OibEwO/htQqVl3si+fSWhfPjXXgPSvs010J17k/+2gV5JVyp4EaatK1a+2L1a8MHVi73NxO9dLQe50tKS+301y+oGf1zVj1kOR+VXf3e8FsVXdde40z6i06xs6zWoGjLrG1yyyAsk+slG/R6Cv80maGzLXmq7277TSGquyQvdWaf3vt5SbPsrdapV6vd0beMUtPpB3Q/N4DtFy1XzF1i1Vil0BlY27Cv2P+BLi58lf13nYtf3y8xg/paep8vDq1c9qtq6WLOvvfCNa1nqpy7SlYoukTR2tAktmX4js67bk1VmP3hxDS7MddXnXsD0b7K6z32/aYeub+7BHbubMzViP6YrtG1g7gh6yLYjs6o9UidcGF5s8ez7a788pqm6m6XSXP0C7TLttSk091K9XuvfXktcPeT6JvVmIdwezYq6y97R2V+gSwnHLyFnmBosyfWv9R4hxzaoIlNWrnsZMHF17gGxQxWlttiVVVyLOUE16uQR3vm8H5/TRpbqqii2cruWNH9Ry7RFve832dMOhj28ED9n8CdO+WaH2qxc7TEET3tV4Rdb+SuCw3X9veO6Rt01MV6R1Ma7Z8Cn4fOZHHk1DF3tClOmDqLfoS+yrD7z8wYnVlHVlUVb5HGxdP1/hRA5Rsju/xHZ028mqpexk+Qjh/x46cp5FXVGjNsDi7fcDpz+1ReX3v2zczAm8AAABh1UU33Gz+bNyu7cE2JH50i8bf0NFuXHvth5WK6Xafpk1/QnkPpTozNKdoDczsZW5ylutZ+wK4Si/+YaN0w1D1sy7gT6ooRTTpf6Pbq19GgvTGGr1otxdUqmd/W6rWQ8y2nW/PUK3zCHe7QYGGmWkxzlz1a13PUxCto6zbeS/nhLBhF/Zy2sQJNNTfjlv9Omvk4kDLtIaZSvW5C2ytqAudbWgbYwcnAqn3JvhbkXYQOrCj2vJAvDommRuiPxxQZXR33Tdllp5YMUlNqvXvLVH6FfHqOepJbS+PUPv0n2vWY4s1L6MZgwxnsPrqvLeo9GkB6pgz1NeWniPq/CYdCFDtxB3vYwflqfi9bVpmtTlaMF0ZSR0V79/eZQjHtqimnQyqRXVOVa/0Xs7QXbF+5wK35sunYPeRFq3e/+yKUaRfHgY6D1htMFqdRWQu2K6y89ur1/2zNCtnngbWCh66hRJQDer8Hdld0179SMWrZ2rg5fu05IGeir8iPXAbimFA4A0AACCsonXXIOu9meWanlvfkx01DuRN17PlsZpkLhJ3rF6kedNHqp+5SUjtVFe4o2ncjUkf0Nr1Jn2HntXyQv9GtmPUznwof21n7camLcfdT6W0Tkhwv77psbfU/cSCtw/NvM5ovewL/e1656/ujz6O1Twx0pDoe4cqVbu0fO0BqfgF/f6gV6cKlvMjzdaZbYu40utmzHfofkUwN3y+T4hVK95ptkJKvMonZ4IWFWXW/c8qRd8aOG290jt7lVPwIqLsrVbrywMt0xp8b0iPFj6o0c9JQ3Nmqvve2cpcHKgum7INNPnYLm236kenK+tO64fPavpz5YqdvE0fvZ6vRXOmaWR/k47k2DqDfMHYMn+6dp3TT8v+ulebV8zTvIeG2tuX2M6ZoVEauT80QYz9mtR27arjtWfPE6JW4/AtS5SsKlxRFa3UWnXMGeLrq8Hu35duqyOvHTGX2AWinYE6PzDsp+paJyqhSeXe/E5GuTZ8vK9fqf/jd4Y7nQGcH6teD+Vp83slKhgVq/LnMjTZ6fUz6GObc4ze/nagp8arVNHkV6YDa2o+Be/EH09CFfip1Crt2mHtV7G6sqFMOb5FT07bpdZ9l6lk72blzZmnSUOsMk5s2jaFfP5ureibh2re6mJznpmn1HN2afrwAB1WhQGBNwAAgDBr3XeapsVLe7LTNWBZqblcrZ/7xsb/FZWjWvNcHa+aNlWr7up1b2sdeOYFrbFexWxtbjjSvS9WO+uuQeby+I1fanph7buc0tzZWmNukAf2qXn90L4RNjeUO717bjP2PLe8djAugPbJqeaCvFxLlm70683NXOw/8csGezWtdv6d6neHSWP+Rj2bv0TlnYZqoPfrZdE91OsGc+G+9Nfa2KQbuFItz9vlV7amzJ6Yb7aiu/re2rjbtYQ7BppbBXPTYupNc7JudhMC5m8AR7do8jhT9+5dpGn9h2rm5FiVzsrU/ABPCqx55lkd9Xuyc88Cq7x860ctH7qDtF1ifZ9EO2q/3tVYB9yv6LW7UrHe7/wd36MX8urKz31+ryMGEvr+0FSt0/qpl6ldy7MD9A5ryueXC8z23NxXPZo/KmAdkJpwY5pgH1tU+GQjnyxJ0MCfmbx+7dGAee3Rue+PzPFil345M0Dvj+8t0ezVUlRGP7O0luWklGuDx/u6uANEem2n9nin1exP1pPEPo5Xqcp7nlaRSviR1eaWOdb+nzu8FPSxLbq7Us0xO9AxuuqN2fqlE8hrdqHkU5P2kRN/PAnZ6uV69p/OuEfxr+y8D2q/OlRqjqzmvN4p1vf16+IX9GxTnjgL4fxdVeV7dm79nYEa2MuMfHig3qB+cyHwBgAAEHbtNXJVge6/oULbH0lWx449lTFxtpYXbNTGFbM13m57qpPGOzcQ3ZOtq8E1evCH093zFCzX+KRr9ftj4bvw7v6TkWpf/ltNMTd6gRqPjn0wT9PiK7RmSJySxy7RGidd038Qr+TsPeo8tcCnsf3O995nbiesNsGSNX6FNe8aLRnRTT33xgb36mCnBzTz3ihVrc1U1941+TD9B12VWZ4QwuuHrdUvc6ha731Sj66uqulUoVq0hj45TZ2r1ijzmmSNXrzGrMdJ77QM9fxBsP8bbm4oXktX10HmJqm6zOI02pRp56kzNTCIjhQCunmSlvWPUumsZMX/wJMPZjD1ZnT/+Oo6E7K2Q/XE1M52/sYljdaS1c5yVy/R9CE9lZ7r2eqj2jgpU2sq++mJ6VaHHWZLRy3W/e1KNXv4fL9gQbQ6lz2quFvGO+lco9mD4tVzwQFF9V+kSQE6Y6jW7WbZtf6BdE2368tGLZ+YrGufMWXmnqMR2iv1VlPa781Wxginzq424zcM0hvta79q6mlP68lpS+y0T8mtO7wb6v7QZOf3069W9FNU8XQl31CTR2sWj1byNVY7eP2U95vmfhqnvWKtJ62Kn9T0xVbeTdGSP7m/CUX3KcvUL8rUl6R4pU9bbqfbLt/HzXHv+vENBtE7TwyU12b/nDhAmcucetppkvJMfa5YneFTn5dPS1d80nTtiZ+mgoDtEp5kJ6VcGz7eB9ZZA0ebCnFwvnp69nFzvMhM7qk9V/kdkQ8uV+8renodT83xcKjV5laqfpTubE3Qx7b2Gjp1oKKsY3RXr+ODKduuw8qVcKszWxg0nE/Ns4+c8ONJiKLjy/RovOdcburn4xmKv32+DkT106KHgtiv2qUqtZ1MWWco06kT9jIGv2GOu848jRL8+Xv7hI6K719Tz6z1T15rSvBnA09IQJ7AGwAAwIkQmaBJGz7Sjtz7ldqpXNvz5mvKiExlTpqvZ5/bon1WQ8mXumdt3fdXKpjaS1F7lrjnGfusKkdvVt4I35BRs+o0TCNvqFBFRXv17ROg/atWsRq5oVj5D/SSNk/XaCtdI6bo91XdNe25Ym3273HwOyP1woZp6tXugJ6dZM37oF6ImqbiZUMV3KuDrZX6qyIVPNZP7d7z5MMS7bluljb/ytyoOnMFpVsvDWxtbZtXpwrerhipDa8v08huVXoxe7RJq1nXqCn69Y4o3fWgf6CuLl00ad02PXzhFj3o5M0LX3bXyN8EyJuQRFbnQ3SJkw9mGPXERpVf87BG3ujM1gixozaY+jhS3b98UdPHupeb+civtT3yLj2c7t7qo2tHKXNtlUnDrJpe41p11gOzzY1wrVdOTX4tLFJe+gE9Ocpa3mjNfyNa/R4rUFFOgN4mvVkBCKu+XLhbS+z6MkrPVo7U5mesnmkbL/bBAi3L6KyKTU6dnfmGOv/qVc0MdLOeNkv5Izqr0sxrpf3FI/XUslD3h2YQmbZIRX+ep4FtD2i5nUeZGv34LsUMm6dtRYt8e+FsJqkz8jXymkptzDbre+BF1ZcldYpM1aLXCzSzf7RKfzPFTrdVvk8WlKvzQyMVuMl8L1Zer9uhZSO6e+X1g/r17milJjjtNxmxozar+Ln71UtbquvzlOcr1X1qvoo3BOg1tIU4GeXa4PG+Du1HvGCfm9offNZ9LJrwgi6YWqy8QX4VIzpBvROqtGWW53j6S+2MvV/5b+Z59QAb/LGt9a3zVLRhpvp1LK0+Piz5a4Jm/XGR+lkdFYRLEPnULPvISTiehCKqz2IVreilA/PdZTQ6Z5ei+89UQdD1M9acH5dpYHyFySd3nZhe1FlP/HmmUpu6XwZ5/o691dSz0uXV9ezBZ8rU41fbtHnyiXk//yyX4YwDAACcUY4dO+aMQSrX8t7xmqKZ5iZ1aLM/YdGsjm/UaKtHxHvzdOhX4ehwAiErHK22Q3Zr2uvbNPKkd8oBoH6n0PH+pCKf0Dx44g0AAADS3t9oyRvhajy6me3YrhfNn+4Jje/PEwDOWKfS8f5kIp/QTAi8AQAAQNt/u0QHgm5k+yQ6Xqol2ctV1YQOCwDgTHbKHO9PMvIJzYVXTQEAwBnrjH/V9MNnNXvTBYr5cLam5B1Qv9+8o0V3hKNBocY4oOX3ZmqL1Shz8rWyWnKqPLhFy5c+q13lUer+q0Ll3xvGNu8QGl41BVq2Fn28b0HIJ4QBT7wBAACcqVod1ZbsTE15rkK95m5uYTcXMepya4zKtvy2ujHk0bNeVEXsSM17uYigGwCEokUf71sQ8glhwBNvAADgjEXnCgAAAAgnnngDAAAAAAAAwoDAGwAAAAAAABAGBN4AAAAAAACAMCDwBgAAAAAAAIQBgTcAAAAAAAAgDAi8AQAAAAAAAGFA4A0AAAAAAAAIAwJvAAAAAAAAQBgQeAMAAAAAAADCgMAbAADACVK+abx6dmyrtm3bqmfuAWfqybJFo0062o7d4nw+jRzfpenxZtt6L9fJzuUz3YHFyaa+jza1rWHlzw0w88Zr/J+qnCkIyRlb75vnWLZlrHVsDq6unlwHtOSWU+jYfehZDWjXVvETt+j037PddTF5MWce+CLwBgAAcCIUTVHysGd18Mb7tSh3pu5q60xH86uq0FFnFKeOymOVztjJ4gQ0bllyagauqPdoiSqrdLL37FNR+dYlGn17vDpaQWVr6NRTo58rPQOCl6cnAm8AAAAnwJbfL1eF+mlR3iT1Sx+qkentnW9OTeV/mq4B35/SMp8OOT9V84oP6dCGoTq1c/nM0j6zQIcOFWvera2dKQgJ9R4t0XeGquDgIRXPSdXJ3bP36NkhPTVg2akQVj+gNbN+rQNd7tMTucu0LHemBl68R2seSFbvk/60PBqDwBsAAEDYlavsoPnTqYtiW7mnnOoq927R9g8rnE8AALRkZXqtcI/KTolHxtpr6LpiFcwZqX7pvdQrfajm/blAI6OlPb/feIa9Sn56IPAGAAAQdpU6+qkzCgAAUI/W/o8HtuqiLtc54zjlEHgDAAAII3fj8t00fa/5sHe6utnttSRryYfu7y1Hi5b7tuXSMV49xy7XLv8GmwpHu3/7Xrk2Tuzpnj+I9qjcy+/kXrYZ4vvP1pZ/1vHf/v/cpeVjeyre6QSibbtO6jlxo8qPO99/uETJZnq37FLzYY0ynGX6NPTd0DLqc9xs27QBSu7k/LZtR3Xrv1x7nK89qj7cqOn9k9Wpndc6Jm1Ruf1t3Y2Pl2+yXpHt6LXs6dp4yPnSUd0hwPGj2rU4U90829Gpp6b/KXArWvWnx+3oG77l0On20Vr+RnO2ylXTsPfRN5Yo07OdHWvS7TO9XbwyF++q3S5YKOXnP28d5aUAeTl+k3fuGJ767bVv1Eyr0oGC8erpqRcduylzWeD2joIp46YKtixr7duBtru63Eq9OmDx5ENNmVp1bHz1Os12DVuuUp8MCFTvQ/m9wynT6rp8/QDNNvVnYwidDwS13Y0o25COZXWpY/vqWkrQ+61z7Kqu42Y7Bkzz32+8Gt8/ZB0zulXnUXMcD5q1XtZ3vgmp7Ly2uVro9TJw2W+0l9NQRxPujjMyzBlLKs3u5izDs48ZVQdqn3eGLal9Dg7y/OTrqFm/le5OGvCMdd50c5eVbxlM+ZP/scHLe0v0ZKHU+Ue9eJX8FETgDQAAnLHOOussZyx8YtJm2u2z9Is2H6L7aabTXkuq9dkozU1X3A+maM2x7pqUY323TDOHtFf56ilK72pucgPch22Z1F8v3LBMJYcO6dCfR9Z7EX7U3CB1tZefqmn28hfpvrYblfH9BwPcQJsb97vSNWVbhPpNd9LSP0p78jKV7OmRLjrV3oaZfa0NSNBIe3vM8NMu1rdGEMuoU7mevTdemb8pU+Jk928XTb1Tkbv2qMyZw2JtU/z3M7WkNEo/esxZ/2M/0gXlB+ptxLt0cU/Fm5upA50naZH1m5yRii1dokxz4/1srcBMhdY8kKTM12L1sJVvOferu7m9WjKop2ZbQVQvwaTHLofeU7Sl1Y+q68Cdx9ZoSu+umlLkzNRc9vxSg4ZvV+yDi+10p0ZZ6e6t+ZuW6K4fLtcFPzPTTT24/+YqbcxOV+Yz3jd7IZSfuRHseY2Z9w9V6v7QIvd250xSwpFSn/KqKy+fHZau2cXOLA3Y/URvJT8uDZzjzruBl5gb5UeSNWqtb40KrYwbJ+iy/HCJept9b3vrfprmzDfwQmu7kwP33PqnKeqff4OWlZj9+tA2jfyOM91iyrT3LbOlHz3hLpN7Y3Rg0xQl37emgX3KEezvj27R6O+7yzR1srtMF/00WhuHdNWDm515GhLidgdbtqEdy+oQ4vYFXdbHS7Wktzl25R5QZ2dfWDQqVvtyMxV/77M+AXjbpxs1+vbJ2nXNSC22ljvb1NOPrOXepSXvOfOEKFz1sr7zTbBlV6cg62VTy77LT63fjDRnLHMK62udk93p9ZyHt0zoZp93uoxzyu6BRFVsmq70u73/Yyu485Ovo9o16y5lrK5QwvQC5Q+KdU8ummKX1fZv/ai6DbeRncu1e28dZ7BDa5TZe7bK71ikZ4YRdjsluQAAAM5Qn332mes///nPCRjedc1NbONqkzjX9a739N1zXde3aeO6bOg61yfe063h7bmum8x3F435Y820NUNcbfyn1TeUrXMNucist/tc11tHfL97d/4d9rLamHXXTH/XlfuLla4PfOb9xJX7AzNfmyGuVV7T3338envauur5PEPwy6g1/M29zdfPfMt3+qefuj71jJfmuu6w0h1gm2oGJ7+9t83J61rL/mSVnUcX/fyV6mnubQtQLq894rrGTPeeN6j0OOVw0eBVvss78pZrhpXO23NdH3hPb/Rg1mOlpc0PXSs/8ZrubHubNpe5hqz5pGb6kT+6xln1w2f9QZbfkVdc4y4z0y4zdcB7XX5DSHlp1+/rXXN3e83n1Pla+fvJStcPreneaQ+hjAMPdeyn3kMoZbk71/XI7z6omccaPsl1p9v8vma6U24XjXP9sVYd8pTpTa65b3tP/8S18i5r+h2u3A880wLU+5B+/6lr3dCLAsxrBud4FHif9xuC3e5QyjbkY1mgoZ7t+1uOez/23r4Qytpdz693zfBb7if5Q1wXtbnINe5Pnmme8qg9b8DtDjgEKOdw1Mv6zjehlJ2zzdc//m7NfKHUy3rK/q3Hb3Kno8Gyt4ZA6XAP6554xPWK33HslYe/a5btVU7BnJ/81uFJ302P+/5m3XBrG2ufDz/91PezPbxtzjHmWHvZUFO2fvMznDoDT7wBAIAz1tlnn9xLoT3P/VqlStDDU1IV6UyrdsVITeovVa1YW+t/9O9M6e6MNWDbGq2paq2hU0fW6tSh/ZCh6ueM12ivgQ/1U7TPvJHqfrP1v/S7dcDqIKJBTVjGhdH20xSlGzf6vmrUunV1b3gH1i7RdpNnM5fX3qb6uPM6VT/PdJ448IjspTt7mXx+bZfXkw2WWN13v1+5xPdQqklI1T9rnl8JJj1VhctNOURr5M96+S6vVax69TXpee01kzPNqO9A9fNe0Xe6q5f9xOVPdF+a1xetuqu72Xbt2uO17UGW35+Wa3mFqVvLFim1VuX1Fygve8t6aLKqIrgOOvrd75e/kWabbjZ/y/5PniWEXsahC6ksvzNQk+wnQ72YdHfvZP7+7UDttPQy39VVp/s+oJFXOOM2UyZp1nGgTP8XzNuJwfz++HatWV2l1kOm+c1rmOPRA32d8YaEuN3BlG3ox7IAjm+pe/vaDdVQv+0Lvqz36NmlpVLaz2stN7LnnbpTVdq+y2+rA8yryH6m7poDjFnurmBey/cSznpZ3/kmqLKrTzD18rW6yz52xAPBlX0DUkdMUoLfcSyhm5WOUu37wP05mPNTjSqVr81UevYedZ68TRtG+R6T2re1lrRFL2723XlrtetmPWU3aby2d5ymgl+Zsq3r+IAWj8AbAAA4Y53swFvZJ+VS9M1KbOtM8BN7lXWx/o5KfYJVsbrS9xq+Tgc+tG61uishUIPMrWrfKtiqyrWnYImmTxytAUnxio/v6LTnFoLGLuP8fpo0N1XRxbOV3LGjeo5doi3v+b6yVPo3s5x68qwudl6bG53RV3ja5qkZMtear/buNrdY3rqos/+NscyNl/X6n9fNaTDpKTtkzV2u+bfXXnfyLGutZt3e7Zo1UWznzs6YR6QuuND8ufAC35tyo/U55p+qCt+b5CDK78B79dStWrootqMzWs1J057SIIJhsepiBQV8RCvGyvP39lX/PvQyDl2oZVlVvkcbF0/X+FEDlHy9ycuOTnuPAcR2qnvHrl2mJgcutoInXoGBegT1+4OldnCme7dE92c/dl0JUvDbHVzZNupY5u/ggZC2L/iyLtNBq+oVjq5pr8sztMt0tytmHSe8xN7QJUCwxmz5JVZAJtj/5KgRvnpZ3/kmuLKrTzD1st5jTbBl35DjVSp9bblmTxyvjNtNflzfSW2HWCXnJYjzk0fF+lFKHrVRUUPy9cK42FplHTtynkZeUaE1w+LsNganP7dH5QEXtduKmSq2T69aQUecWgi8AQCAM9bJDrw1Vig3wFKUIoK9N3lvidKviFfPUU9qe3mE2qf/XLMeW6x5GUFG+ixNXEbsoDwVv7dNyx7oLhVMV0ZSR8U/sMW3A4DIrwe8aW3Qhb2cNo0CDffJ00pdyIJKT2eNXBxovdZQ09bQSRdS+QVft1qfqJvGcJWxj+DK0mq/sWN8T2Uu2K6y89ur1/2zNCtnngbWCug6miuI0ERRQR8wAgt5u4MWwrGsHqFtX/D7bVT6tADzOEN1G5iOess6RpHnO6MhCU+9DO18Ey7NU/YBHd2i8Td0VHL/6Vr7YaViut2nadOfUN5Dqc4MNYI6PxlRlyeqS5R0YNtGveP/pSWyu6a9+pGKV8/UwMv3ackDPRV/RXqA9v2iFGW2u6Ii0EJwKiHwBgAAzlgnO/AWc4m5Eyp/TTvraPTdfkqidaIS2jkTQhQRFWP+3a53/ur+7OOY31NOxpb507XrnH5a9te92rxinuY9NFS90nspMYT1N8cydH6sej2Up83vlahgVKzKn8vQ5EL3V1HWXch727Wz5m3PoNi/+2eVom/tZaen9tBZjYl9BZMedzmUq/XlgdZrDd0V26gb7eYXbPm5t+lFbX/T/bklCFcZewu6LI9v0ZPTdql132Uq2btZeXPmadIQ6/tE+3W1FqmVOdyYP9vfDtRHY5WCuvcP03aHeiwL6PxI2UsJcvuC32+d4EhVtFIDzmeGeN+a5/8EnFuVdu2wjvmxujLEinp610u7Vjat7OtxIG+6ni2P1aRXP9KO1Ys0b/pI9TN5ltopypnDTz3np2qdRyp/wzR1/nC5Btw9P3DvwWZvi755qOatLtZHr89T6jm7NH24fy/lCZr50SEVT679ZCBOLQTeAADAGcvq1fScc07ef+d37vsjc7OzS7+cWft/zK0nj2avNrd0Gf3sntgaI/r7qTK3BVqydKPf8s0N3hO/9Gs77oBKrXvBdlcq1vt9xON79EJeoJtEyz6/12Abswwvx6tU5d22UatIJfzoLrMN5pby/9yRrYQBVq962/VodoA8q0fCHQPNbY656VwWRDpCEEx6rEBQQsByaGmCL7/o9B8p1dSj5b9YotIQ26MKl3CVsbegy/JQqdk7pPadYn1f7y1+Qc82stfKsGuXqtR2Zl9b+mtt9Nu4qjdm65f+wYVAwrTdoR3L6hDdXamdgt++4PfbBPW6t7VU+GTwPZKuXq5n/+mMexT/yk5DY475p3O9bJ+cao6xTSx7L6X2Qa6G+7P/6/BHteY5v1dNgzg/+bhipF5YMdD9auoPfI+TVVW+kbjW3xmogVZ7mx8eMFuK0xGBNwAAcEY7mYE3dZqkvKmdVbE6Q3FJo7Vk9UZtLNio5dPSFZ80XXvip6ng/zU27GZ8Z6im3RulqrWZ6tp7upabZW8sWK7pP+iqzPIE+b5I016pt7aX3putjBFLtMaad7UZv2GQ3mhf+zXD9ldYr07t0ZPTlphlrtGUXOv2J7Rl1HJwuXpf0VOjF6+x88FK6/ihs2U1mP+jdOcRkPjAebZm8XgNGLa87naFbp6kZf2jVDorWfE/8OSFGVbM1uj+8RofTFAhkGDS03aonjDzWOXgPc/G1Us0fUhPped6Ul2uZ/u3tdsWCtxyULiFUH6R/bR4RT9FFU9X8g3pmr7C2SaTnxk9poR8M9wsmquM/7lbWzy/9Rq2W+05BVuWThCrdFaGMp36vObxDMUPfsPsO+5ZWp5YPTB7oKKq1iiza02ZWsejrsPKlXCrM1t9wrXdIR3L6tJeQ6eGsH1B77dS9ynL1C+qVLOT4pU+bbl7PmvZj4/WgOvH19ofouPL9Gh8ssY7abDz6Pb5OhDVT4seasQx/3Sul50e0Mwml73FaZPuudmaYuXP4tl69kNTdslWxGuNHvxhzbLHJ12r3x/zK4dgzk9+ItPm6VXPcbJ3TfBt+4SOiu9fc4yyymDyWlNDfzbQL+h6QEusdvvip4fc4QZaFgJvAADgjNaq1cltsTh21GYVP3e/eplbs+ljM5U5IlNTnq9U96n5Kt5Quxe30LRW6q+KVPBYP7V7b4mmmGVnjl2iPdfN0uZfmZsBZy6P2AcLtCyjsyo2Tddoa96Zb6jzr17VzEA33GmzlD+isyrNvJkjRuvFI+6lhbQMf9EJ6p1QpS2zRtv5kDnql9oZe7/y38zz6aUzdtQG7cgdqe5eefbg0ncUnZpov0oWWGR1XkSXOHlhhlFPbFT5NQ9r5I3ObI0QTHqq5/nyxep5Mh/5tbZH3qWH052XvI67G9K2evWzXq46GUIpv8i0RSpaN1P92h7Q8knONs3aqKqbU5upLbVQNVMZl6+p/q33MKWwzP46qLI0N/mT1i3TwPgKbcx21+fpRZ31xJ9nKrUFN5Le+tZ5KtpgyrRjqZbYZTpKS/6aoFl/XKR+VmcYDQrXdod2LKtLqNsXXFkbkala9HqBZvaPVulvprjnM8t+sqBcnR8aKf/uHKL6LFbRil46MN+9zNE5uxTdf6YKioLpJTiw07deNk/ZW4HXkU/NU6+2e7Tcyp/HSxVxvll631+pYGovRe3xLPtZVY7erLwRXuVrCfL85M86ThZMT5Cs4NsP3cG32FvNMap0efVx5sFnytTjV9u0mVdKT1tnuQxnHAAA4IxUWVmpL7/80vkEnCTFsxV/+xt6uDhfA5vaGBnQzDaOsnqHHai8Q/NCeMoIvrZodNsM7Z66Q9tG+QV2ELrjGzXa6jn23jwd+hW1Ei0XT7wBAIAz3rnnnuuMASdP+Z43VN4pVd0JuqGlOb5d2zeavzffcJKeZgQC2LFdL5o/3ROolWjZCLwBAIAzntXO20lt6w0wdr22XbEDeonnYNDSlOZO1/IqqXvfHk3uGRZoFsdLtSR7uarUXX1vpVaiZeNVUwAAAMN61dR65RQAzlQHlg1Q5jark41UXWu1eVZ1QFt+92s9W1SuqJR5KnxuIIHhJuFV09Ad0PJ7M7XF6hgi+Vq73czKg1u0fOmz2lUepe6/KlT+veQlWjYCbwAAAA6ri//jx+k6DMCZqapoiTJ/8Wvt+mu5KpxDYdQV3fWj0dP0QP/OimzBHUOcGgi8ha5Ku3IzNXnJLu05VOGe1CpKsd1+pJHTH9DAaxrZGwVwglideBF4AwAAcFiXRZ999pnzCQAAAGi88847jzbeAAAAPM466yy1bt3a+QQAAAA0jnVNaV1bEngDAADwYr0SYA0AAABAY3hfTxJ4AwAA8GP9DyW9nAIAACBU1jWk9xsUBN4AAAACsC6Yzj6bSyUAAAAEx7p29G+2hKtJAACAAKw2OSIiIgi+AQAAoEHWNaN17WhdQ3qjV1MAAIB6WJdKVVVV+vLLL50pAAAAQA3P66X+QTcLgTcAAIAgWMG348ePO58AAAAAd0cK/q+XeiPwBgAAECQr8GYF4AAAAAAr4NZQb/gE3gAAAEJgXTr997//5ek3AACAM5QVbPva174W8NVSfwTeAAAAGsFq8+2LL76g7TcAAIAzhNWW27nnnmv/DRaBNwAAgCYgAAcAAHB6a0zAzYPAGwAAQDOwLqms10+tABxBOAAAgFObFWSzBuu10mBeKa0LgTcAAIBmZl1effXVVz6DNY3LLgAAgJbFCqpZw9lnn+0zNCXY5o3AGwAAAAAAABAGZzt/AQAAAAAAADQjAm8AAAAAAABAGBB4AwAAAAAAAMKAwBsAAAAAAAAQBgTeAAAAAAAAgDAg8AYAAAAAAACEAYE3AAAAAAAAIAwIvAEAAAAAAABhQOANAAAAAAAACAMCbwAAAAAAAEAYEHgDAAAAAAAAwoDAGwAAAAAAABAGBN4AAAAAAACAMCDwBgAAAAAAAIQBgTcAAAAAAAAgDAi8AQAAAAAAAGFA4A0AAAAAAAAIAwJvAAAAAAAAQBgQeAMAAAAAAADCgMAbAAAAAAAAEAYE3gAAAAAAAIAwIPAGAAAAAAAAhAGBNwAAAAAAACAMCLwBAAAAAAAAYUDgDQAAAAAAAAgDAm8AAAAAAABAGBB4AwAAAAAAAMKAwBsAAAAAAAAQBgTeAAAAAAAAgDAg8AYAAAAAAACEAYE3AAAAAAAAIAwIvAEAAAAAAABhQOANAAAAAAAACAMCbwAAAAAAAEAYEHgDAAAAAAAAwoDAGwAAAAAAABAGBN4AAAAAAACAMCDwBgAAAAAAAIQBgTcAAAAAAAAgDAi8AQAAAAAAAGFA4A0AAAAAAAAIAwJvAAAAAAAAQBgQeAMAAAAAAADC4CyX4YwDwCnliy++sIcvv/zSHr766it5DmlnnXWWzj77bJ1zzjn2cO6559oDAAAAAAAnCoE3AKeU48ePq7KyUv/973/VunVrfe1rX7MDa1aQLRArGGcF5az5q6qq7PkjIiLUqlUrZw4AAAAAAMKDwBuAU4IVcPv888/tJ9rOO++8RgfOrOV89tln9hNxX//61wnAAQAAAADChsAbgBbv2LFjdsDsG9/4hv10W3OwnoL7z3/+Ywfezj//fGcqAAAAAADNh8AbgBbLExyzXg21XisNB+v1U+vV1eYM6gEAAAAAYCHwBqBFsjpN+Pe//62oqKiwB8SsAF9FRYXatGlDBwwAAAAAgGYTuDVyADiJrKDb0aNHdcEFF5yQp9CsdVjrstZprRsAAAAAgOZA4A1Ai2I9fWY96fbNb36zzp5Kw8Fal7VOa91WGgAAAAAAaCoCbwBaFKtNN+v10hMZdPOw1mmt20oDAAAAAABNReANQIth9V5qdaRwMjs5sNZtpcFKCwAAAAAATUHnCgBahOPHj9vBLuuJs1AdPHhQK1eu1N/+9jf985//1He+8x39/Oc/V2xsrDNH6KzOFs4//3y1atXKmQIAAAAAQGh44g1Ai/D555/rG9/4hvMpeAsXLtS1116rJUuW2EE3K4D3wgsvKCEhQQ8//LC++uorZ87QWGmx0gQAAAAAQGPxxBuAk84Kln322WeKjIx0pgTnd7/7nUaPHq1BgwbpySefVOvWre3pVsCsb9++ev311+3PFiuQNmbMGE2YMEFf+9rXnKn1s3o5Pe+883jqDQAAAADQKATeAJx0VmcGVrtqoQS4rNdSr7nmGvXo0UNPP/20M1X6+9//rmnTpik/P98O5N1000266qqr9MYbb+jVV1/VlVdeqTVr1qh9+/bOL+pmBQQrKysb9SQeAAAAAAAE3gCcdNYrohdeeKHzqX7Wk3GTJk2yXyf997//rT179thBNOsptyeeeMJ+8s16Ss2aZ/jw4T7BvOLiYt177712222vvPJKUAG1UNIGAAAAAIA32ngDcFJ98cUX1a+INqSsrMx+wu23v/2trP8zsAJsVtDtH//4h93O29y5c5WZmWkH2O677z57nmeeecZehyU+Pl7PPfec9u3b5/OUXH2stHl+DwAAAABAKAi8ATiprKBWsG2ujRo1yu65dNGiRRo7dmx1wM4KyFl27dql2bNn64ILLlBBQYFuvPFGZWVl6frrr9eGDRvseazgW3JysrZs2WJ/boiVNgJvp5JCZUZGKnH+fudz45XlpSsyMlZjNlc6Uxrh4/Ua0z3afu05MiVHTU9VC/XxSqVfGKnYcYVqQm6dXGdKWZ00+5Vzo8nbEYXO59NT4QizjZGZ5kjUsuyfn9gi0+UWoG4EPKY03/G9OTTLOaKxWtjxqqXW++ZQNDlWkRf2UO4HzgSEWWjnipNePpsyTd1PVM4pUj+oz27uc+KJLTcCbwBOqi+//FLnnHOO86lu1lNsmzdv1i9/+Uv9+Mc/tqd53pS3ei696KKL9N3vflfvvPOObr/9dvuVU6udN+t3VqBt4MCB6t27tx2469ChQ3WwriFW2qw0njQf5CixoRsN+6QfqcxNzueT4bj7hqj/6lM27FJL5bEm9mp7vEgTbszQyv3dNDE3T3Pv7uB8cRqqqtQp3QfwmVRWaBmcY7sdOPEa2qVkKufPwZ2fTmunwDGlyeeIxuJ4dQJV6sgxZxQtEOUTGvLrZCLwBuCksoJaZ5/d8KHIeoLN6oDB6sHUw/M7KwBnddAwYsQI3XPPPXbbbVZbcAcOHFBUVJT9hNymTZt06NAh+ym4jRs3Bt1um7WOkxp4O1XsLFSB0nTPHRHOhFNfh5+9rKNHS7WwZyO36c8rlVshDcgt0NR7+2jE6D46bW+PLh+hl/95VKUL0nRK1oAzqazQosT0n6u8FXlmmKuJP0lTx7/lK+sHsUqaX+LMEYpirbwnSelLT4PnNU+BY0qTzxGNdbodr95Zqf4p6S30CZwIpS0o1dF/vqwRlzuT0IJQPqEhv04mAm8ATirrabVgHDlyRNHR0XbHCB7efcNYQTYrmGa9brp69WpNnjzZ7lzh7rvvttt0u/nmm/WXv/xFDz/8sD799FO7x9JgBZvGM1lx4TpV3nGP0muK54xX9rF18xun6+Lcn9FyUVY4WS6Iv019+vYxwwhNXbBar36yUzO+Z46pU7OVH/KTCWXauqlYh0+fB48RwGl3vPp4qwrfOqwq5yMAnI4IvAE4qbyDZ/W55JJL9H//939276UeZ511ljMmde7c2W7fzROY69OnjyZOnGgH5NLS0jRhwgT7qbgpU6boN7/5jYqKiuyOFoIRbBrPXGUq3lmmtAHpp+bTTmFSWXHYGUNLR1mhxWgVp7ETBpiRQu14xz0J8MbxCgBOPQTeAJwS/ud//scOuuXl5dmf77jjDvsJt/79++vdd9+1pwWSkpKit99+W6WlpXbbbxbrN3feeaeef/55+/PprKwgS+nXOQ0wR0arS+8srf/Y+dJR3eh2RZFyBsW65/Vq1LZiZ64yU9o5y3C3QZS7s8L51hKjwRuOanV/v7Db8TKtn5yuxHae9ous9eeq2Pm6TpX7a/9uUI6KvFcZjI/XK6t3F0XXmW7D0yjuPpPWcUnueW90Gqquq8Fck0+5I5LU7kInfe2SlLm0SNVLdtpu6jLVelWsRFnXuedrsEHw4xUqWpqppFhPeUUqOtZv2WZ52Z3Nd52zzVhtJTO6mN/1UK5XGTe+DvwmhHXV3eh5vesvW6l0Mz12ul+tcNoMjOy9Uj6tXR1fb0+vNX8AlR9Y5Z9YU04XtlOi/7Y3tqxUqf1rzXYl1OwXVj2YsNm3ba6Kv1j7Tmx1HYyMjlXSiNzadbm6rpk6MD9DXaLd80d3z1Lhp9YMvtMjr8pQjn9d9iqDip05yvDkeXSSsja75/WZfmGsMuZ7160aQeWdrWad1m/GVB8nrH02VyX1PHlVuTrDnjf9t4HaM3PqeWqub/n7qLvOBdx3gzweBbO/2D71Ow5cla5sk8/N8rBZK+ufSlX+J/h8et5u3L6/8q2pU6190/oc4PhlHWe865Kpt2MKAiw7qOORW/XxI8CyPXUvdPWUr6Wpx/cA+3D0dQH2q3CcIxzuc6vX8SHAMcRHEMer0PfdElPnxyjJLrMA2+IvlHrf4LncnYbIe+xaW709NWVkNOl6oHYdbpcyQYX+WexsU6yn3vodG+rqmKThayOjuo5Y9c3ks2c7orsoY2lJ4HxrID22IOtYUKrT6Lv/hnb+MfzTbepe0rj1Kgvwgkmgepr0YGHt471ZZs4g7/18TK26HKh8Qj4mOeeH6vlM+aRPDpz2oAVbRkHlW02HE/Z5/Cr3vO62nb06o6iVX54yrFE7v0L7vc3ZL2vyy2xbXolK7GUHcRwJJMh9PeSyrSOtzXKuDpULAE6iTz/91BlrWP/+/V0xMTGuTZs22Z+/+OIL19KlS10dOnRwXXHFFa6///3v9nTL8ePHXffdd59r4sSJ9ucpU6a44uLi7HHLnDlzXG3btnU+1S+UNDa79xe4Etq0cSU8+ZEzIYCNw1xtzDzDNjqfHXuf7G5P7zx4gWvVmnWudb9/1HXXFW3MtN6uFTVZ5froyQQzLdXVu0+q69HXjzhT3Y6YZV9mlnHZrVNcS61lrFnqGn2DtYzLXONfd2YK6LBrxZ1mvm8muEY/Zf1unWvVk8Nc3S8e7XrJmaMuLw13/27Yk6vcv3ust52GNskLXPXkguMl1zArvx5Z4Bpm6kTqpKX2MtY9NcWVepmV7u6uBSXOrBY77xJcve9McA363Ueuz53JNue7Be87ny1HzPKt5VyW6pribNfSsVb+mTyasMM9z3/2ul6xpg+9wky/wjVsiXu+V0p8lu7ri72uBbda6TNpH+6Ul8nrKWnWMsyyh7/k8pTM4SWp9nIffdOZUO1t16NW+Q5cVb0dTa0Dwa/LyXe/etrw+g+7llrb3c2vbF8f77rY/K5Nm7tcq/7jTLPY0wOlx9eRjaNdV1i/v6KmnKz6l/BNa5ledaAxZWVK4qXhl9nbdUWaZ78wy5jU2zVoSc1W7F1o5Z1Z3w3DXAt+75kn1Z2uy4a5XvLe1Zy6Nmy4+b7fo3ZerXrsLve83R53rbPyMX60e10mD3vbddm3DKvLYOgwV2qnu1yPWuuszu8E1+PrF7i6f7Ozsz+ucj3ax70NvZcfdn7vFnTe2WrW2f3imn196X2d7WV710VTy1wLuplppi7bvnjFNf5i8/nOFaYW+HHKf1B+feUQuM7Zau27wR2Pgt1fqo8D3scpO48uc11ml40pX2fWOtVzbH/lgYvd67QyJsh8OvymtV3mOGc+XzHUOe6tecW119l/3Pv4XaaOXVFdx2rqUmfffSqE45GlwWX/1ZmxTn51wxaofJ1pzXZ899q+6vSaZXgf8xtcRiPOERZTdtZ5rTq/rPy902xTfef6Bo5Xjdp37+ztShi4wvVRfbuaR4j1vuFz+WHX22b6ukfc5xnP9qz7097qfG7K9cCOCdYx7grXXY+5f2vVk96dUn3Lq8QcF63lea1j3e9N/bp5fPW2uOu377YFfW3k1JFhw7u7Lr7BOYZb88Zb8wY4xgWRnqDrWLCq09iU84+zD3vVPc954LL7XvLZbzx55z2vXTYDlzpl6iyr3zB7P/eUX3XZX/Oo6+0v7BltgconpGOSdbxLdk8fVF3PnO0PdNz115TjQND55sx3a29X71sfde34hzPZ1nB+7XXmtNTOr9B+X5Nffsdgc6687DLr3OWXF0EKdl9vXNk2b1obi8AbgJPqX//6lzPWsJdfftkcJK0DaBvXqFGjXEeOuC/9rb+TJk1yXXrppa6FCxe63njjDdfNN9/suuSSS+oMvM2aNcscdC9zPtUvlDQ2O+fmzLPd9Q0+gTfPTd1cn9Olyax1rmHmJu5irxO/+yTWxpW6xO/y4j/mwsGad+g6n5ss60T2uHWSru+CZL/74rHW+j//3PfGJYCXFpqLCp8VmgvoR6wbjQTX4z43DoG4byYCzntklesu67s+Xum2L5jMNj7wijPBS62Lqc/NhYE5UV88zLXOL31751p56NwoO9z5GtxJ3T3vZaYM/RZsuIMBF7vGb3UmHF7h6m2l2f8C27kJr64HzVEHgl2Xk+8+N8lBrt+9bt+82zHB5LO5IbSCCN71+u3/Z+rBxeNdfqnx5dRb62Jtr9fFuc1zMXzrUp+6G0pZHV7e286r7k/6bZc3Z9v9AxQ258bKp8459bDN3asCBDTMdP9A3VZ3/vsGzTx1/y7XKu95q48hfvUrUEAn5LzzrNP/pv6Ia9Xd1nTvcnUu7r2CK3sfs24wUl1LfW7gnMCTKedX/NPgw73uoAJvwRyPgt5fnONArW029i+195fGBt4+P7LX9dIkd8DW++Ys+HyqO088dalWnXzzUVdnM7328SDI45ERyrIDq103Am+Lp741w/G9cIHr0SK/7SuaYt9s+9SBMJ0jXrrPXU/W+dVxUyUbFPB41dh9t8H9zCP0eh/0ubxWPtZo/PXAS67RVprM9YuPL8w+79neL3a4xtvBEb/jqx93fnttWyjXRk79qVUunvrqPW9Q6QntOiQonjQ26fzzkWvFY6tch33q0hHXin7m9971/O/ua4qA9bSaczwIcAx6+/9Zx0Jz/PEKbtYqHyOUY5Jnf/KvT0fWDzPb6buugJpwHAg636rzpPZ5oOa7xuZXY34f4PzgOc7UsS83JNh9PfSyDZDWz831TxPS2li8agrgpDrnnHOC7rzgvffes/8++uijWrNmja6//nq7nTar59JZs2bZ07KysuyeT++//35NnTrVnj+Q1157TVdeeaXzqW5W2qw0nmw1Pd8FGO7v6sxVo/h3C1SiND00Ms6Z4ojqox/0lipf3VHzKoctTrfdEuOMu1VuylV+ZYzGju2jKGearVWc+gwwy922te7XRr/1bbuXtZL1631fN4uIaLAduLTRU9XVZ4VS1+8nm39LtPd99+cG3fGQxvoXb9QAPfQzs/Y/b9UOv9cH0m9JccbqcaxAuc9VKmb0OPXxS19c+t0mB7dq65vOhJAUa+XCEilxqmbe4bdgI87kxwBVmnU7LwbE3K3B6aZ8VqzSVq/t2Jq/UpURIzS4p/tzc9SBYNcVSLDr79DT6pFvq9a/6qkoxXrpD5VK+8lj+sHVUsGfipzp+7VtU5kiMtJVu8bXcNfbCI3IHqs4+5U9L1Fp+sUEk56dv9OqA860kOzXqiVbTVnN1er7/bbLi3vbu2rqtDTffcdy5VhNvdek8+n8Wq8uDcgY4DN/h+Q+skok5qfjlOb9hdkfTLFox199S9DWf7AGeM97ebL62AsZoXHe9atVipJNOajonep60Oi86z/Rb3+LUvId1j51WGUB3vzwiPvRCFPrirRqg9cLRscLtfLpSnW4f7hS/NPQWEEcj4LeX0z6njfHgYifPlb7GNN+hIb3d8aDVPNaaKSi2yWq/6Iis8+v1p5ZNbW8+fIpTuMm+NXJ7/XR3aZ+VFYccSaEeDyqFmjZt+k2k8GVnzZzm2TNcXzvafbDRL/tSzT7hPlTUlJ7v2ruc0SHS60aWah1m3x3EFMlG6XR+27v5ODqTyPqfXOcyxu/jA6KaW/+bF6n9d6vyrUy+7xnezcvVW6FybNnlvkeXxvQmGujARP8yiXKHJetzThcJs+eF1R6wnYd0tTzTwcNzhqgGJ+6FKWUZOt4as4xTr3bvzrHpLCr5j4boJ76u3KcHvI7BsX3udukqVL/qs60+gRzTHKOdwGOKVF3/MBsZ6W2FgU4z9YnpDIKLt+qXXmbUi51xv0Fyq+028w5zuTXP5wJ9Qnq9/u1/vd1nB/Mceahn/udP0MQ2r4eTNmWaNXv6khrRIqGNyGtjUXgDcBJZQW1vvzyS+dTcO677z7t2bNHvXv31s9+9jP94Ac/0LJlyzRkyBA78PbWW29pwIABPp0veFtvbr62bt1q93raECttLSHwVtPzXYDh+9YFvK+yj60btEJltnXaNPAaMlabr95925ySvF2rOL+uxd09p5VpTkrtZSROt379jkrqasfh/AGauiBNMW9lKzE6WkkjclS4L8gWFY5XqmRbrrLHjVH/lFjFXtXOaQMmeHFdrw0Y4Iu5zMor/4uZOHUK5vxbdti+8S6bl1QrPyIT3O2gvbMvxAs0W5k+MsUVk9zNvsitxVzMX3e1+fvXEidAEmFfIKtypQpetycEvAlvjjoQ7LoCCXr9V7tv/AsLt1mfpLfWa2VZmu65I17Jd5hL7D+85L6JKduqwnfNDXDP+m+A3fU2Wd1ucH/21+HKa82/xebm2v05NCV626ShzrJy2Nsek6JudVwgx11jVTiTBr96eN01zqhH1AW6wPy54ALrXy/m5tFSEyypERcf74x5mGV8y/z5lntZ3uwb0Mp/Vd/4NTbvaq/TbH5MtPm3gZvjy+/W8ESpaPmqmuDfH1Yq3+TFiB8140VxEMejoOvrgf3mCGJy6fvdrE+1VN/UB8n3P1UKtPPQUe2cZW4ovJfTbPkUaB936sc7nuNLqMcjj2sV7x+QMUvoYK3v3f1+8zZNcx3fK/dtVe6MMRpzT5I5z8Sq3YXuNvJqa/5zRNyYheZGv0L5g8z57ap0ZeUVqyzIU2Qgjd537WNREBpT75vhXN74ZZgb88VjFXcsXxnfiVRs7yytfKtM3lm8f5+9RXXmWV1CvzYKcGw3+8a3LzF/9u2t3jeCSk/YrkOa4fxTWabitTnKGpep9ARTVrHRTnuENUrMcaO+c6OPa+NMqvw4aQpuG4M5JrmPd1Y7d9VtLXqGCzPcbWZaaQ5FqGUURL5VC5QnHtfH1/4upoP9n07vfBBEfgX1+/qvgUI9//kIaV8Ppmz3a+++MKW1kQi8ATipzj33XP33v/91PtXv6qutq33pz3/+s771rW9p/vz5ev11dzTgr3/9q1599VW7J1NrmVYgzurl9Gtf+5r9vcvlUlVVlSZPnqwf//jHdqcL99xzj/1dfay0Wcs7JX2rj2Z4PxnnM4yT/61y4JNQvMb+JtDvrWGu0uqJPsT9ZLVKD+1U3sPJ0h+y1D8hWrGjCutv/LeiUGOuilZi70e06oPP9e3vj9PMmYu0OivNmSFIzoVhYN9WlLvz22qhnIDjRy8LkBfuYe4d9YVjmlHPwRoRUamVf9hqf3TfhHfV2J/4XTY1Rx0Idl2BBLX+eN32Q1NefyiU9Wzb/m3rVZbcR8mmjOLTfqCIsvXaZt3EFG3VVqXpdus/QE+yC75RX/1C8GI0+L4+5kI5VyvtPnIqVZC/XkocrrtrBYiaJqjjUQj7S1Tr5qkDvv+pkqI4v2OTW/Pl08m42Wh2TT6+V6hwVKyiE9L1SP5+fR6TrHHT5mnR81PNESawZj9HRKVoxq5ylW6Yq8Hf3aucUUmKvaSHcsyN4glVb17WFnS9b45zeROXEZU8Qzs/KVXBnMHq9H6OxlgdWaTmqMTnicgotW7tjIak8ddG9QsuPS3iOsTbvhz1uCRWSZmPa1vZ19Wh70TNe/xpLQx0nRDV8JsPthDrZlNE9Z0RMC/t4b7a/7EUjKDKKJR8s5zAPKlPs18DNde1fwAt6XqNwBuAk8oKalkBsWDcfPPN6tSpkyZNmqQjR9z/03bNNddo3bp1euKJJ3TRRRfpT3/6k2666SY98MADuuWWW+yn4yxWr6affvqplixZYj8Zt2rVqjqfiPNmpe1UDLxdYC5s9Gmlvp3m9WSczxAf8H+AvEVEfdv8e1gR3w30e2uo6ybRy/lx6pO1Wq9+clAv3x+nsrz+etDuhSmw/b/N0sqyOE01NyS7NyzTwlljNcCsK+1qv8fEGxD4fygrVfS6mR4Rp06NuS49P8rc0pkcibgyQF64h5QrG3OCj1FHk56ybTtk/cdrLcfd/8MY0bWb/T+PtlYp+vHoGFU+vVKFx52b8PSfabDX/yI3Rx2wBbGuQEJZf9d+gxVRuU4vveV+jSGl/23u7266W4MjSlS4rUxF2wqkO+5RegN1LsZ+hWubdrzh/uzP/VRBirpaD4CE7AJ902xWyZ/rKCtHzKVWgW7VjkC9YRp2/Yzopm7Wq1AtSHjzLrCIHw7XiIj9WrXW5MnHK7XUHB/63Dc4uLpplAR4dNGdzgDqOR4FXV+d48C2NwO9aF+pinr/Z6HxmppPwWvE8egEa/Lx/YOVysorU9y0nSp/u0DLFszQ2HtNGd8S5/vqUqhCPkdEKCZ5hBZuKDXpWKi0VkXKGuzVo2cIwr7vhljvm+Nc3izXAxExSvnZQhX8zSxjQZoidmYpY5E7h93XOAXattP+GLRmuTYKIKj0hO06pGkK52apqNUA5X14UK8+v1ALs0bYaenmd5Cwj7P7TD2t7wR6QrnP6RWV31aaXz5WD98L8SgbQhkFm28tydfNUFL0jtnra/Pcm4Wqua79fTnXa82c1qYg8AbgpLOeSjt+3K9RlgDOPvtsPfvss/rHP/6hO++8U9u2Oa+mGcXFxfbrpT/84Q8VERGhzZs36ze/+Y0uvfRSffzxx/bTcD169NDu3bu1YMECff3r1qmjflaaPE/MnWq6pg82l/SFenxJoBuU4MT0tNrSKlNOzvr6n1IL5HilKr2LtFWUuv7YattCKi+r+4rLfRPt/zpUhfLzQnw95blcrfTvAv2tOXrU3KxGDbnbbFcjxNym9ERzQ7pogdY36811vO7+ibnK2pmtKX7t/VhKFmUr39wODu7nm+r4AYPNjW++ns9bqZVmu6xXQr0vt5ujDng0tK5AQlp/YprSTV0rXJWrwne7Kr2n50K3q9J+KG3dtkDr/lCplDuSG1xvxB33qI+5zMqd6v9kg1FRqEfnmvQkD9BtjYpYdNWPR5uy2pYVsKw83PlVpOzpAZ7w3Jej7OeaUA/DKLx5V4dWKUrPiDAX3quUv/opFUWM0HDrCcgGuQNE2rZDxd5pPV6slU/51bkgjkdB19eYFHMzEPg4UGn2YesYExYh5FOgYGTwGnc8OqGaenx/v8R+3evaK32fKqmwn+ZtghDOEZWVvreCEZcP1mCrzcUP9tcb1K9L2PfdEOt96OdyUyZ+r6U37XrA7PM+WRyhDhmD7bbJ9v/dncMxfQcrzcqzSQHyrB5NujaqR1DpCdt1SFPsN2Vl/rTvpDjvOIk5Fq9abn1Ro+vAsebcuFVZUxt4++GEMdcb5riqTY8339OmQZdR8PnWciQrxdqJAuXXpyuVPa9xEdVmu/b34b5+bO60NgWBNwAnnRUo++yzz5xP9bviiivsgJv1G6uNN0+7CUlJSfYrqNYTbVb7bd26udshqaio0NChQ+0gWk5Oji677DJ7ejCsNFnrOSUlT1XevVEqmZ6o2NuylLt2vdZbw9PZyuwdqzHB3BxeOkKLsuNVuTpD7RIylfOcs4zncpR1T5J6OP9rHNCBp9TzkiRlzs93/2ZtrsYMtNq2SNPgvnVf+Sff2sf8m6/R1Wk2v0uI1cpjod3kxXyvTFmxiRrztDvN+TP6KzZljvZHDdCyRxp7wxijEb+eofhKq82YRK9ty1fO5P5Kuq1xTypY4h5erRnfMxcZ97RT4ogc5TvbnnVbrBKnFis++2XNvcmZ2ePqERprLu4KpmZra6CODpqjDng0tK5AQll/qzTdc69UvChHW6/+gW7zepouOS1N2vCUniqLU1pyEHeN5w/QoucHKOqtLCVe1UNZnjowP1OJ37HacBqg1c80/kmh+KxAZWXqwLh0ZSx1asDVU7Xa7DsVz/X32XdyJ/dQbEKWir83Qy97NZ7fYoQ57+qS8lNzM1aWqwfnloTQWUC8Bv883hxr5ijpxjHu+mWOTRkJSSq+xu/1lGCOR0HX1w4anj1YUdZxoHNNHlll22XgYXUNZt9opIbzyWl/LS9bE6w6Nz9bK+tqh7MejToenUBNPr5/P0X2mWaUV/mNM+X+26omBsODP0dsGxdttzvmqWfWNoxfbWrX6B83Lg1h33dDq/chncvjrrOD4Csfm2DXtZwZK+18atr1wDaNviRW6ZNz7XRaZZB9z3iztA4aO9D5vVVfAuSZtc/37z5B/t2HVGvKtVF9gkpP8HWsaGK0ImOz3W2khlUHpaV1kPaZdA5xjhfPmfGr+quoo98rk98LfG7Mnz9G6YNyG30N1RQp0/I0IKpE2aZu9aiuL6Zuz8hU+lVj6q4HdQq2jELItxYjQgOyzbaZs2d2QhdlONtmH2euekpR/f3TXaaVvc192j35CvTUmUdzXfv7S5sUSlpPAHfnpgBwch09etR1/Phx51Nw3n33XdfKlStdM2fOdN1xxx1299K33Xaba9myZa7CwkLXokWLXFdddZUrMjLS9cILLzi/Co6VFitNJ937C1wJZrsSnvzImRDARndX8MM2Op89vjji2rFkmKu73WW2e7j4igRX70krXHu9etau3bW4t89dH62Z4uodf3H1MtpcdoWr+/AFrldqdWnu5T87XI/fmeC67JvOb755mSth4KP1/8Zm0vzkIFfni53fXdzdNex3e12f17WNtbzkGmbmS3hyr+tI4aOu3p1q1t99+NJaXZXX7gbeSx3fff7+OteUOzvb3el7ln1F8jDXgj/59uHvztcQuir/4rDrlccGuRK8yuuyAMv1dnhJqj1f58f2OlP8NEsdcKt/XZ5896unQa7f8nn+Xfb3tZZxeIWrt/Xbbgtc9ewFtRz56wrX6OQrasrp4s4B12sJuaw+/8i1blJvr7K62K4DK9783JnB7fCfHnUNuuEyZx4zXGbq85OvuA5/4czgUVc9rHP/d+d3m+HeJVZHGZhcW9DNzBsg/14abqWrdrkHn3d1rdOwt8l7n3XS4ZNmj8Oupbda6+rsevSvzqSg1D5ejF5v9hf//Az2eBRCfT1StNQ1LNlTthe7Ot85xbXOLK+uPK0lmGN7LUHkU8kK1yDPce/iQa5VzuGj7n28jvoRwvEo5GXXEqhuBKpbnmlNP74fKVrgGlR9XrvY/N6U8ecB9qt6llHXd8GcIz7KN/Xsiprz6sVXmLprznUBDk+11He8apZ9tx7B1/vQzuV7lw9yXeHsnxcPXGVquiW0Zfj6yLVqeHfXFZ7f2sfo0a4Vf62dw0det7bJK88us/b5l5w0ePLbv34HeW1UT/2p8/jbQHosDdcx9z518YQdzud61JXGUM4/5nixbmz3mmNsp96uRwuPuPYGrKtO3nmdG636P2z52+YbSz3nigBpClQ+IR+T/rHDtdTUl+r0W/Xlht6uKcHsk004DgSfb/XkSZPzK7Tf2/7uu23WuWFp0ZHax6Yv3HWl93Lv2htI8Pt6yGUbbFpPgLOsf5wYHACcNNYTaceOHVNUVOPe5//iiy/061//Wr/73e+cR5bdvve972n69On6n//5H2dKcKwn5c4//3y1anU6tEQNAC1ZmXJTYzVBc1W6ZUSzP1F3+iCfAAThWL76tx2tji+Vn9SnU3FmKZmXqMTpEZqx51WNtdqwfStbsSlFmlpaoMGcsHjVFEDLYAW4rCHYjhb8WR0gjBs3Tjt37tTRo0erB+u101CDblYaPOkBAITZu7nK2RmuzgJOI+QTgGC8s0PblK60ROczEHZl2rqxRN4dR5UVF6ns6jSlcMKyEXgD0GJYT5hZDQ5/+eWXzpQTz1q3lQYrLQCA8Nv6dI7219NZANzIJwDBKHl9qyrvvUdp/P8xTpCKTVOUvdO3g5sd27Yq7kd91MH5fKbjVVMALYoV+LJe87zgggvsXkxPpK+++sruXtp63fWcc85xpgIAmt0HK5VdcIFi3s/WhN/u14BnSrUsvXFNDZzWyCcAQEuxeYK6zP+X+vS8Xd3atzYTDqv4uac0Z1OJdPlYvfzaDHXl2YWACLwBaHGs9tqs10S/+c1vnrDgmxV0+9e//mX3kGq9tgoACKMDOUrqnKXiVjHq88QG5f0kzvkCPsgnAEBL8UG+xox7XC8VlajM6ao0IiZe6WOm6hc/S1MHHsiuE4E3AC2SFXz797//fUKePvM8ZdemTRuCbgAAAACAZkPgDUCLZQXE/vOf/ygiIkKtW1uPMzc/qyMFq023b3zjG7xeCgAAAABoVgTeALR4x44d0/Hjx5s1OOYJ6lk9l9KRAgAAAAAgHAi8ATglWIG3zz//XNYh67zzzrMDZo1hLeezzz7TWWedpa9//euNXg4AAAAAAA0h8AbglGIFzqxXQ//73//ar59+7Wtfs5+Cq6sTBqvTBOvpNmt+67VSa37r1VUCbgAAAACAcCPwBuCUZXXAYA1WYM0arCCb55BmPdFmBeOsoJw1WJ0m0HECAAAAAOBEIvAGAAAAAAAAhEHgd7MAAAAAAAAANAmBNwAAAAAAACAMCLwBAAAAAAAAYUDgDQAAAAAAAAgDAm8AAAAAAABAGBB4AwAAAAAAAMKAwBsAAAAAAAAQBgTeAAAAAAAAgDAg8AYAp6j98xMVGZmonA+cCS3ZpsxTJ61G0eRYRV7YQ7mnSHoBAAAAtEwE3gAA8FGpI8ecUQAAAABoAgJvAAD4iFDaglId/efLGnG5MwkAAAAAGoHAGwAAAAAAABAGBN4AAAAAAACAMCDwBgAtXeV+rZ+cri7RkYqMNEN0kjLzSlTpfF1LRZFyRySp3YXO/O3M/EuLVOF87a2sIEvp10W754uMVpfeWVr/sfOlw92JQ6YKzRKKlmYqqZ0nHV2UPnm9yo47MzZGsGn91D1frCcPLmynpHH+696vnBvNdyNMSnfmKOMq97yZm6zvCpVpxhPn71flB+s1JqWdeznWNg/KVYlfZtZss0fNsq205Azqomj795Fql5Klwk+d2bw5aa7etqvSlb25QutHWJ+9lv1BjpLM97HjCusuUwAAAACnJAJvANCSHS9Rzm1dlLFor2Iy5ypvRZ7yZiZr//RE9Zi735nJS0WhMjv30IRNrTX4cTOvmX9u30rlT+yhzhOLnJncSuYnKXZQjj6Kn6pl1nJzxyquxApYpWulX/DNUjy/t3o/Jd09x1ruMs24Q9q6KEMJo6yQXCMEndb9yrnTzPfn1rp7pjPfvReo+Ldm3YGCVe+bbZh0ROO2H9XRo0e1zKSzWvGj6nljtvTjRe7lZMRof8EEJWbmBxf0+vR5Zd44SFuv/oWeNr9f9nCK9FaO+qdkq8SZxWZt23UmzasrlTZtmb2uZSOjtf6ezhptBwIBAAAAnBFcAIAW66MnE1xt2lzmGrbxiDPF8fkrrvGXtTHfJbgWvO9Mc33uemn4xa42Fw9zrfObfe9cazm9XSsOOxPeX+BKaNPGlTB3rzPBcWSda9jFbVwXT9jhTPCkwUwbus7lt1jX2/+vs/nuYtf4150Jddk4rPFpdX3kWvHYKtfhL5yPtiOuFf2s7Te/r57+kWtBN2taqmvp351J1V5yDTPb0KZNd9eCEmeS7Yhr1d3WdO/1ebZ5mPmVh2fZtcuidh4421ZrXUbJAld3Ox3eywYAAABwuuKJNwBosUq06nclUuJUzbwjypnmiEjR8J/HOR8cxwqU+1ylYkaPUx+/2ePS71actmrrm+7Pxb9bYJaepodG+i0jqo9+0FuqfHWHfJ+ni9HYsX3kt1jFj5yoFFVq6+s+z3s1LIS0Sh00OGuAYlo5H21RSkm20v6O9h9wT6l25W1KudQZ99d/osZe6YzbopR8R4r5e1hlwTy2d+U4PeRXFvFptynC5MG//uFMOL5Nz5tti/jpY37rMq4cq4n9nXEAAAAApz0CbwDQYu3X3n1STHI3xThTvEX4BKKMssN2sKxsXpK7TTHvIcH9KuQ7+9zhtLKPy8y/hcps6zefGTJWm6/efdv31UklK76LM+ot5tuKNn9KSgK89lqfENJqqyxT8docZY3LVHpCrGJjo9Vlah3Bvmvj5BdOrBYXH++M1YiJsbdAe993f67X9fG1lx3TQR3Mn3c+cNJ7oETvmD/J3+/m/uynVrkBAAAAOG0ReAOAFu6Cb0Q4Y8GJH+1uUyzQMPcOrxDet/poRoB53MM4+Yeo6gsYRURd4IyFJqi07stRj0tilZT5uLaVfV0d+k7UvMef1sKf1BFeaxVafoVLVOuWkQ4AAAAAJw+BNwBosS7QNyOkkqJ3Ajb8f+TIEWfMcX6Uvm3+HI64Un369gk4pFzpDgZdEGX+flqpb6cFnq9P33i/p+zeUckHzqi3t3Zom/nT7Rrrma8QhJDWwrlZKmo1QHkfHtSrzy/UwqwR9vfdQlzlCdNKslK+7c1i92cflapoVE8UAAAAAE5FBN4AoMXqqrQfmj+bHlfOPveUap+uVPY863VRLzG3KT1RKlu0QOsbCO50TR+sCBXq8SXBts1WotzlRX4BwArlz56jMqVoQM9AL8PWI+i07leJlcT2nRTn3bTa8WKtWh5s2k+w9mlKax942yp3ZutRejUFAAAAzhgE3gCgBUubNEPxKlF2QhdlzM/X+rXrlT8/U4lXPaWo/v6vWsZoxK/N/JX5yvhOojKd+devzVfO5P5Kui2npsOE5KnKuzdKJdMTFXtblnLt+czwdLYye8dqTK3gUJwu2NZDXe7KVr49b67GJLRTppkvPnuuBtfVmUGdgk1rB6WldZD2Zav/kBz3up8z41f1V1HHulpyO9niNPFXgxVlbVvnHsp62p23uZNN/g08rK49ndk8PshRUmSkYscVBnyyEQAAAMCpi8AbALRkl4/Vq3/L09hkqXBqpjKGZOjBNdLwFzfoF7X7CbB7zdz8tpn/+5UqcObPyHxQC16P0t2T7rY7AXCLUtriPXp5zgB9+90cTbDmM8NPf7le5V2mmt87s1W7VlNf2qmp3yrUaHveCVp1PEVjnynVq/c3MgAWZFrjHn5ZeT+J15GCLGVa80wvUvziXZrrH8BqQSJ6LtSeLXM14PIS5Txo5ddPlbO7m+a9skz3fMuZCQAAAMBp7yyX4YwDAFDL/vmJ6jL1Wq0+ukxpzjQ03vphVs+xg01+LiQ/AQAAgNMcT7wBAHCiHN+qbRvM3+SutXqNBQAAAHD6IfAGAMAJUrLoEeVWSin9b/PrNRYAAADA6YjAGwAAzWz/0nQl3TNG2U7HCuufy9GY22KVOLVYUbcs1MKfEHYDAAAAzgQE3gAAaGYx16Yp5vBLyn3I3WlFxogsrfu0k8YuflV7Xhjs1ckFAAAAgNMZnSsAAAAAAAAAYcATbwAAAAAAAEAYEHgDAAAAAAAAwoDAGwAAAAAAABAGBN4AAAAAAACAMCDwBgAAAAAAAIQBgTcAAAAAAAAgDAi8AQAAAAAAAGFA4A0AAAAAAAAIAwJvAAAAAAAAQBgQeAMAAAAAAADCgMAbAAAAAAAAEAYE3gAAAAAAAIAwIPAGAAAAAAAAhAGBNwAAAAAAACAMCLwBAAAAAAAAYUDgDQAAAAAAAAgDAm8AAAAAAABAGBB4AwAAAAAAAMKAwBsAAAAAAAAQBgTeAAAAAAAAgDAg8AYAAAAAAACEAYE3AAAAAAAAIAwIvAEAAAAAAABhQOANAAAAAAAACAMCbwAAAAAAAEAYEHgDAAAAAAAAwoDAGwAAAAAAABAGBN4AAAAAAACAMCDwBgAAAAAAAIQBgTcAAAAAAAAgDAi8AQAAAAAAAGFA4A0AAAAAAAAIAwJvAAAAAAAAQBgQeAMAAAAAAADCgMAbAODMVbFVWd2jFRkZqcirMrRynzMdwasvDzdluqc7Q+L8/c4XpxDqCAAAAJqAwBsAtGiFyvQKXAQaomNjlXRPlnI2l6jyuPOz00VlmYrzstU/JVax0b7b3e4qa7uzlb+v0pk5dMVP/lQ57zi//3i9xjy4UmXuT2eswhG++Zy5yfmiDqd7HlJHAAAA0BQE3gDgFFdZVqbiTTnKuitR0dGJGlMQhrDAMbOOtTka07uLeiw6MU8tVezMVo9LYpU0ao4K3ypTmV98reJja7vn6PFNjd/eiFYRzhga63TPQ+oIAAAAmoLAGwCcTo6XaOWgWCXNL3EmNN3+pT0U2dYsc0iWVm7br4oT8VTdxyuVkTpHRWFeV9yYZZp4kxNYubSPFj4xWDHuTwjS6Z6H1BEAAAA0BYE3ADilDNDqo0d11BnKP9yp1Q+n1QoEFE/toQl/cT40VWWFM3LiFD05QVudcVtUimZsKFX5P51tLz+o0v8t0NzRKYprygNJUV019aVy9zL/lqfBVzrTEbzTPQ+pIwAAAGgCAm8AcAqL+Fac0rJWq3TXDMU709wqlPtI7inaFtV+7XjV973SAYsLNDY5RhGtnAkRUYq5OkUjZhUo72cdnIkAAAAA0LIQeAOA08GVY7XhN2nOB8fOp7TqA2fccrxSJdtylX1PkmJjnV4arSE6Vom9s7T+A99g1/75ifb3Xab6vrZaMrVL7Yb3Q1x2qN7ZF+qrs5UqM+kZ0zvRt1MGOz1zVHTMmS2YXjePV6g4L0vpCe18lpM0IkeFtbZrv3JurFleZGSmCs3Uip25ykyp+X30denK3lzPk4RWfq51dyrR7kKv5bWz1ptv1uKncr8K52cqyTvv2yUqffJKFX/qzBMuofZcatK6fnK6unjK5cJ2ShyUo6Ja6QyQl6YsCmekK9bJkzGbnVkbU/8CpLvy3ZXK9PRgmpLjzudmryOWSu3fbLWZmOhTvtGxpszGmTLz1E9VaOvkJEVb318Yq4zfNt8r5AAAADgxCLwBwGki6odjNcLntcsSvf1XZ9TYvyhJib0naM6mYpV591RQWaaSbTnKuC5WmZsa91pp8y47Rt/+rjPqKJneQ+nzt9bqYCGgiiJlp0Yr1qRn5bYS39/Y6VmlHcE+ClixVRMS2ilpVI627vNKv9Xb6nNZ6m9tV0H923V4U6Y6p05Q/ls181V+sFVz7uocOE8+zlfGVdFKHOLuVMKnTb0Ka71/NCXrZd9Kpcd2Uf+p+Sr23tiKEm1dNEZJ30nSnHeDybgT4Hixcm7rooxFW7Xfk6TjFSopyFIPk86cfc60OhRO7qz+vzT1wMmTz52/zVL/9udowI1jlO/pwbTK/adBIdeRChWOiFWXu6w2E0t8yreyzJTZb3O0zVM/N2cpfVGx7BQdL9P6caZOn5qPsQIAAJyxCLwBwOmiVTd1u8UZd7zzQQNPH/moUP6QB1VY/bRNcwpl2REaMGaEopxPbhXaOjVdsZfE1v8U1/ES5fTpoTk7nc9NcbxY2TenK9f7qcFazHYN6q2cOufJ15h78s1cgZjfTlzgG0SrKFTmjZlaH3RgMF/9E8Zoa70xJbMdt00IU7mGpmR6hrLecj7UUqys++p7PTpfuUsbCJ7VqeH6V/J0rm+7gsFoRB2pXD1a/Z8Lcju+EWH2BgAAAJzKCLwBwGkjQlG+0SpfEXFKGT1XBf9bqoPlnk4KSlUw3qt1uMp8Pb/NPdrh/p32PLuz49wTHHHZu92/NcOyO5yJIS67QTfN1cvZvq3W2Y6XOU9xRSpx3PrqJ588yvIm+AV2Omjwip3VaSo/uFN5P7lWrZ1v67N/0U8154DzweiQkafd9nLKVbphrGpypVjZvy5yxgO4fIRWl1qN85dr9+I+vgHFA0U+T98VPZapfO+YjF+nEuV/K9CMnt92vqxU4cTR9qusblFKyX5ZB615/1munQvSaoI2FSuVk98yHpWKH1+gUisfrTT658fOHOW+64wHFK+JLx10169DO/WLa53JzVT/otIX1pTxyrsb7L20MXVkW+F6+69bjMauO6hyK73mNwetDkO86+dNU5U/Ot5djq1i1GfBXA2mS1UAAIBTCoE3ADhDdPhZngpmjVDK1TGKalWpirIylRTtUMW3r/QJMLyzL5Sn5NzCsey4+1/VwZdmKK2OQEPJbzMUm5qtoupA1X6tWuL9zFKUBr+wUwv7xinKiUBFRMWpz4JlGnG5+3Pd9mv9772eRWs/UasX91EHezkRikmeqoc8QUej0mxr4C2L0din5pptsH4YoQ4Z8zQ10f2N22FVeJ7COl6opT5PdMVrxlbfTiUiLk3R2BdMnlgfjm/T8895vVaZ/oTy7+9q8t+Mt4pQ3E+maqxX3m0tKnbGTqLEuVo9LUV2dlhpzMhT3k+dwrHtV1FR3QHCtN9s0NSbnFDd+XHqcKl7tFnqnynjDSsG15TxlSbf7S/q0hx1pEwrn35eJfYTnBGKsjoM8amfUUqZ9ao7MPfPUuX9xDcIDgAAgJaPwBsAnDbKdPgTZ9TxbU/EyeJpgL+d1VB7tNrFWg3PZyhjYn7Tez8N07KjbhprPy1WumGuBlwbIAzy1hzdNbnQaQOrWG97Py0VM0LDe9YfOqmT/7IOzFGip9F8e4iu6VjCUmd7YMlK8Qm0xaijT/t1JSp53xn9oFjvOKO2O8ZpeH0BQv/5CzLdjfBXD0ma4535fk8HngxxfW7zCYRZUm5Jd8bcDld4BRN9pKhPUh2PdDZD/Yu44zbFe3rNDUYj60hyWh/3iKOiYIL9BKfV4UbW2hJVtoByAgAAQPMh8AYAp4tj21To8ypdhOLinDDHsSJl3eg0wO88VBV1aYzi7xiswX2dV9kaK5zLtllPD43Qsu3l9hNwKX6xl4q8XBVYT40d2O8biPrWBbrAGQ2Z/7LCyNNBgN7f69veW1RU/XnnP/+pKuhgV7S+Hejpx2aqfx0uC7TwejSyjkT0X6SCn3VwPtWwOtzIGZKo6Nu8n+IEAADAqY7AGwCcJvY//bi8W49SxGDdfZN7tOTJTK8OAFI0929HdfBvpXr1+YVaOO1u1Q4DBC+cy/ZnPQFXsHWGV9tZlv06bD3WdH6UPK2f2Y5Xup+Eawz/ZV09Q7vtdrjqGP53bNO384Jv+gaJTPrr5T//vasDp80z5NovqLY4ZWXlzljjnMj656PRdSRKKXN2q3zXas24N979arC3nXN012P1tBkIAACAUwqBNwA4DVTszFbGVN/nn+KyxqqrPVamHX/xal3q6jTd5rSNZfv7/jraJwtGOJa9Xysn56qkrrhTzLcDB1NiOinOOxK1b6VW1dmDZgP8l/XuOr30sTMeLpdfq27OqG31St+OFvz5z/+HQm1t4a8plhQV+QVDK7Rtk29fot2uDiVUFs663YAm1pGIK9M0NvdVHSwv106rbTlnuqXi1braDAQAAMCphsAbAJyyKlVxoFgrxyWqXeoc+TSd/70ZyhvtuZU38/3DGbW8u0qr3nGHPyr3rVTGoNx6nwyLudQ3EFLy+1VeQbGmLbsuFX+eoMRLEpU5v1Aln9YsofLjrcoZ+KBXT55GRIq62W2hddXdmd7voe7XnNQeytpcIk+zYZUfW/mVqdzqJ6Tq0lXpGd5RlSJN+J8M5b5VVtMG17EKlWzOUeaI3OYJksTcpgG3OOO2QmUmeK/T5PW7hcq+K8u9/Wb+dO/24ypzlX6b+e7diuo8r6zYr+K8LPWY6pNjJ0/BgxqwtNi9PZVl2jq9t287aBEj/PKgIeGpf8FpXB0pnJjkW69bRajD9/soJeCbrhXaOjnJ3XbfhbHK+O1p8XIxAADAGYXAGwCcUvLV36vx9nadkzTG/2Y8ZrBWrx+ruOpX2DqoW5J3gKBY2d2j7WVEJ4zR+gbak4q4Ot73CbN3s5UY7U5D5qamLbtex0uUP7W/Er/jXp69zKvSlfVn34XGT/M82Sd1nbRMA7xjb8eLlHNXoto56Y2+ysqvd+ruC8FLypipinfGbWXrNSElVtEXOvnftp0S78pS/jvBLC0YMRo8Z0Y96zTlfWN/zdl82PnSzD9psHyavNuZo/43tqvuZCG6XRcljcpRPR2FNij/Hmd7/YcbcxoRcKzQ1olJ7u2JjlX6PN+eVq2yTAmlg4Mm1u2malQdqSiuXa9j+2ulVxl1SE9z73Obs5S+qNgdPDxepvXjJvjMBwAAgJaPwBsAnEZies7Vzt0LlebXAUHX+/wCBNViNHbBVL820/xcPUITk53xAJq07CaKG12gDdVP9hlRaVr2v8vUJ8R28gO6fKw2bBjhG3QMtyvNOrdMVNcgg08RPRfq5QUpvsG3Fiyu/4A66oopuntX+5ZlkE5m/QtLHUmcodUPO6n+RkTQnUMAAACgZSLwBgCntAjFXBqvtIcX6tXScpW+MMK33SmPy8dq89t5Gvy9mhBN1PcGaO6WXZqR3NCtfYwG/6FUeaNT1KHZlx1IBw1f96rysgcr5coYxfgswtne0TO0+u1y7ZwVIOh06QDl/e2gXp5j/d732yjz2wHZc3V3e2dCA6KS52r3h69q4cNpivdNiL0sO9/XDW/WwEtU4lS9/Mlu5dVap9n2K1M0dvFDPm27xf2kQKVvr9aMn6Qozmdz3fMPzl6tnb9qIR0rxP9Cm/93oQZ41ZWIy802rdit0ty0xgUQm73+hSbUOhKfMUODk+MU472xETGKSx6sGS/sVvkWr6dVb5qq/NHx7uBbqxj1WTBXg5sjqAwAAIAT5iyX4YwDAAAAAAAAaCY88QYAAAAAAACEAYE3AAAAAAAAIAwIvAEAAAAAAABhQOANAAAAAAAACAMCbwAAAAAAAEAYEHgDAAAAAAAAwoDAGwAAAAAAABAGBN4AAAAAAACAMCDwBgAAAAAAAIQBgTcAAAAAAAAgDAi8AQAAAAAAAGFA4A0AAAAAAAAIAwJvAAAAAAAAQBgQeAMAAAAAAADCgMAbAAAAAAAAEAYE3gAAAAAAAIAwIPAGAAAAAAAAhAGBNwAAAAAAACAMCLwBAAAAAAAAYUDgDQAAAAAAAAgDAm8AAAAAAABAGBB4AwAAAAAAAMKAwBsAAAAAAAAQBgTeAAAAAAAAgDAg8AYAAAAAAACEAYE3AAAAAAAAIAwIvAEAAAAAAABhQOANAAAAAAAACAMCbwAAAAAAAEAYEHgDAAAAAAAAwoDAGwDg9LUpU5GRkYq8MUf7nUkAAAAAcKIQeAOA01jlu7lKb5eonA+cCc3NE9jyH8w60yevVPGnznwAAAAAcAYi8AYAp6NjJVo/LlHRN07Q1gpn2olUUaKti8YoKbaHcvY50wAAAADgDEPgDQBOK2VaPypWkW0TlZEnpSXHONPDbYBWHz2qo85w8KWpSokwk48XKWt6virdMwEAAADAGYXAGwCcViq1v0RKGZ2n3Z/s1LyeFzjTT6yomyZqYVac+0PBH7XNPQYAAAAAZxQCbwBwWumgsVtKVTCrjzpYT5ydRB2uvNYZcxyvUHFeltITYhXtaQsuOlZJ49ar7Lgzj61Qmc73mZsqtX/tGCW188yfpMznSpz5vFWoaGlmzXwXxipjfpGZGljFOyuV1TtRsdHO/JHRik0Zo/UfOzN4VO7X+snpSvQs1wztEtKV+47z9eYxamem9VhK1w0AAAAAaiPwBgAIi6LXnefcYjrKfuF184NKGpWjrQekqO+lKOXKKKmyTMW/zVCXUYUBX0d9Z3ZPdRmyUh99I0ZRrcyEymLlj+ihMZu9565Q4YjO6jExX8VWpC0qRjHfqtD6qT3UY7oTIfNRqAe7j1HOtv3St+KVkhxnll2psrdWKuN7mSo85sx2vEQ5t3VRxqKtKjkWpfg7BivtezGq2rdVO/wDdAAAAAAQAIE3AEDzOlam4qczdNf8Mvtj3JjBirdGWnXS4BW7VV5eqtKtBSrYdVAHf5Nmz1P5XK4KPAEvLyUfXKm8D4/q4N9KdfCTnZp6tTW1QiufLqgJ1G3LVsZzdsRNA545qKMHzfJLy3X0b8sU93Ggp+OkThl52l1ertK/vaqCDTt18MNlslNSma/cTc6Sdz6l7LeskTQt/PCgXn1+oVZvLVX5hy/rZ85btBE9F+rg0aN6+Wcd3BMAAAAAwAuBNwBAM8hXf+dVzMi2sUp6cL39mmfULQuVN9oJSvWcqIV9O8j7DdioO+5xB7y0X4fdcTofab9apD7fcj5ExOnuH9shPDP7YXlmL3wu1x2ES39Ci9Kj7Gm2Swfo6V+5l+4rTRMX+72KG5Wue+5wj+7/2FlyRJTcS9uhwoL9NYG+b3VV18udcQAAAACoB4E3AECziLo0RjHOEJc8WDNe2K3SdYMVZ70i6qjct1W5M8ZozD1Jir0qVtFtM1XofBdI1Pm+DdV1uPxKZ8xjv0redI+l9Ez2CepZIs73CsR5O1airU9na8y4/koy6YiNjlbmJuc7j++N06IM6yXZCq0f1UXRF8YqffJ6lQR4Mg8AAAAAAiHwBgBoBgO07G+lKnWGnRsWamxP76fbKlU0uYuiE9I14Zcrte6dSnW66Tbd/ZMUNddLmq2/UUeQzU/lX7LUpW2i0h+co5Vri1X53WTddu9gpbR3ZqgWpbTFpTq43WxLcox0vExbF2UosW2ScvY5swAAAABAPQi8AQDCr2yVshdZPX/Gaeouq822nSr4zUItnDXYTGmKGH3bidxte32He8RLyZtFzphHmVbNyJGdkmk77fbgdm5YpoUL5mrwNe45/EVdO1gzNpTqaPlOzUi2QonFynpwZfWrrgAAAABQFwJvAIDwO1ahw/ZIB8XYXZxaKlWy8PF6XzVtWISSb+1qj1U+/Yiyd1oty7lVvjtHP/2lFWLzVqmKf7jHOsR82z1iVL6bo8f9XzV9p1DrP/DqPTUiTmm3OFG+f1fUtPkGAAAAAHUg8AYAZ6T9ykmJVGTsGBWeiDbLYuJ0rf3eaaHGfKed3b5bbLto9Xj/WqdzhcaLyZypsXYwr1hzUtspOtYsOzZa0TcuUHyG/9JjFOdOiApHtVM7Kx1Xmd/ctlfX9rQn1/j4eWVcZ5YTm6j0YVZbcO2UON3dS2rK8LvtV2QrN49Ru8hI9VjqH+ADAAAAAAJvAIAT4fw0LXploQZYQa/jFSr7uELf7punXYvvcXoObYJWXTVj18uae2+83aZcZVmZKsz6Zry0Rwu9ezm1RShtwata6Mxb8bGZ91s/UN7/LtM9nt5TPeJu14Dvxaj1pyXaurpQxR9XKeZ7AzT3pYMqsDtdAAAAAID6neUynHEAAAAAAAAAzYQn3gAAAAAAAIAwIPAGAAAAAAAAhAGBNwAAAAAAACAMCLwBAAAAAAAAYUDgDQAAAAAAAAgDAm8AAAAAAABAGBB4AwAAAAAAAMKAwBsAAAAAAAAQBgTeAAAAAAAAgDAg8AYAAAAAAACEAYE3AAAAAAAAIAwIvAEAAAAAAABhQOANAAAAAAAACAMCbwAAAAAAAEAYEHgDAAAAAAAAwoDAGwAAAAAAABAGBN4AAAAAAACAMCDwBgAAAAAAAIQBgTcAAAAAAAAgDAi8AQAAAAAAAGFA4A0AAAAAAAAIAwJvAAAAAAAAQBgQeAMAAAAAAADCgMAbAAAAAAAAEAYE3gAAAAAAAIAwIPAGAAAAAAAAhAGBNwAAAAAAACAMCLwBAAAAAAAAYUDgDQAAAAAAAAgDAm8AAJxE++cnKjIyUTkfOBNQr7K8dJNfsRqzudKZEmabMsNSPkWTYxV5YQ/lnlHlXqjMyEhFjih0PrdU+5VzY5jSebxIWbFm2am5Zi0AAOBMQOANAHD6+iBHidaNfsAhUy399h+1VR773Bk7lVXqyDFnFGeWqiOqcEYBAMCZgcAbAOC0F9N/rvJW5PkN4xTvfH/qKtbKe5KUvvTMeXamw89e1tGjpVrYM8KZ0pKVqXBqurpM9A/xRihtQamO/vNljbjcmYQzw/lpWlh6VEe3jFAHZxIAADi9EXgDAJz2Loi/TX369vEb4hXjfH/qKtPWTcU6fILeukSoKlWyeav284gTAADAGYvAGwAAAAAAABAGBN4AACfMihUrlJhodSYQaf+1PrcYlfu1fnK6EtvVtAPXLiFdWQVlzgweNQ2vV+zMUcZV7nkzNzlf18VZfpdoZ/nRScrMK1Hgh9UqtX9tltIT2lWnJfq6DOXsrHl0qnCENb2/8s14ydQuznzenQA0vIy6uRvBT5y/372N10W7l2HSnLXZ/Xuf6RfGKmN+Ue22q2rlabS6DMpRkd+M7g4mMlV4vEJF8zNq8qhdzfqqBejsoPr3JgVFSzOV5FlfdBelT16vsuPOjLaabasl6I4UGs5bd5q6KOtd8+G5/tXzeepJTZp9VX6wXlm9E9XuQmcbLmynxN5ZWv+xM0O1mu2wfjMmxZMWK49zVRLkU5AVf8lVZkqsop30WXk+pladD31d7uXW5E9s72wVfhrKo5lB1t/qMrPmH+NT9hlLA+xfnxYpd0SSYj11zORv0jj/OuKrcnWGPW/6b/3zxVKi7M5mOam5cn/r1MFYZ98wQ7uUCSqs/mngjhsqdtYuhwmbA60PAACcagi8AQBOCCvINnbsWJWUlNifrb/W5xYRfKso1Jgu5kZ90V5FZTjtweXOUJq2KmdQrJLmu9Ps4/0cZUw6onHbj+ro0aNadoczPZDjJcq5zb38mExn+TOTtX96onrMDRQAGq0uQ3J0+PqHtMxOy0R1+3S9slJ7VweF4u+z2qkbq65mvKYNu7lK87w/G8QyGlT8qO4avFVxk562f58WVaycu3poTkGOet+WqwvGmOkrlmliUqXWT+2hDL/AROE4K/hxWNdOWGanb9nD3XSkIEs9+uQE6NGxQs+PStCgbXH6xVJ3elNkra+7sq3gVRCK5/dW76eku+dYebFMM0yZbF2UoYRRVkiuGQWRtzF3WGUyVwOs8rhprL391jDuWvf3gVRsGqMuVnCpJEqDH3fPv2xamvS6FeBNUs4+Z0Zvpox63pgt/XiRPf/cjBjtL5igxMz82kEnfx/kqMdtE7Qt4m49ZqdvrgZ/q1grByUE7jU2yHVVbMpUZ7Pc/GNpmpHrLotxl6xX/+tG1wo01inE+vv27J5KnGGStsDZjkv2a/3ERP10tXfK9ivnzh6a8OfWunumO3/n3nuBin9r6si4wjrzK+KHwzUiwtSl1S85wTUvf3lKOQekPvcNtl9dL5rYWT0mblPMT9x5lPfEWF1X/rZK6utM4y8T1DnVlMNFg7XIKYex8Yf19rsNliAAADgVuAAAOAESEhJcbdq0qTVY08Pm/QWuhADrtNf75EfOTJ+7Xhp+sZnW3bWgxJlU7Yj57jLzXapr6d+dSa6PXAu6Wcvwnla/j560tv0y17CNR5wpjs9fcY2/zFpWgmvB+840S+EC16NFfvMWTXFdYaV77l5nguUl1zCfbfES9DICcS+3TZu7XKu8F1Gdn37b8oXZjovN9DtXuA47kywvLXzUtcMvCTseucLe3se98tqdP21clw1/yeS4lzcfdXU20y+esMOZYGwcViu/PL+/eOg6398bb/+/zua7i13jX3cm1JdnAZYdcFrQeevUFbNd/txpHmZS4/iPSZeVh8kLXHu/cKZ5HDHfWfXk1qVe+espI/96e8S16m5rem/XCu/CCOT9Fa5H8/1mOrLCdZe1XJOXNUJYVz3b8dGS3mZe812A/Kgl2Dy2yyfA+o6scm+HT538yLXisVWuwz7pOuJa0c/ahmGuddXTa5fb3seselR7n3/lAXPsuHi86xX7ty+5Rlvr9Mk744vPXZ/Xs+yX7vNfv9vnnzsjAADglMYTbwCAE8LzpJu/uqY3p0C9ms69w3k07FiBcp+rVMRPH9PYK92TakQpbdJDilORfvcHv2e0rrxNKZc64/Uq0arfmW1MnKqZd0Q50xwRKRr+8zjng5eeYzU10W/exBQlmz8lJUH2YNocy+g/WAO8F3F5svpY2RYzQuO8t6WVWW5v87foHZ8n2dJGT1VXvyR0/b6dAu193/25RpzGTUgzOe7le7fptgip8tPDzoT6xGjs2D6+vzfiR1pPzlVq6+vNWM+aI2/9VG7KVX5lhEZkj1VcK2eiR1SafjHB1JOdv9OqA840j/4T/eptlJLvSDF/D6usocf8Lh+sqf09j0g6olKUcrX5++7+2k8lBrOuPz1f53Z0yByuAc54g0LM4wET/NYXZeqqNfPhMh1xTzE6aHDWAMX4pCtKKcnWPmjqrn/eeon70Qj7OLBqg9czb8cLtfLpSnW4f7hS7GV2UEx782fzOq3/1PrsaBWhCP8y9dLhUqt/00Kt2+RbYBGnQse9AACgQQTeAAAnRFxcgACTUdf05hSoV9OUK5272rLDdoAh+fvd3J/9XR4n6+3A4r/6BW6ujTM34sHYr737pJjkbgF7Ua3rhrxy31blzhijMfckKfaqWLW70N2eWyiauoy4+HhnzOMCXfAt8+db5q97QjV7Oyr/5RXkMI5XqmRbrrLHjVH/lFiThnaKvKeuFFyr+FqBzxh1uNz8CRQEqiVZ8V2cUW8x31a0+dPYgFhdmqN8vJV9bNdCdbvB/dlfhyvtWmi2w/3Zo3YZmU2Osbc4QHCztsqyYq2fn6Uxw9KVaLYjNtpply6AYNa1/4N3zL91bEer0CJJwedxnK67xhmtFqNvX2L+7NvrW3cqy1S8NkdZ4zKVnmC2NzZaXaYGEZS9/G4NT5SKlq+qXl7lH1aa9MRpxI88R4I4jVs8VnHH8pXxHatduyytfKuswVd+48Ys1NgrK5Q/yOwfV6UrK69YZbxlCgDAaYPAGwDghBgzZowz5quu6S1eiEGEC74R7PwVKhwVq+iEdD2Sv1+fxyRr3LR5WvT8VKU5czSsOZbRRFa7eVdFK7H3I1r1wef69vfHaebMRVqdFb4U1PdUUUSUf6iwsVpA3jaTkkU9FB2bpIy523T4Gx3UZ/w8zVu6UINrBUBDFaXWrZ3RRglTHu/LUY9LYpWU+bi2lX1dHfpO1LzHn9bCnwQTQo/R4Pv6SO/maqUdmKxUQf56KXG47raCw46o5Bna+UmpCuYMVqf3czTG6jAhNUcl9XTeYD1lOGNXuUo3zNXg7+5VzqgkxV7SI3CbfgAA4JRD4A0AcEIMGTJEOTk51U+4WX+tz9b0kyrm27Je9Nr2+g73Z38flMh6hiela+2nfYJzgb4ZIZUUvRPwyZcjR3yeETPrW6msvDLFTdup8rcLtGzBDI29t4/63BJX6zXKOjXHMppo/2+ztLIsTlN3lWv3hmVaOGusBvTto7Srw5WCd1QSqNOIt3Zom/nT7RqrlGsEesV5/z6rpBsQpryNsV833KYdb7g/+3OnLUVd6+mcISTHC/X45CJF9M/TwYOvavWChZr6U+tp0G72/tBYEVHfNv9uU/Fu92cfxyqC6+QiTHlcODdLRa0GKO/Dg3r1+YVamDXCfvq1W5Ab7O5kYb9WrTV15+OVWrqpplMFHxExSvnZQhX8zdT9BWmK2JmljEUNPXEZoZjkEVq4odRs80KltSpS1uBAnZAAAIBTDYE3AMAJYwXZdu7cafcCav096UE3y/npuiddqnz6kQBPmFSocPbjKlGKBvQM9KJoMLoq7Yfmz6bHay//05XKnufXT+L7JWZ90rVX+j6FU2G/1hZYrSBSI5bR3NxpulZxXk8DWfmZnxeuFJQod3mRX3DTrG/2HJX5lF+MOlqj23ao2PsppOPFWvmUXz4G0pi8NXnRYNjljnvUx6Q+d2qAp6MqCvXoXLPW5AG6rbHV0N8nJbKqY4dr/IJZb63SyiY8aRWTnKY4k+M5Oev9gmyVKpr9aHC9moal/u53v6bbvpPivDfYlPuq5UGUu6VVitIzIrT/t6uUv/opFUWM0PAfej/JWqlKnwoYoQ4Zg2UOL9r/91r9oVar9P2RIi4frMFWm4kf7K/diyoAADjlEHgDAJzhIjRg8WoNiCpWVkKsekzO1fq167X+uRxlJrRT/+ekAc/naXBQHSkEljZphuJVouyELsqYn28vP39+phKvekpR/X2DC/p+ivqYP/mjeijraZMOM2/uuETF/rZKXd1zeInTdVZD+HnZmvCcmXd+tlZaT32FtIzwSL7VToFG35alXCs/1+ZqjMnflcfClYI4XbCth7rcla386vW1U+YmKT57rlf5xWvwz+OlA3OUdOMYd9pMWWckJKn4miBeZAwpbzsoznpC7a3HlTXfWs8E/f/27gcuqvPOH/0nu3YzXStjzE9wEwmtK060IskWMM1P4CYirhugTQOaGwmmEMk2/Mk2Yv44odlIaHqV9EYGuwF1Ewl7a4BtKuTGl+hug+lNC3SjmNY6+oorSewyeSUtY+s6adie+zznPDPMX5gBBhU/79drnDnPOXPO8++c4Xw95zm2Q8acADMLsPPVApiPWkW/GFm33k++JMc2K0D7vwS5umq8bspG9k2A/Zn8kT5Zm4/Etb344kRuNV2wEbWFZrjaC7F05UjbW1cnYb0jLbxbRaPSfxOQnZ0AnKpB/gab0Uf2ic+L89H7Rb99cBSZD1YgwdGER+vsXg9VcDuCshsSkes+hrzWhpp1m0TbJaDivtA5P1IZq48HZ9SV0Q6b2kWOy+5X5R2ALTMGMYnl6LqgJxAREdEVhIE3IiIiczb2/LIPDQ/Mw8CeKhRuKERhaQ1651Wg4ee/xB7/p5FGakEF3vp1CyoygK7qEn39j/4I2Pj/vo7v+N/BKgMw/1aLvOuPw/aoyMeGB/GKS3y/XZzwq0VGiBP65gbk3diPplKxbK0dn58pkiNaR3SY8nficE0eZr9rQ5Wsz4dewcV/eAttZdHKwTJUH+xD9fVdKJPb21CF1uFMVPzLabz1iG9gJaHsdT1vCe83G3mrbMXsmtNofyCMdo6wbrO3d6Ji2afoqBbLPrwfQ6MMNWdeswe//HkDim4YwC593YUoqe3FvIca0PfLPcieYDf0ZRH11YKiW4dE3ow+ueVnydj58zpkjzJW3thMyP7BL3F4ewG+eMrd9jYc/5vn8dMfrAvvVtEo9V/L44fR8kAyhjqtKJH5eqYXyT/4BepWqQXCsaQUFalOOJ0JWHu3f8DOgr/Nn4eT7mPIhjI0f7xaHEN+iupb1SJBWLILMM++y6gr8Sp72YHVP+jDT58e7+3tREREdDm5RhPUZyIiIqIrzsCOVCRVL0P7+T1X3AMO6ErjQNPKRFShDqf/rXTyrkAkIiKiaYtXvBERERERheNEE2x9IR6qQERERBQEA29ERERERGHo3m3DQMBDFYiIiIhCY+CNiIiIiCiUM82o2WE84CF3N1Cwp9rvoQpEREREoTHwRkREREQUygwnuqoLUdUyhLz6t7And1KfckFERETTHB+uQEREREREREREFAW84o2IiIiIiIiIiCgKGHgjIiIiIiIiIiKKAgbeiIiIiIiIiIiIooCBNyIiIiIiIiIioihg4I2IiIiIiIiIiCgKGHgjIiIiIiIiIiKKAgbeiIiIiIiIiIiIooCBNyIiIiIiIiIioihg4I2IiIiIiIiIiCgKGHgjIiIiIiIiIiKKAgbeiIiIiIiIiIiIooCBNyIiIiIiIiIioihg4I2IiIiIiIiIiCgKGHgjIiIiIiIiIiKKAgbeiIiIiIiIiIiIooCBNyIiIiIiIiIioihg4I2IiIiIiIiIiCgKGHgjIiIiIiIiIiKKAgbeiIiIiIiIiIiIooCBNyIiIiIiIiIioihg4I2IiIiIiIiIiCgKGHgjIiIiIiIiIiKKAgbeiIiIiIiIiIiIooCBNyIiIiIiIiIioihg4I2IiOhSGO6FNTEGMSubMKCSRnXGhtSYGKTuCGtpIppkjs5ypMeKfVbsh+k7p2I/7ELJ5bzPBzsmHSgR9ZMK2xk1LfQ+mYiYOVlo8kqj6cDonzGlXWp6fLpK5T5VItZ2JQjcJx0tuSL/iSg/5FIpwMCO1CuoTJej8fUt1jtdzhh4IyKi6UudGMoTZe9XfGYJbD9xqIUukU+H4FQfL2fGSZH/KxaJi9ORX9uM/k/UgpeSfrIfLJ/idZstvMAm0Wh+VoWU9c04+9XN2LO3DmtvUOk0BheGLqiPRFccp/gNjEdMpg32YZXkx3XhovpENE7OLpTET9V/6NClwsAbERFNe3H5dWjZ2yJeddj8QDa++Os2WL+WiPQddrXEJTAzGw2nz+P8v5UiQSVdvtJQodefeH1/M4oeyMXNM8+i6/8qR/qX4pHbaBen1+PVj+Z16WIdE/+DM+0RlUfv13PZiFPzryaOQ1bk3lJ16f/n/3gz8jNzr/irnbpeaRKn4AXY86/VKLi7FBV3X/577eXBhOz60zj/28MoXaCSLluTdyyaGAe6qnORtJnX7Ywtum3m7HwUhftuQcP/UwHLDJXoJ+Ghwzh//jQaVplUCl29xrnvmrOx85+LcPbJQp+rhWl6YeCNiIimvdnJq5F3d554laK6vh1v/aYPtbeKP9mra9DGqzHCkIBMvf7E68FqNNTvQecvPsBHpzux+VYnujenorB9vNfvOdB9oB+D44/ceSTcrvLo/brDIk79rz6uE13oPvM7NXUJnetG19FBfKomr0wODL4v3pbcEvLkm6aDyTsWTYwL9kPdGLgSLom+5KLYZsO9qHm4DXGP16HoRpVGNKrx77umVbX4/pp+WKvbJvAfmXQ5Y+CNiIiuPjMsqKgqEB+60HPcSKLImeIyUf1vh1FqFjX5cA26Q9yKQ3Rlc8H5sfpIRFcF14/r0eTMw3f+waJSiKLJjIKyUpg6G9F8TiXRtMLAGxERTZm9e/ciNVUOfhujv8vpS0a/csUF1x/0KcE9aLLdaxB130HCnT9rQklmImLd44fFJiK9tAm9nv/dtKNmqUhfWiM+BbLXJonvZaFJ/6NqALbbxLIBgwe7MPCavE0w1thGTKzYRjPsof4LdNiBjidzkaQGfY+JTULukx1w+AfBznXAmpOK+DleyzX2q5kTMCMNm59KE9luRmefSpNcA3q+UuPV9kQ5ktbbvOrKPX5cPtrEZ3u1rBs57VXnYawjfCP17eyzoXCxsc6SA2r2J71oKk1Horse58QjvdK/Hr3aTNRneWa8WjYRhe7bbb3TZdsFrENxGtvztEd8Okoae8Mb90+1uU+95DRBb001rmFSteyBbcjX54uXu5+5B78/JdZRmW70ZTUOXuiBqUP1VdFEZ/z6lay3R7vkDTfG4Njr9NaF9RY13z3mnsqnp/69BOZjjLYTnH1y33TXuzGOY1Off2060dtYgvRE974ll6tC1yjDPRp5SYL1hJg4YUWS/r1IjwvKKHU/FlnP3v0q+H6gjh0pI/UQe0shbH714KnfYVEfOwpHjh2iD1oPBeuBER6T/ATrVxHnQR0LRo5zYn9pscOur8e3PUIx+ohXO4ltVR0yGn/0Y9Fo/S9wsH2PIA+a0Mky+/XD2Fty0XTcr7/ty/fMd/d1PZ9B+0yQfIzV38L97RCMPj7SrxJzatD1SYTX5ahjrOdYsTgXNaKtg67lkv9+uNDZ1gGs+RpyZ6qkUEK1s79TNqTLfNxShW7vPETrt0Dn1S/0vwGSPP0/6DFysvpMBHUfSd8abR/2EeS4Ut4Z/EDv6PQ9tiXlWNERJPA11m/MWPvu2G0lZKxFkakXu9oD93CaBjQiIqIp8PLLL2uzZs0KeMn0qHmvXksR20h54axKGPHmt+eK7edoewdVgnZQK5bL3pWjpdy3Vzt7USUrJxtWGnn+SrFW/8P92v4f7dcan1ipLZRp84u1g0PGcoMvyuUWalvfMaZHHNO2LhTL3teqGas+q9UvF9MbD+pTbidfWKFvZ2H2Fq1RbGP/jxq1LdkLxTbma3P9y/LZSa0+Q9bjUm39C616nlqfvcfI0117NU/RPtyr5eh5L1PrbNXqN67Q5n7Ld9vBHNwo1y/Kp6aDClLP+veuS9GKPfnK0ebLPGTUi5IbBt+RedmirRTpC7/ZqC+3/0dvaif/YMwPZx26N4r1Oit+Q00Hper7zhwt586tWs/HKlmn5i1cqW3Zpdr2W0v1dc4XdTTSFdRy3yjWim9O0cr0ZRu1sq+ItFlzteJXWrVi0U45zxr59ayjqkd9XxkSfW2++M58r+1VpARfNsCgtvcu8V1RL8b2Rb28UKytmFtmtNEfTmpvyvV9U/SZWWL94rNcZv87qjfodZWi5dyVoq1/5axX2UTpXpB5CNbWwfvqkFiX3h5e9bZ/1xYt575G8Y1B7ZicfsrYH4pfVPP//aSxTdVngrVZYD5Ga7uRfMy/c2SfMdpkvrbpbbWQ0FM1X8/LPap99LzevFKrf08tEMRF+5v6+orlvruwWK1/pI+Ge1zQjVL3walj0jdl+460t7tfzVrbqnmv3r0fpGys11plPn+4VcuR/WzWCp8yGvV7j1a8caG28Btb/ZZdqm39lVpQieiYpMoYuD3ffhVRHjzHuYXayifUcUK03UrRJvPny+O47/aCenuT3kc825JluEusT+V99GPRaP1PtVGQ35hgdTFSFq92UsfjTV1+/U3Ut5GP/dqxD42v68fE5X7HP12QfIzW38L97RA8+7mnj8v8ivYT7a+n+x0XgnIf87yP5+K4lXKdWIfe5r79Y0p/P4I6qJWJZXNe8q4JKXQ9j9rnP2zV1styLhTHae+dNpq/BTqV36fqRZ/y23/0ehfHBrtaVJqkPhNu3UfUt8bYh6Uxjyt+f5e5j21Li0aOmffIfU/+baj2OSmc35jR991w2sqg151ffdL0wMAbERFNiZQU449J/5dMj5ogAaGLQye1g+LEWG7b9w9b4w/UWXM3aW9+ppLc1Hrmiz8CfU50JXu9tkLMm/vtN43pQSPINdf/j2bxR6M8SR0JNAQJZoTczkXtzW/LoIFvWYw/MlO0bd5/OAtDHcViW3M9fxCebZB/XAYud/FiGKf+8o/AoMEYL5/tDzgZOdggTlD9KqvnKRkM8s9HkBMZJex16CcLI33K+xVQ37NWao1ef1Abzmp7n23VBn3afUjb+w25fLG235PuXoffH/B/EGWYa2xvxQsnVaI0qDXeKdJFnxrpDRdFnc4VaWK9fmU7WSfb0zsYHMSA0d9S6ry3I4i29G7NYMEOnaorT3/1EvI7wfqqO5grTqRO+u8v3tSJXEBgZDyBt2Btp+p+7jf3++4z4iRxm/yO5wTGOJGeJZbz8Zmot9Hyr1Pb9w94RHJckEap++DUMcn/5FhsrXWtTPfrK1312tZev5z0btFPjL37i1G/QfL9zlZtqcyf97ErwmNSsPYO1q8iyYOx7HzRV/zK5g5aBOtffg5+Sy7nvS8bfA+BoY5Fox07Qn1HCFIXRvA3SFl8BNnfFP14HFHgLXh/M+p07N8Oz7EtyH5+9sUcff1jB97UMS+gHwsDjcZxxK9/TOnvRzB6v/eqB49Q9TxKn/cE18S0T36m4rfAyG/QMg+1avfIed5BnsnoM0JYdR9h3wpnH47kuOI+tgXU35D4e0b+priXDfs3Rgqx74b5uy0ZZQgMyNGVj7eaEhHRlLDbgz9BNFT6ZBq5DSUGsfGpyN/ZC0tZO375XJpawktOBjL9BlDvf6UedqSh+ulsmFWax6IKVN8LuHa3GbdSxa1FUa6Y3tvqM+ZZd1szXKZSFK1SCUHYX2sOsR0TMv++EhY1ZehHc4OouzWPoWKRSlLM8vYYuNDda9yuEBcnn8BoR0en79NHTaZJeuzAJ0P4SH10yy6rRppfZaXdniH+tePke8b0WCJdR7CnmlYuUzPdFq1GZsBA2QkoshYgzqfdzcjMkDV+HANyYH1vi4qw9lb1WZqZgb+9Q37IRuWD3q0Uh8y/E9MukV/3XS4XOtG0z4W4skrk+ZXNkrtWtHE3ut9RCcFcP09/Cq69o8P3Vj/RlpG0Zu4dmerT+Ay020RO01A3ytP+Jl2QtnMdaEKbKw4VFXm++8wMC/IKRN0f6Va38iQg7ibxdmg/Oj7REwwzRL2NM/8RHRe8RFz3+Zv99nEzcguyxfsgnN4Ph1kltpnql5PUTOh7jN3/1iULKqv88n3raqwWncj1yaBKEN+L6JgUqXDyMICOH4rjXGo1vrvGr2zmbDwW5vhbCTfKvaYL+w/43usW0SEw6LEjAsNdaGx0wvRgC/b4lyWKAvtb+L8d+PdXxf5lQmlN4H6eULIRcqTUMYlyvyqOeaYHnw3YHm4qxcZ89dnLpfj98OEYED0vAQkTfSS2sxc1efJ22AK0HNuDbO/8TOVvQZC2hrkAjz0klhTHyB6/W0Un1GeEsOo+wr4V/j4c7LiSh7WiLV3OIZXgPn6LY8jf+x1DzHn4Wo5Y9q0e/Rbb8H9jRhFBWyUskn+0XDQmaFph4I2IiKaExRL8BClU+mSKy6/zCsZ0ou+/zqPvOfGHWZATbsuXA/PjOOcQK8nE8hAnXcZ3+mHXAzQmFBSKPxnlmGdvy2lBnHg073Yh4ZGNAUE9bwMyCBlqOzP8/zxz4KwM5hwoGRnvxP2aU2iMe/MrsT7B9PVqNKyKQ/8zqYiVYyPt6IJ9Mp/m+psBnBRvCTd6naUMu2A/0oSaynLkZyYicXG8Gu8rAhGuI9hTTZP963KZJXiwwOVA/2s2WCtLkJsitpUYq8ZJC+Jvkv3WYYJZ/4vcDLPfeEBGUMcrQOIY1P+Ydzyf7ttm8pVijA14/JR/kMTLzAJU12cj7mgNUmPlWFs2dJ0KPh5OaBbcPMHdTu9bo+wTURGk7Rzn9NrE9ky/uhSv1Gf02oRdH3tJnIz9QJzgXWhD4ZfkOEJWNB91+ASiIxXZccEt8roPdkwyzZQdzo5jfl3UdaobTbXlKF+XLvaXRMTPMcbACrQMyf4n4ohDwgLxdkIGHQyRHZMiFU4eRBlPiNSM5WJOoHCDppbyBlQscqJtvTiGLM6FtaUfjkgbP9SxI1zv20VvBDJuX25MT4lg/S38346BM3qOsfwr+qSvcNv//YFRyx20DS/B74ePod9N6NhgOI6avCxs/3Um6v5tD/KuV8luU/hbYElbFhiME+Lmy3CQ/38uTazP6MKo+0j7Vvj78DJY5DHEx2zMlvV/3O45tunHbzkG3l/5lUe8CtvFrBPH9DYI/zdmFJPyu01XOgbeiIhoSpSXl6tPvkKlT6bZyau9gjGZsIw2WPKETyaFVUUoNbnQ/ONufdL142bxh2kaKh4I47TNHNmVS+a7a72Cin6vbyUbC82woOhfT+OjX7Rg8x1AZ3U+Uv8qEeV+/3M8XvY3WsWfpWnI/qrKubML5YtjkZrzFFrPXMS82yvx3e/uRLtVXqUTpslYRzDB2veUDVk3JCK9ZBuOOD6PhLs34/ltu9EQTnuNU3LZnuBtJl51a0a/zMLyQDtO/1cfWh7PAH5sRX5KLBIf7gpvMG5lvFd5+Yiwr05YyH0zGRX/HLwuW/bWIVtVpzmjFn2/OY3O7UW4+T0bysUJYexKG+zBHn4RRRHXfVjHJCe6HhblScnFU20DuBiXgcqnn8fOV6sxwT1m6ts5iNlfmGAOzJmo/cVHOP16HYr++iRsD6cj8YYs2E6p+eGYjN8GwXzt1NZmqP4W1m+Hzoxrr1UfJyDscl8Ovx8zPq8+TEQClqcliD8AjqHzba+glJ8p+S0Yte/OC/EfRoHC6jMR1X0EfSuCfTjsY+z1eagNVhb9VSl+WdzC+40ZzWT8btOVjYE3IiKaEhs2bIDNZvNc4Sbf5bRMv9zFySu5HN3oCfGId/1/ek3LsVzeyibNyMT9ZXFw7W5G17B6OlruQyga4+qg2eIEF6d6cDzY1WjOIYzcJCHNxnVicadrHrK9rvDyed3q+9egaVEeql99Cx/952FULHGged2jIn9q5nidsuHB/2sApnsf85Rv4GUrmh0WVIs/kt99fQ8anqtAgchP9hK/e09GMRnrCFdXnRW9MwrQ8p8f4K1XG9BgLdXrb7m8GGCyzTSL0xxg0LQosL3UK3NRGCeoMy3Is7bjrd98gMOPWOBoycejQZ4QGrlTfldoCcPGVUfejL56BD3yooEJOHUm8IoOnysnxmAy67UJ018Hr8uAQLspDpkPNaDz16Jf1WfD1GdF4c5RrioZRcTHhWg60wxriwOWp/vw0bFO7KmvRcW9ovx3WHxvj4pQZMek6JAhEHvv8aBXIA0NRZIDE+IyStHw+mlRRw3IntELa1F4T5UdS7AhEwZOySt6vKh9v/NIrzE9Xifs+pU4Ps4YV9OFJ/zfDmP/OoL+d/VJXxec4QUNVLmPvBPshjwXnH4ruSx+P/5aXt0o+veEoiJmZG//KdrvBbors1DS6beyKfwtCH5MdaFXBgRNFtw8ZuAo/D4Tbt2Pr29N3j6sH9s+cWFedpCy6K9k/SrbiH9jRhNGWw2ckZHEyQj80uWGgTciIpoyMsjW19eH8+fP6+9XQtBNSi4oQgJ6UfNMkP+dPGVDzT7xJ/aGtfAeMc74ThtebWlGs/jDSt5+Otaf0Gl35op/u7DtRb8/koedaP7edvjGONKQWyjWeGDb2FdtuPxOWa9PQ5EcmwQfYdB7vKsIOX9mQ+5KK/rNBWjZnu0pn3ES6n+7hxNtLaFv8/E/cR3POsZnQGxLvN10Myze5wXD/Wh9ya8dJkPcauSmAo6d9egYz0ndsAsu72DpDDPS7pfjAYnWdPhHwYIE0UYRp4+h04/uXt+MOX/cFHC7Ytp9FaJ/d8NaHc7/2Nth9x9TKc4Y86b/SK/v951taBL7U7jiVuWKPcEBm61jjHyIevPZDUxIKCyC3OMGPhxf9HA8x4Woec8Ixixb5HuVplO/2nb8IjsmRUMGMmUWgh3nPmlGzfPh5cDldww0LShCUY74cGYgoAyRjTsahy/Ks/MjPej33i/F8aN5l9964r6GojUiL42bwrvSTuTDP6CgB3vFftdz1Jh263+lKTAYF1L4vx1xGdni2BJs/3Kh93tbRc8IQ1wmspcEP+a5+mqw1T9INI5j/6T/fiywYLkod2//RHu4Gdk/OIzaVHmL5FKUeF9lPpW/Bfua0Oz/W390u1734R2jwu8z4dZ9pH0rkn04HGm5ReJXIMixzU/4vzFe/PfdCNrK/qt+cdhL87rajqYLBt6IiIjGsqQa7TXJcO7LR3xKCWz7OtDxWgeansxCYooV/bfW4rD/gxqWlKJC/FHdWV2D7jEequCx5juovVX84fVMKpI22NAmttGxz4aS2xKxy1yg/5HmLfPpFhSY7ahJSUTWk016nvR81ZYgd3G55w/XgcZViF0xku+O3eUorBV/bK4pwtfG/J9uaQDdat0du2tQXpmP9PgYxK+2ojuuAu1+g0Zn3Jkn/m1DmZjfpH+vCeUij80Xgv15b8Et4qQMLTWokvnbUYPmM5GuYyISkJ2dAJyqQb6nzsXnxfno/aJ/jU+GOJT+Uy2SXXKssVSU7Ggz6vW1NtieFPW6eoz/vX9/F1bdIMfpc39P1Mt9cjygbBTdPdKYxgDN/dj2pE1fd9XOsU+RTWtEPxXt2FWcgvxaY/2yjy/9RyDbfyyuW4PvE207ypG7vmmkDJZb9H7b/GyVXre22mZj3sxclBaKjR0oQco9NUa977Yia+lW0S8jqPcbS7FT5MPVXuiTD7nfWNelI8tzNdsRlN2QiFzPftKGmnWbRA9LQMV94+xT4zkuRMvtmdD3mIezYN2t8lGZisSXP51Y4C/CY9LkM6GgRuwvoofXpCShUPX7th0lSF28C+b88HJwpDJWH9fPOJaI79fmY1O72E/K7veqn+DHotElo+gfxCny+9uRflu5sX5RP4Up6ej/sv+tdWYUNLWLY3Y/rD7H7CbRF9NRdUgtJvqkRe6+R7fBukOurwo2NS/5fnn72wC2r0xFud7O4rixIQnpJywR3VIc7m8HFmxErdhP5f61dOXIsdi6OgnrHWlhbjMBG2uKYJbHvKVe/VPsJ0n3DSLN77fx8vj9yEDmGqD70BEEu9IyIjMsqDjYJ/YjJ9rWeQffpua3QIq71QFrorvPGP0/MXM7BsQ+vOep8Ook3D4Tdt1H2LfC24cjkFGNlnvN+rEt0ZNX8RJ/45TkyKE41HJh/8ZIIfbdsNuqHz1i+YSvjoxp6TpUjviYGGQ1jtob6Eqgnm5KREQ0/bgfF+/96P+QjMfuj7bs4L9v1dZ/Zb7xmHv5mr9CK37hTW3Q7/H2boMvrtSXW/qs3yPkdSEeO//ZoLb/iRxtqXzMvnsbL/ZoQ6HK8nGP1rhxhTb/OrX8rLnawq/kaFteOel59P3Ft7dpOT75TtHWPxs6394ObnSv1+s1d6GWcleZVt91NuBR+IYhreeF9SNlmCvKIPJz8Y1ifbr4DbWYm32vtv5m97LrtVb92fwRrCPUen2EqG9J1nmFVx3enKNt7RrSTuqP9U/R6t9Ty42yDqOeikUv8nU2YB2Gi+/t17bctVSbK7cnX9fN1xZmFGv1/64XPrQ/9Gjb7koZyav4Xsp9W7U3P1TzPYa0N59Y4Vn/wmd7jGS9rgLz4/Hhfq0sY6SvLLyvXusZClXui9rZH23x6VtzF4p2eumYT784+dJ6baHK79z7WjVPCQPqfb1W3zuk6sy7LkdpO53KR/JcTz5mzV+ordhY71UvZ7VWsZ8sdPcnuZ9klGl7f+XeS0ajtr+8XnwKFPZxYay6DzDKMSlInx/qrdfWe+pgrij/Xu3kRWMd3nUXWL9uIcoZyTEpSBmDbS/iPIh+6b2/zBf7SqOnr4xdp2fbirUVC0f6h+ynZV7HSI+gx6Kx+l/gsaqsQ3wxVHurY7anL8p9+K4t2kHvfXjoTW3L/1b5vW6htrVXpQsB7VyxX/S1IH1lrP4Wxm+HQZTvRVF/89Vyc5dqOU+MbDN0vfga6m3Uij3HlrnaUlHm/aLMgcfOKf79COFi23qxrFjfH1SCLrx6Dtq/hw5qZQtlfhZqZW+M1HB0fwvc+RVt2rVVy3HXk1h2xcZGcWxXi7lNSp+JpO7D71vh7MORH9v8tq+vN0XkQRw7feomnN8YJdi+G+7vdvcm0Q+Walt/paaFi11l2nzxnZUv+uScrkDXyH9UDI6IiIiIiOiKYH8+FanPmFD7y7dQMRVj6dHVY7gXVV/KQnfVu+h7JBoDfk6FLpTE5ON4zZVchquFvCIyHiXYgw9eLZjQ2Jx0eeKtpkREREREdIVxoPsNO6bsARZ0dZmRhuofFGCguhzNIR6gQjRZXIesePRAMmqfY9BtumLgjYiIiIiIrijOA1tQ0zeFD7Cgq4459/toufcYyu+zwT7RJ4ATheLsQllxM774XAsqfB5KQdMJbzUlIiIiIqLL06EqJO34HfJW/S2W33StSBhE/75d2H7ADiyowOH/rxZpM41FicgbbzUlulzwijciIiIiIro8/fVyZOI4WmtLULihULyqYHtHPu20He/+nEE3IiK6/PGKNyIiIiIiIiIioijgFW9ERERERERERERRwMAbERERERERERFRFDDwRkREREREREREFAUMvBEREREREREREUUBA29ERERERERERERRwMAbERERERERERFRFDDwRkREREREREREFAUMvBEREREREREREUUBA29ERERERERERERRwMAbERERERERERFRFDDwRkREREREREREFAUMvBEREREREREREUUBA29ERERERERERERRwMAbERERERERERFRFDDwRkREREREREREFAUMvBEREREREREREUUBA29ERERERERERERRwMAbERERERERERFRFDDwRkREREREREREFAUMvBEREREREREREUUBA29ERERERERERERRwMAbERERERERERFRFDDwRkREREREREREFAUMvBEREREREREREUUBA29ERERERERERERRwMAbEdE04/hJDQpT4hETE6O/YhPTUf7aAFxq/qQ6UOLZTkymDQMq2V9XqVqmtEulXDoDO1JH8uz1kvVUsqMLA1GpKCIiIiIiuhox8EZENJ0cKkfi17ajZ14R6va2oGVvHTbedBbNG5KwaoddLRQlR60of9mhJq48Lkc/2qrzkZRUji6nSiQiIiIiIpoABt6IiKaT2Wmo+/lHOP16LUrvzkPe3aWo/bdfoCED6K/ehq5htVyUdFeWoe1KCVotqcW758/jvP76CO/uLUCCTHc0Y1NDlIOURERERER0VWDgjYhoOkktQukSk5pwi0PmKot4Pw77+0bK5MtG9hr53oWyb3fgyrtgzISEu/fg+XuNqYHOrpC3zRIREREREYWLgTcioquGCZihPk46M0q/34BM8cnV/iAe7Qwj9OYeH+62wLHh3GPCpe4YmeMZm00sbz/XgfJMNY7dnHikP9kFp7yaz9kL2/okxMp08YrPLEfHOeP74bB8WQYolRM1SNLXk4iaoyrNw4HmHGMbWY0O4IwN6eJzYmVXdMbSIyIiIiKiKxIDb0RE054DBzvswE3ZyL5JJUXDjUXYXa+H3tD2sBVdF4zkSfdJKx68rRDNZ0yIkxf3DTvRvzMfK2rbYMvLgvXAEMz6DMB5tBmFq2sQ3o2jTnQfUUsmzEPckrVYq9eXA80d/Xqyx7n9aD4iP6RhbU6cnkREREREROSPgTciomnOviMfVX1mFGyvhNf1XFER90ADam8VH5zNKNkcpau/HP0QBcL5D07j9G8+QEu+EWQbeL4EVlSjT6SdPv0RPviXAnmNH/B+M1oDrljz5XLa0bU5B+WH5JQJBQ/kin8tKK1I0+c7WjrgHXpzvN6KXvkh9yEU3SjeF1TgrfPncbo+29gmERERERGRwMAbEdF0NexE7zPpSK3uR9pzh7FnjVnNiKYEVLxUi2TxydlSgqd+ZqROqrjNaHhEhRBnmJG3sUgFu0wordkMi4p8mXPXYa3+yYGzg/oHXyes6lbSGMTGpyK/0QitJTzUhu+vMVYSV/gQ8uQHRzM6PME7B/a3yrCb2N5DKrhHREREREQUBANvRETT0SddsN4Wj6wd12LzwQ9wuCza17p5WVCB3TV66A1NG2vQP9lPUr1+Nmarj7q4BONppMjA8q/oHxQLLEvUx6BMiLsxzvNKXrMZDT/9AO9uz4QnRDmzABsflKE1r9tNz7RiV594NxUh93YjiYiIiIiIKBgG3oiIphnXCRuyEvPRfGMtDv/nYVR/dSqudPNlKduNahn0en87Cmv7p+iBA2aYZ6qP4VhSjcO/Po3T6vXWq9UoWhZYV5kPVuiBPUdbhz5W3EBns/6e8MhGZEbtYRVERERERDQdMPBGRDSdnGtGwW1WOEo68cv9FUib+pibYYYFm5ur9THlBp5/EM2fjJKRE8f8Hn5gR/876uPlwP2Qhfdb0XrCjuZdMrdpqHhgCq8iJCIiIiKiKxIDb0RE00j381XojqvAnue8bpe8VBZtxu5N8loxO7oOOY00b5Zb1MMe2tDUMjLf0WLF9lNq4rLgfsjCAFpra9DxvviYUYSvyYcqEBERERERjYKBNyKiacOO3iMuYAEw2NmBjteCvI461LIDsGXGICaxHF0XVFIUJFtbsFleLRbMgrWoyDA+dj0cj9jERCTGxyDxUTNyVxnplwv3QxYGRL3K693yHliLOH2OcsaG9BiR98ooPcmViIiIiIiuSAy8ERFNGwM4Ka8U+5kNhRsKg7/+ST0gYKrMSEb1rtIQV9/FoehfDqM2N0F/MqjL4YAzoQgtR/dg3fXGEpcNz0MWBFMpNn6dzzIlIiIiIqKxXaMJ6jMRERGF0P1oLHJ3u2B66DA+2i5vPSUiIiIiIhodr3gjIiIay3AXmnfLm0gTUPFNBt2IiIiIiCg8DLwRERGNyoneZ6xokx/XfAeVS/REIiIiIiKiMfFWUyIioqC6UB5bhoNwwCEvdpuRiYZ3O1HEp5kSEREREVGYeMUbERFRKC4j6Ga+tQgtDLoREREREVGEeMUbERERERERERFRFPCKNyIiIiIiIiIioihg4I2IiIiIiIiIiCgKGHgjIiIiIiIiIiKKAgbeiIiIiIiIiIiIooCBNyIiIiIiIiIioihg4I2IiIiIiIiIiCgKGHgjIiIiIiIiIiKKAgbeiIiIiIiIiIiIooCBNyIiIiIiIiIioihg4I2IiIiIiIiIiCgKGHgjIiIiIiIiIiKKAgbeiIiIiIiIiIiIooCBNyIiIiIiIiIioihg4I2IiIiIiIiIiCgKGHgjIiIiIiIiIiKKAgbeiIiIiIiIiIiIooCBNyIiIiIiIiIioihg4I2IiIiIiIiIiCgKGHgjIiIiIiIiIiKKAgbeiIiIiIiIiIiIooCBNyIiIiIiIiIioihg4I2IiIiIiIiIiCgKGHgjIiIiIiIiIiKKAgbeiIiIiIiIiIiIooCBNyIiIpq4c83InRODxMouuFTS5BqA7bYYxJR2qWmaSr1PJiJmThaazqgE0g3sSEVMTCpsY9ZLF0piYpC6Y0BNX2bO2JDqn78DJQFlu1r7gdHOJaIVwzDcC2uiOFatbBJHrTAEqXtHS67YXiLKD0XnaDrlov77MF78XSGiqcHAGxERTV/qhCYm6CvMkygKz6cuXFQfabpxYeiC+khXMfaDsHw6BKf6OF6uC9PsaMrfByK6yjHwRkRE015cfh1a9rb4vSqRrObTJFhQisO/PY/T9dkwqSSaSg50VeciafNEwsmh1mFCdv1pnP/tYZQuUEl0FWI/8HG8GfmZuYFX/83MRsPp8zj/b6VIUEmRSnjoMM6fP42GVdPkaMrfByK6yjHwRkRE097s5NXIuzvP75WMODWf6Mrngv1QNwYmdKnNZKyD6CpxrhtdRwfxqZokIiIKhYE3IiIiIiIiIiKiKGDgjYiIpszevXuRmioHqY7R3+X0ZcM1gI4nc5EaPzIOXHxKLqydDrWA28hgzM4+GwoXG8uWHFCzg/EMUu7CwGvlSHdvIzYJhY1238Gm1bh0wdYXOMC318DQ5zpQnhlvrHdO4sh6vdNjYpFe2QHHsP5lX85eNJWmI36Oylt8Okoae/3GKnIPEG+Ho1OUI1Yu6x58PdTg8bLMVuSmuPNgrLvqkFe9fmJsO1Ffn3jNiQ+dz3ANO9HbWIL0xFjPdmNvyUXTcTVfCrZMYrBye9X9sAMdlSP1lLi+CXZZ0X7psSvK0XHO+K6H12D1jk5RJ7eo7cryljah12+jXaVi3m22IAO0+9a1kbckWE+IiX35xjrFa6QPBbZB7C2FsPWNbHCsdYQaXN51pgPWnNSRfiPKkppjDSy7V57ld7z7ZJK7Dr3J+vTZH8VyOU3oV7NDCtiP5fptAXU70p6iD+woRJK774m+aT3k3/qCWq9nuVjRT1r89t0wBZY/MH/htJkUcTnc63X3PXlMKG0OrP8QgvWDyapLu76eyB5UoR+D3WUR63FvzyddHg93hDqWBXn8QZCHSvgyvhuzrk18tsN6iyqHZ18NNWB/BHUfJA8j9TyBY5Ck9q2R+k9C7pP+x1uvMojjs219EmL1PIvfxUwruj5Ri7mNub+Grm/nz5pQkpnoWX9MbGLQ42FEv6PSpP+uhLdPevJ5ymgPvVyqb3jaUPze2tYnGuvx9JOx1u9C23qZnotm/z9LpBM1SBLfyWpUM8d7DCWiqGDgjYiIpoQMslVUVMBut+vT8l1OXxbBN2cXypPEH+87T8JcqMaDa6pFNrr1P47Tdxh59vGeOLF7YgiVPz2P8+fPY88alT6KY99bhdRa4P56OcZcHYpuECegm1PxYPt4Tt+9fPIqSrJqxIp3GutdIP7g3pyOspY2lNxWhoHs7+tlqiuMQ//LhUh5sld9URHlL1mahaoD16JomzEGXt3d4o/8zVlYutlvWelQFXL2paHlfVn2PlSEHO/Jia7SRCRtsOHk9UWoU+Pr1RXOxqA4eTKIE7y7xLZ/ci3WflfNv3e2kc/xPgFv2A7bynhkbW6D645q7NG3uwfVaUMQ50Ijy6z2X6YOGxcMGuWWgVW16AgnXn14BWpwP3buEfl8wAJHZ5U4mWtG28MpKBvIxvdFesv3ixB3vBmFt1WhN8hJ3mBnCVY82oNl5buN8j5kwdl9VcjKs8E+jpPCuDWyz9ahQN47/dUKfZ3yVbnMmI8DZXobDP7NY0Y5mzZj+ScdsK7M8ZzYj7mOIJwHypEkTwztZk+/2fN0NvC2DEinixNPtaC3/q1YdZu7r8q+EIcBUYepJaId1CJyrLnmr8vg8SCWP63WW5OL2b3HxZzRdVXKk/BBLKvaY3zv8eUY6rTqdRvklF+0ZwrWH7HgO41GvWSK01LbPaKNZQDSTe8rxvEhrkQdH76bgYFnUpFVFyRwM5qg5Rf5K23z7W9htNmIMMsh2HesMvbHuI1qf3wWGQM1SF29LUj9ROLS1OU9Rd2wPCH2I7G9bLPcXha2d9qQs7oJs/X9aw82p7vQUZ2FwpfH6j3hSkalzPcjaeJzHAq2y3oUr+eyRx2+YHLqfoLHIP3YKPatnWeRbFX7yCMWnNxZiMSvNwfuX/K35bb16F7yHeyWyz6eCRy1IT+zBiO/iuPfX+07sxC/ugptFzJQ3WR8t64kAYPyeLhUBqjUgl7C+x2Nwu9KRPukOBY9moPWtBa8L/4+OP/zCq/x/kTeirZgqPwX+t8O55vEMVMac/0mFDxUKv7tRtuBwJrtfUke4/LwkDimTKRNiChKNCIioimQkpKizZo1K+Al06PmvXotJcg29e2+cFYtdFE7uHGuSFuh1dtVkseQmDdfzFupNX6okrSzWv1yuQ7vtDG8UWxsN6NeO/mZSpOGWrV7ZPpde7VBleTOc/EbatrL2RdkHRZrB9X0SF6WalvfUUnSHw5qxXONcq544aRKlAa1xjtF+txNWo9K8ZR/brG2f0glKSfr5PZytL2ezIn1yvyK77/pXQ6dMW+kXsXWXsoJkgd/Z7W9z7Zqgz7rG9L2fkPmX+TJk67KunGk9KH0VMk2my/q0K9AXoy6DL7MyRdWiHlztU3dKkEwlp+lLf3HYypFcvcdkS+/th18caWxjrdVguTuB8u3+fYDYajtHn1ezkueyhbrlsvWi5L7C6zrUeunq17b2utXzt4t2kK5jjrvtgm9joC+5+5j/n1aGhLz5ot5dzaO9Gt33wnYz4a01rUy3aufDdRrKwLyJly8KGp8dAcbtmo9fkXteWqhWH+Kts1ru+72nC/K6rP4O1u1pSJ9btXIHhKyr1x8U9skyynWXf+eSgspgvJLYbZZJOVwH1sClhW1+ua35T7j16f0/upbtoB+IExKXbr7TER1eY/W6r0az/Heb/2fiXaSfdX7OKvW4bsPKWGWO9hyhiD70aTV/cSOQcY6fPcFaaijWJvrs6z7tyWwrY7941Lf9Ya1vwap75B1ItiNdc799psqQXAfP8P5HRX5n+zflbCPoyqfPnlX3G248kXvnV0Ja/0nta1fFvn1ObYKqo97tjmBYygRRQeveCMioinhvtLNX6j0yRTsqaZ1a9S1CRc60bTPBdODz6JikZE0wozsJx6DBb145cd+1yQsWo3MG9XnMBVUVcAyQ01I5gzkZYj3QQeGjJTxWVSEtbeqz9LMDPztHfJDNioftOhJhjhk/p2Ydtlx0v3f3qr8cWWVyDOrNMWSu1aUvRvd76gEt5wMZHqXI6gBtL7YDaTWof0R7zz4S0CRtQBxPuszIzNDfuc4Bt43UsI23IXGRqdozxbsWeNXII9+NDeIfpdaje8GWcZSVo0CuES9+N8qZkHR/+n9LFwTMrJlA4qartjo07Zxd6wWS7tE/w68viDbvx8I5vzHUGoCuo/0qJRJtKoC1al+5UzNhMy53T6+65xcB5rQ5jKhtCawLDBn4ztVov36XkGrf/vlb/bbz8zIWJMp3gfhcF/dcv08/eoQe0eH7214JpOo8dFli7ZL8ytq2u16SXHyPWN6hAWVVdkiB15uXY3VYiOuTwZVgh2tr4ToK6ZMbPyH0fp2EEHKn1sgr3gZhPOCkaKLqM3CKYf43mvNojRpqH7ab1lRq5l/XynWMhHh5GEAHT8MUZeizzwWcV0WocB7NQvE8VQe1uNKUem9/hmi3nLEe684nhgpU27y6n4ixyB13FvzWMBvnXnN15Arlu3u9f+dq8Rjfm2VnL1abNWF332sEsa5v/a/Uh+iToRFov/fK/rO7jaf25ql8H5HJ/l3RYrwOJp7hzyuBWPB6juCXBsZ1vpF+28UZehrxX7v24gPNaPJlYCKB9U2J3AMJaLoYOCNiIimhMUS/NQiVPpkCvZU08xF6s9Px6B+MpZx+3Jj2t8CC+Tddv2/8gsQLrNEcLIkWXDLl9VHjzjMu0G8nTo5sRPCv0n2y4sJZv3vdzPMM/UED5N+IuJ1kq/K73g+3TOujOeVYtxOdPyUb+4sXw6n5HYcOyFKmLF87KfHuhzof80Ga2UJclMSkZgYi6Rqv/oO1/t2cVo1SnvqHDgrzkVD5m2GaKsl4l20uW/JlyHZ74TVNNM4UTLP9DudmWFMDzr9b2qyYPmyYKc+cUiQt+yeGIhKcMB1qhtNteUoX5eOxMWJiJ+TDzlC1Xg5zslcZmD5V4xpfwmL9L1GnDAa026WZO+ggSEuLlb86xUYm1mA6vpsxB2tQWqsHAfLhq5TYd4cNuyC/UgTairLkZ8p+tLieDUWVzCB7RnYDgM4eSp0XzH2p/AF23eMPiT2F7+6Cr/NwimHKIlsjLhMLA/2Hwaqv45fOHkY/ZgQcV0G9KXZmH29eLtevBsJHvq6Xb+b2H9wTMDk1f1EjkHGcU+OQeYZT839mlOo9y27/+9cwG+LEJegB3WOn1E9a5z7q+OcPAiHqBPB2FfEMcQnSBbB7+hk/q4o4e+TFtwc8mdyGSwhhmcIZ/0J+RuRhl7saneX1oW2FrHUklIUyd8taSLHUCKKCgbeiIhoSpSXl6tPvkKlX/YmfKJ6eUkuM8b7CfbyXB3oFkHZZ39hjGVP2ZB1QyLSS7bhiOPzSLh7M57fthsND4QT3AvNfO3l2z6jBhj+l3mSr0hwouvhRMSm5OKptgFcjMtA5dPPY+er1VAjC12WLA+04/R/9aHl8Qzgx1bkp8Qi8eFg4+55kWM1Lo5Fas5TaD1zEfNur8R3v7sT7daJl3TMfhyusPadKLaZ+dJf8TJpdXmluQzqXjLfXRv0OK+/vhUYGA/HuPbXaJr035XI98nRjvOB8yJY/41FeCgXsO+SV1EKFzrxaieQ9s21ekDU7bJrE6KrHANvREQ0JTZs2ACbzea5wk2+y2mZfknFGbdkHHk7xC1+Z4wrqDLTxndCMl6n3FcTeAm4GmEyzDRjnngbNC0KuCrQ/fJcHRiR2bhOfM3+k55RB3PuqrOid0YBWv7zA7z1agMarKX6Npd7n0FEQpWn80iQh0J4xOGLcYDjSIi8DRtX5pjSlvucyEyOwCubdBd60S23ufhm36uBTtiNkytvqk+G5UwzrC0OWJ7uw0fHOrGnvhYV94p2vcMSeHtXBOJu1Pca9PyHMe1v4JS+1yBtlIczjGmmBXnWdrz1mw9w+BELHC35eHSUpwcPvGxFs8OC6l98hHdf34OG5ypQIPpS9pKJlFT1497jCHa9yNBQFK6hilKbzTaLgpzqwXHvW1rdnENTcjXY58VrSutyDMGGOjD67uS6HOre3ZedrnnI9jq++7xuDXYtYpgi3F/jbpQH4W70BHvyqqD/3pmWY/lNKiECk/67EqV90iOi9auHLLzfilbxm+FoaUSX56EKfiJsEyKKHgbeiIhoysggW19fn/4kL/l+yYNu0sxcrMsFXLufCvIURie6vrcNdmSiYNUETkgioQKB/Ud6ff9n2tmGpn3q82SKW43cVPHH+856dEzqf4Wn4f4yUZIjVmw5EGrFA8atiDfdDIv32cVwP1pfChadCkPc11C0RrRn46bgT9XUJWPtAyJvfTVB82bfWYM2cbpT9A351MLJ1/ZyM5x+Ty/tr9sqTp58t6mfmEKcmB41pt36X2kKDMa5iQr1Cdm+ZwTuli3yvdLD+ePmELdICf7rCMK0Zp041XOhqTrIk1idXdhaJ7aaUYDV49lthl1wea9zhhlp98vxBoGPHKHDuEYQxf82LqdxG9a4pSH76+LtwLbA/vRJM2qeHy2sPE7jabMwpN0pDnSil2170a/3DDvR/L3tU/C0wwxkyixMZV2GZATfcaQH/T5P/exH8y6/+hmVaKuAsQMDXfq6l9KQW2gKXv8TMc79NbmgSPzW9aLmmSBXYZ2yoUb83pk3rBW5jlQUfleitE96RLr+23NRZBpAc1ubKFMvTA9uRIH3sBLjbBMiih4G3oiI6CpnQsEP2lFg7oc1JRFZTzah47UOdOyzoSQlHvnij/+CV1tQFOGDFMZtZi5KC8XZwoESpNxTgzaZl91WZC3dCqzx/aN8csSh9J9qkexqQ+GXUlGyo80o/2ttsD2Zj/TVtjGDMKEkW9tRe6sTbevikVpqM8oi11uZi8JGudYEZGcniJOsGuRvUPP3ic+L89H7xfGW1YyCpiDt+VoTatalo+qQsZTl8WB5a4J1dSJSq/uRXHMYdV81lp1ccUgetCL+tnI0qfqouScR6c8PwHzvHlR7bTP5/koki9rfvjIV5btV3W1IQvoJS5DbmxJgkVeXHd0G6w5Zj1WwybLenok88db2cBas+jo60FSZisSXPw1yQhtiHcHMLMDOVwtgPmpF6uKRdbftKEHql+S4RAVo/5ci36v3wvX+Lqy6Id2rLzah/D453mA2iu4OvcaMO/WSomy1VdWt+J7oA80XJhZAzX5C7B9i6zUpSShUedLLuXgXzPlR2CcjarMIrPmO6POA/ZlUJHn2N3Gcuy0Ru8wF+kl5dIljbc0U12VIySj6h2TR17Yj3b0virooTElH/5fDvKHXcoteZ83PVul1aattDn2svOR1b8h8ukUcG2X9ex8bRf+qLUHu4vKABxmEZZz7K5ZUo70mGc59+YhPKYFtn8rLk1lITLGi/9ZaHH5uPD0+Cr8r0don3SJd/4xMbHwkAY7dj2LbCa+HKriF0SauQ+WIj4lBlv5bTETRxsAbERGRORt7ftmHhgfmYWBPFQo3FKKwtAa98yrQ8PNfjvJ0zGgwIbv+F2h5IBmun2xHiczL8wP42o9+iudvV4tMtkUVOHSsBRW3u9BZXWKUv+RR1L9txtonfMeNicgMCyoOvouWMnFScMBqlGVDGer7Y5GdZvzxb3n8sF7WoU41/5leJP/gF6hbpc8eH9mexw6j7l6v9iypQceFDGS7B5+Wefu30+h8XJzuePJWhWZXBmr3n8Zboz6JdSJmY+2uX6L97gFsL5HbLMH23nko2H4Yv2zye7rfggq8/m+1yLtpAM2PGnXXaq7F6X8pDXL7EZC9vRMVyz5FR7VY9uH9GJIjzMsAmVzH9cdh09fxIF5xVeCt9oqg7Rp0HSGY1+zBL3/egKIbBrBLX3chSmp7Me+hBvT9cg+yx7vbxC1HXpoLXc+4+2INeiyb0flrGVBVywRhyt+JwzV5mP2uDVXyew+9gov/8Bba5JWXEyHa4a1fi/0jA+hS+8ejPwI2/r+v4zvRuAM9wjYLnzhBF33eZ3/c3CoK8jpef+IWtUyUTXVdjiKh7HW9vyS832z0l8pWzK45jfYHwuy4oiwt9XmIe7dJr8uaE58fZQy3y6DuJa9jo71RHRtF/9r+2kdYZq3AaI+kCWmc+6tkeeQtnN6/GXnogrVU5qUQVS2fIqOmE6f/LcgTk8M06b8rUdsnlXGs3/JABdKcTjhvWou17t81twm0CRFFxzWaoD4TERERUbQcKEHMuuOoPdaHihBPtSO6WtmfT0XqMybU/vItVIxjXC+iq8q5JmQtrgK2n8bhh8Z1bTERTSFe8UZERERERJeQA91v2DHewfSJrjb2l23oRYiHKhDRZYeBNyIiIiIiumScB7agpg/jHEyf6Coz3I1dOwYCH6pARJctBt6IiIiIiCj6DlUhKacEVq9B32vWpSJ+XRucCyrwr//IsBtRKAMtNbDJByXclosmFGD3034PVSCiyxYDb0REREREFH1/vRyZOI7WWjXo+4Yq2N6RTzttx7s/r0Uar94hCs3ZBat8CNCFPDT8dA/y+KAEoisGH65AREREREREREQUBbzijYiIiIiIiIiIKAoYeCMiIiIiIiIiIooCBt6IiIiIiIiIiIiigIE3IiIiIiIiIiKiKGDgjYiIiIiIiIiIKAoYeCMiIiIiIiIiIooCBt6IiIiIiIiIiIiigIE3IiIiIiIiIiKiKGDgjYiIiIiIiIiIKAoYeCMiIiIiIiIiIooCBt6IiIiIiIiIiIiigIE3IiIiIiIiIiKiKGDgjYiIiIiIiIiIKAoYeCMiIiIiIiIiIooCBt6IiIiIiIiIiIiigIE3IiIiIiIiIiKiKGDgjYiIiIiIiIiIKAoYeCMiIiIiIiIiIooCBt6IiIiIiIiIiIiigIE3IiIiIiIiIiKiKGDgjYiIiIiIiIiIKAoYeCMiIiIiIiIiIooCBt6IiIiIiIiIiIiigIE3IiIiIiIiIiKiKGDgjYiIaLKda0bunBgkVnbBpZImytFZjvTYGMTExCB954BKpUtpYEeqaI8SdKnpK13vk4mImZOFpjMq4RJwtOSKOk1E+aHAPSdgH5jk/SygPYd7YU0U21vZhJE9bgC220Ra6WXS6lE41hAREdHkYuCNiIimrzM2pIqTdHmiPvKKRWJmOTrORPE09VMXLqqPk+JnVUhZ34yzX92MPXvrsPYGlU40aVwYuqA+XkKuCyH2nGD7wGTvZ/4+HYJTfbxsRbsOiIiIaMKu0QT1mYiIaHqRgbdbrBjKr8PzufPESeoAerq60PrjbjiGk1F77C1ULFDLXsa6Ho5BfksB2n+7B9kzVCJNEQe6qh/EJlcF3t2erdIM8gqppOplaD8v2kWlUXgch6x4cPOnqDhWF1bdTcU+EF57yivekmBd1o7zTWx1IiIiGhuveCMiomlvdvJq5N2dh7x7K1D7z504/fNqWNCPmn/qVUtczhwYfF+8LbkFFgbdLgEX7Ie6MXDZX/p0ZXGd6EL3md+pqbFwHyAiIqIrFwNvRER09VmUjGXizeUcMqYvay44P1Yfia5K3AeIiIjoysXAGxERTZm9e/ciNVUOYB6jv8vpS+LcWX2w9Mzbk41pN9cAOp7MRWr8yHhwSett6PW/2mnYEbhcThP61WygCyWyjDu8H4LgRG9jCdITY9V3YhCfWYUuh5odhDHYexKsJ8TECSuS9O+lwuY1+L3zZ00oyUxErFpnTGwi0kubAvN8oMT47imR98p0Y/nbbF6DxvsbKYOzz4bCW1S+Y9NhPWSs3Cd9TiIKd/QGjokVZp16BrYfFvW0oxBJahD9mPiR7ckATNt6mZ6L5mD1dqJGr6OsxlEqVQmn3nzqf1++sZx4lRww5nsEyXN5Z5A8qH7jWS42CblPdsAxrObrRgbv1+t3sbFswDZ9hNm3PulFU2k6Et3b9+u3njZQ027OPllX8V7rLkFTn18DuvvXGRcGXitHuru9RRkLG+2i5RQ17mJStV1MtCFfrdPzsALPeozJ0feBYPuZJPNgRW7KSJ5lm1QdGrtf+BrjQQpOoz7j5xjbiL0lF9aAdnfn0e71cIiR8gX0w6B9Z7R1hKiDsPqacK4D1pxUTxn05RpHjmREREQ0cQy8ERHRlJBBtoqKCtjt8oQb+rucnurgm+tUF6ruq0LvrbWoK4xTqYauShkkGMSyqj1o2duCPY8vx1CnFVl53gEqB5q/nqgvt/zpFmO5mlzM7j0u5oTWu3kpsjYfQdwDO/XvtHy/Ard8dAz2UQa0j1tTJ5atQ4HMZlwB6uT3xHS2yrZ9ZxbiV1eh7UIGqpuMvNSVJGBwXxWylpagKyAKJsr4aA5a01rw/vnzOP/zCiSo9JD6t+Keom5YntiNlqbNyDb3w3ZPFrZ32pCzugmzy0X63j3YnO5CR3UWCl/2rYXw6tTNiVcfTsH6IxZ8p1GUR2wvE3J7K1AjAy8woeChUvFvN9oOBNZ270tynXl4yK9d/YVbbz71/9UKfTn5qpSXS3oEz3Pz+izUHFWLSMN22FaKfrPzLJKtqi4eseDkzkIkfr05sO+8Z0PhE0Oo/KloJ9FWe9ao9CDC6lunbEj/Uhaq2l3IUNtvaapG2tCpUfut80AJlq6sQteMIk//+9qFNlStXIqqn6mFvBz73iqk1gL31xvLFt0wgI7NqXhQbFcXl62vpy5fVmoaKvR1ite3/ILgylj7QCAnukoTkbTBhpPXu/Mstlc4G4OT+UCVYdEv83KwC2vx/T1iG021yBb90rY+BSUHgux4h6qQsy8NLe/L9uwzxpY8Y0OW6IdHTGvxrCpX0fWy76QEfapr0HUEE25fk09EXVwI2+ByVMsyiP249uuz0dM/Wo8gIiKiiMmHKxAREUVbSkqKNmvWrICXTI+a9+q1lCDbXHhXvdYzpJbxcrBha0B6z1MLxXdStG12lTBQr60Q60ipO6kSlIsXtYvqo1iTViyXeeGsZ7pMbvub+9W08pn4zmfqc0hntfrl4rvL68UnL6ps8zce1AKKYjfyOPfbb6oE4Y1ivew+aaMyyjBr1j1aq/cGPHU6Xyt+w2vGZ29qm+aK9Lv2aoMqSQqrToWzLxj9I6A872zVlsp8V/WohJPa1i+L7dzZ6LMd9/bHLF+k9eauf7G8v/Dz7F7Wt8zSUEexNnfWXG3T2yrBvb1ZK7XGD1XSqMLoW5/1aJvmi2XmF2sHAwo9wsijWEZNa38QfUDWqVi3z9c+O6ltk3n0bmvVv2Zl1Gsnvfv0UKt2j0z36xcB23LT15Oi1b+npnUh9gHVR0f2M00bfClHz8eKF/z2zzAE5ilY27vbZ65W3OFXmZ8dM/rm/C3aSMur/WjuJu1N/339vb3a1jafXizqa69RXz7tOco6gtRBuH3tbMOKoMtdFMcyIiIimjy84o2IiKaE+0o3f6HSJ1NcvrxqRl3RUVaAm9+zIis+EYXtvld2ZJdVI82sJpS02zPEv3acfM+YxvXz9KvE7B0dsHtflGIywaQ+BkpA3E3i7dB+dHxipOhmiO+Mc7D4/lfqRa7SUP10NvyyDCyqQPW9gGt3W8Btg7l3ZKpPYcovQoH3BhZkIE+/+qgUlWu8ZszIREaOeO897nMlW1h16mFBZZVfeW5djdWiYl2fDKoEC4o2WoC+Vuw/p5KkQ81ociWg4sHRyzfeegstWJ7zsFbU0cgYgv1obhD9fM1jqFikkhTzmq8hFy509/pd/7doNTJvVJ9HFUbfOtSIJqcJpf+yB9kBhQ7NdaAJba44VFTk+ZZvhgV5BaINjnR7blN1K6iq8H0Agln0F9ncgw5Ef0TFAbS+2A2k1qH9EZG/aIqrQGWuX2XOSEZpleh/zi50n1JpbjkZyPTf1xcUoVq/8s+LOROZS8T7iYHAK0KDrSNA+H0tLk4/kqGj0+tWYMEkjmVEREQ0eRh4IyKiKWGxBD8RDpU+mTxPNb27ABXP7UHnrz9AS74THcUP+o4VNuyC/UgTairLkZ+ZiMTF8YhZ16ZmKjMLUF2fjbijNUiNjUV6qQ1dp8a6hc2Cyh9UwHKhDYVfikFijhXNRx0+J7uRcpwTGY/LxPIQwRnLl2W99sMunwbpYcHNEVa3Jdn/FsDZmH29eLtevBsJHnqgx/U73wBLOHXqsQzJfsECUUgkyFvqvAIRCfkbkYZe7Gp3p7jQ1iLWuaQURTJoMYrx1dtolsEScMufqqPjdpVnB87KfnagZGQsL/drTiFkbdh/5ReAXmYRrRWOsfvWwKnj4t8MLP+KMR0uxzmZewe2Z/rlWbxSn5H5PQ6713iDMi+3fFl99IjDvBvE26mTgYGkSWfHsRNiixnLxVajLD0ZwW6OjYuLFf8GBpWNfhXI5ehHxw4ryotzkbpY7B+xajy7IEKtw1f4fc309Wo0rIpD/zOpiI1NR8mOrlFvfSciIqLxYeCNiIimRHl5ufrkK1R6dJmRV5Ar3rvR/Y6RIq9SKV8ci9Scp9B65iLm3V6J7353J9qt2WqBEZYH2nH6v/rQ8ngG8GMr8lNikfhwV+CDBbyYM2rR95vT6NxehJvfs6FcDqi+0ga7/2DnUTbeK+zGJYI6jciNRXhINJ99VzP0EMKFTrzaCaR9c+3YY9ZFQbh1ar67Vl15GeTlP8bZjPCvOgqvb5lx7bXqY0SSUfHPQfKrv0Yba+3Smf2FKbhia9T2MeE6/6h0kOXlWIOxiekorDuCwS8kIG/T83i+sQFFAcFnJZI+EU5fm2FB0b+exke/aMHmO4DO6nyk/lUiyoONUUdERETjxsAbERFNiQ0bNsBms3mucJPvclqmXw4GXrai2WFB9S8+wruv70HDcxUouDsP2UtC3Js304I8azve+s0HOPyIBY6WfDw66pMnBVMcMh9qQOevxTbqs2Hqs6Jw5/iuA4q7MQ5wdKPH+3ZLL/pVLablWC5vQ7xEIq7TsKmHLLzfitYTohpaGtEVxkMVpEtTb7NxnQlwuuYhW7/yMsjr1glGsEbpWybzPPFvJ4706ZNhM743CNNfB8mv/sqEZaax7OXBqGf7T3pGfWDEpPBczeirv/eI+Hc5loV68IHbcBe2PdkLU34LPvjgLbTXN6D6QVmnyycYPI68r5kW5aH61bfw0X8eRsUSB5rXPYquKf4PASIioumMgTciIpoyMsjW19enP6VRvl+yoNuwE80vy5uuMpH5N0aSMdac/22DTuMWRm/DLri8T0pnmJF2/1r9tsCPHKFO98V3fO4rNSGhsAjymruBD8cXIkguKBIn6L2oeSbIlXanbKjZB5g3rEWaSroUwq7T8bg9F0WmATS3taH1pV6YHtyIgjCCQOOuN1GW8d8qmYbcQhNwYBts/mN/TdjYfSvu7iJki+WanojsCsu4Vbki5w7YbB2jXs05fqciuKU3HGm4vywBOGLFlmhftXWiCU19fjeLO9tQ87yo84wCrB4rjvobuyg9kPBli+/4eUdb0TyhPhJBX/PtOMD1aSiSY/fhIwx6jxdIREREE8LAGxERTXtD/QfR8VqHeLXB9mQJshbHo/yAOEV9rg5F6gQ548488W8bylZb0aQv24TylEQ0X/ALwby/C6tukOMhtal1iuXuq4Ed2Si6O9TZ9hGU3ZCI3CebPPmoWbdJbC0BFfeNMzS2pBrtNclw7stHfEoJbPvkejvQ9GQWElOs6L+1Foefu5RhtwjqdDxmZGLjIwlw7H4U206M/VAFj4jrLQGWZeLt6DZYd4hl91XBdsiYE4nMp1tQYLajRpQ/y9MPxHZrS5C7uDyChzn4C6NvmQuw59UCmI9akbo4C9bdxrY7dtcgf0VV6G3fWIqdoq5c7YU+ddWxzwbrunRkjfNqTSlhkazUfmx70qbnuWrn+GvAW7K1HbW3OtG2Lh6ppTa0qTqxVeaisHH8+Q2wZDaOrE5Cfq06DuwuR+qXSkRdJqP2+0VjjzF3UzaybwLsz+SjUB1L2mrzkbi2F18MdatpmMLtawONqxC7wqtdRRkKa+3AmiJ8TS+AC10PxyNmThaafMbyIyIiooiop5sSERFNP+/VaymzZmmz/F7zM4q1xreH1EJuQ1rPC+u1pXPVcnNXaMWvnNQuvlGsTxe/oRb7Q4+27a4Ubf51arnr5msp923V3vxQzdcd1IrFvJQXzqrps1rrxhXaQve6Z83VFmaUaXt/5Z+HYM5q9cvFd5bXi0+BBv99q7b+K/PVesVrvsj3C29qg5+pBdz0cqRo9e+p6TH5l8EtdH4ObpR5KBbfdAuzToWzL6T4fddtlPJ/2KitlOv98lbtpEoKV9j1Jg29qW3533ON5a5bqG3tNZIjzvPHPVqj6AeeviP7wVdytC2iTkZ6gvruxsC1Bhd+3xp6u1ErzliozfWUOUXLeeKgNqjmBy/PRe3sj7ZoOcmq/Pr3FmorNtb79vlR+ldgv5CGtDefWOHJy8Jne4zkoOsJ1QdC9NGLZ7X9T+RoKfNVfvU6Kdb2vnNRLRBcYPmDtcVI2sVf7dWK3f1CbGPpXVu0/T7HASnUfiR8uF8ryxjpgwvv2qod/PhkkLKOso5Q88Loaxff3qbl+OwDKdr6Z733gYvawW+J+det1BrDPm4QERGRv2vkPyoGR0RERHTlONeErMVVwPbTOPzQmNcYERERERFNOd5qSkRERFck+8s29Ib5UAUiIiIiokuBgTciIiK68gx3Y9eOgbAfqkBEREREdCnwVlMiIiK6Ygy01KBjZhzstVVofr8ALaf3IM/nsZBERERERJcPBt6IiIjoijGwMx1JT/YDN+ahYX8Liib4BEgiIiIiomhi4I2IiIiIiIiIiCgKOMYbERERERERERFRFDDwRkREREREREREFAUMvBEREREREREREUUBA29ERERERERERERRwMAbERERERERERFRFDDwRkREREREREREFAUMvBEREREREREREUUBA29ERERERERERERRwMAbERERERERERFRFDDwRkREREREREREFAUMvBEREREREREREUUBA29ERERERERERERRwMAbERERERERERFRFDDwRkREREREREREFAUMvBEREREREREREUUBA29ERERERERERERRwMAbERERERERERFRFDDwRkREREREREREFAUMvBEREREREREREUUBA29ERERERERERERRwMAbERERERERERFRFDDwRkREREREREREFAUMvBEREREREREREUUBA29ERERERERERERRwMAbERFdvc7YkBoTg5iYVNjOqLRJ1YUSff0xKDmgkgTXmQ7UVNag45xKEAZ2pOrLxdxmw4BKIyIiIiKiKxsDb0RE08m5bthK05EYawR75Cs+swRNP3OqBSbZgRLPdmJiYlF1RKWHYK9NGln+qg0wDWDXfYXY/vJ2FN7HIBsRERER0XTGwBsR0XRyvA31v0lGZX0LWvaK1/crYPlNG6pWL0X5IZdaKFpcaGpsE/+GMNyNXTsmI8zkgr29BvmZ8Sj3uorsUnKdakPNunTEV3aplNHEwZIWp39KW5uNBP0TERERERFNRwy8ERFNJ2sacPr1BlTcm4e8u8XrwVoc/sUeZMOJ5t2doYNik6WzEc1et096c/14F5pEBuLijKDT+DnQVbcdXUeduKhSLjXHgW3YfqAfzrAq2ITs+tM4f/48DpdZVBoREREREU1HDLwREU135jRkLhHvA4NwGClRkI28XPnei9bXg23FgdaXO8R7ApanzTaSiIiIiIiIpjkG3oiIprvhsxg4A5jSl0fxtkYz1j5UCpP41Gtrgt1IHHFuP5rl+G9LSlGUZiT5c53pMsani3ePGReD+JRC2PpGxqczHkCQBOsJY7ptnd94cT4PS3Cit7EE6e7x7mKTULijF85h/atjkg9AsOakIn6O+n5MLBL9x8tT20uqViXel6+WHf1hDV2lap2lIW5NdfaiSdRFrL6uGMTeIurBZ5w+F7oejkfMnCw0ReWhEERERERENBkYeCMimrZccJ7oQs09hWgyF6HlqRARr0liyrgfFfIu0vdt2OX3kAX7yzb0ive0b65F8Jsr5QMH8mHd1w/XFyzIzEhGnAlwnuqAdWXWSBBrZgLibozTA3w6c5w+HXfjtSphxLHv5SBrcxvOXi/myy+4BtBRnYWllV1j3nLrPFCCRBnsOmKHE2Z9G+YZLjiOGuPl5baosepmXIsEuX13hmYYy8bdmIBrZ6i0SA0fw9a8LFS1n4VZlVUPAk7JOH1ERERERDSZGHgjIppuPE8ajUX8bflovXEn3n23AdlmNT9qkrH2AXlNnQtNLV5XcnkeqpCHhwpDj+9mvqMWh//zPD74dR86X38Lp3/zFjbfJOfYUf9Kv75MwoPtOP3rw6iWt84KBU2nxbR4/Wup39V8drT1Lke7vj4x/6OP0Pd0sj7H2bIt5Dh0unPNKFzXBnl9WfKmw/jgow/0bcj3w5vkOpzoftiKtgvi402laBfzDltVODF/j5GfX7ejVM/7OJxqQ+9X2j3b/eijPlTfKmc40fy9ZnW7sAnZP/gA5397GKUL9AQiIiIiIroMMfBGRDTdLKs0nmgqXnWPFyDuUCGSbshCjdctm9FieaAC+nV1+5qNwJTgfqiC6cGNKJhppAVKQNFz4rvXq0lpRjLyCoxAneNcpKPTmVBaX4dsz/pMsGxqwGZ9db3oPBR6fQPtNnTLDzdtxu6n02B2X7k2w4w067Mo1a9u68CrB6J09ZmpFA3bske2a7Jg8wuboWe9rxMHozdQHxERERERTTIG3oiIppsbk40nmopXqXUPDv+6D7VJvdh+16PoUsGwqLmxCA/pD1noQGOLjBC5H6pgQlFBppwRmsuB/tdssFaWIDclUR/rLf358UaZcpFxu/rokYzkdOPT4CiPH7X/yhivzbRmdeBtsTMykZFjfByIOBgYpgUJ+KL/bapJycjQPwzCGe02JCIiIiKiScPAGxHRdDfDgoqqAsDVho63VVrUmFDgfsjCS60YcD9U4aYKbPyqvkBwZ5qRm5iI9A1W2PYdwcmZyVh9dxHylrkHT4ucKWCMtQEMvKc+hsH8hcBx4y6Z3wzglPpIRERERERXDgbeiIiuGiaYvqA+RpP7IQsnmmB9bJfxUIWK0hAPVTD0/lMVup0ih/kt+OCj0zjd3Y6G+gZsXjXegemOo98/UnWhFz1HjY/Ll4R+vmuCxcip40iPGk/Ny7BYx1vGR/lQhaj4ZAhD6qObq7cHxih3y2HhmG5ERERERFcMBt6IiKa7YTtsdW2AqQi5qSotqtwPWRhAR6e8bXP0hypIQ+rWT/ON8+AJtX3Sgfqdo9/O2dtrhKMC2bG9uhkD7jtKh53o+PajkDe9yjHUCu7QU4Oy3F1kBAn7qpD/vH3kCahiHb21m2CTWTIVoHRNkKvx3u5B/7D6PF6O7Sj33q6oh7Jv6zmH6cECZOufiIiIiIjoSsDAGxHRtDEA2+p05D9pQ9trHegQr7Yd5chanArr0TgU7a1Gpuf2S7FsZgxiEsujMu6b5yELUu7XkBvyoQoGy5fVVWY7shCbmIjExYnifTuQE+w6uQRYlhmfBp5PN5ZfbRMl8mbCtW+XI+mGeH1dieK9cJ98uIQZBT71EMSCCrQ8Z+S+/5lUxM4x1hEfG4+s52WgLwGl7d9HtleZEhapDL2/Hek3iO0lZsF2xkiKmMmMs3K7sbIe4hHzpUK06VkvQMvT7nHyXOh6WMybk4Wm8W6HiIiIiIiijoE3IqJpIw4Z/+ciONprULKhEIXiVfLMfnx6Ry3aj72LhjXjvW1zHDwPWTCh9KECfcy30SSUHUb745mImyGfseCAA8tRffB1fCdZLeAne3snKm41yiOXd/6veX7bSMBjB/vQkP9FOM+J9blEThbkofbgL7EnjHqwiPx8cLAOBbfGwTTs1J+q6oQZyffKuuxDXYbfOtZ8H51lycaTSF1ie855mDdGsDGkBY/h8M8bULBIbldG3ExIyK3F4WN7kD2FTUhERERERBN3jSaoz0RERFe2Mzak3mKFHRbUHutDBcdDIyIiIiKiS4hXvBEREREREREREUUBA29ERERERERERERRwMAbERERERERERFRFDDwRkREREREREREFAV8uAIREREREREREVEU8Io3IiIiIiIiIiKiKGDgjYiIiIiIiIiIKAoYeCMiIiIiIiIiIooCBt6IiIiIiIiIiIiigIE3IiIiIiIiIiKiKGDgjYiIiIiIiIiIKAoYeCMiIiIiIiIiIooCBt6IiIiIiIiIiIiigIE3IiIiIiIiIiKiKGDgjYiIiIiIiIiIKAoYeCMiIiIiIiIiIooCBt6IiIiIiIiIiIiigIE3IiIiIiIiIiKiKGDgjYiIiIiIiIiIKAoYeCMiIiIiIiIiIooCBt6IiIiIiIiIiIiigIE3IiIiIiIiIiKiKGDgjYiIiIiIiIiIKAoYeCMiIiIiIiIiIooCBt6IiIiIiIiIiIiigIE3IiIiIiIiIiKiKGDgjYiIiIiIiIiIKAoYeCMiIiIiIiIiIooCBt6IiIiIiIiIiIiigIE3IiIiGjHcC2tiDGJWNmFAJV2VzjUjd04MEiu74FJJk8nRkouYmESUH4rG2q8gV3l/6yoVZY8pQZeanlJXQd0P7EgV9ZsK2xmVMEG9TyYiZk4WmiZpfRNhlM2r71zK9ozy8ZKI6ErHwBsREU1fZ2xIjZEntsFel+hk93L36RCc6uNV7VMXLqqP0eC6EM21X0HY3y4d1n2EXBi6oD5eji5le0b5eElEdKW7RhPUZyIioulFBt5usWIovw7P585TiW4JWH53MuLU1NWnH83rytF2Zws6H0pQaVeY483Ir2hD9kudKF2g0iI1Geu4RByHrHhw86eoOFaHbJV2+ZoG/S0K5BVv+fsK0H5+zxXQhtEQ3X4hrwpLqgZqj/Wh4grbv8dilG3Z1PadK/h4SUR0KfGKNyIimvZmJ69G3t15fq+rOegmOdB9oB+DV/J9Qee60XV0EJ+qyXGZjHVcIq4TXeg+8zs1dbmbBv2NooD94opyBR8viYguJQbeiIiIiIiIiIiIooCBNyIimjJ79+5FaqocEDpGf5fTlw3XADqezEVq/Mg4cPEpubB2OtQCbgOw3Sbml3bB2WdD4WJj2ZIDanZILgy8ZkVuSrxn/THx6ag65F5/F0pEWuoOOxyd5UiPlct4DQo+7NDzl6Sni1dsEnKf7IBjWM13CyhHLJLW29DrNfiPMaB7PtrEZ3t1klrOva2R8o1w520ArjMdKM90l0Guuwn2YFerfNKLptJ0xM+Ry4nX4lzUHHKiI+zB5J3obSxBemKs2pZoj8wqdOnVZeQnZp1eAlhvUdu4zTYyqLjafqK7vubEI73Su77GWsdImX2N1Y5hOlAivus36LsnTW5D9AF3G4q2Lmy0jwxarsYuTKq2i4k25Lvz4d1mYfWXMfpyGH3Jw7++5bI5TegXsyLqbydqkCTmJ9XKsvmzo2apWHZlEzy1He5+Ea4x+43klWexvG19EmL1Msk+akXXJ2oxbyH2h0gu9HL+rAklmYmebcl+Vx5wfIpkXw22r3ulnfP6/pzEkT7onS7WG1g/woSPQwZnnyzzyL4Wn1mCpr4gHVBtb6QfpKOkxWufGYWrvVD/TmF7kKUvtKFQzIt9tFufDHiggaT6oE9ZVd/Xqf012G9E0PVFst/58G9PNa2vI8gr3opeteTY2xzv8TJIv41NRHppU2B5wj3+KUbf8N0fIj4OExFNFTnGGxERUbS9/PLL2qxZswJeMj1q3qvXUsQ2Ul44qxJCGDqolS2U+VmorXyiUdv/o/3a/h/Wa8VfMfK44oWTakHprFa/XKTfmaPl3LlV6/lYJY9qSDu4cb6+roXZW7RGuX7xanwiR1v/ojtvB7Vimde7crSU+/ZqZy+qZOmzk1p9hszLUm39C636d1ufvUdbKJafdddebVAtJh3cKNKuS9GKPcvlaPPlchn1IueGwXfk9rdoK2V+vqnK+6M3tZN/kHNV+TYe1Jc1qLx9s1hbMTdFK9ul8v+tpXqZZt3XqnlnV9Zn8Xy/fLxQrKVcN1+bL9NnFYs1jq6nStbXQu2eZ43v79+1Rcu5eaVW/56cO6gdk2lPrdSXKX7RyM/+fz+p8qHKsHCltsUvr/O/dVAtM9Y6VJl9+k447RimN4rFelJUeRSVVrxxhTb3K2Vq/Y1aWbKss1na+jZVy384qb0pt/vNhSJdlFHlY/87qieE3V9G78vh9CWdvV5bIdO9ltX3n/+9SW/nyPrboNZ4p5heuFU7plI83tmql8FTDxHsF+EJp99IarlvFGvFC0f6qKd+vrxV8z5iTMb+4D6WjfQ7d7+Yr5V1jeQssn3Vv+4lr7Ld7P6+2JZ+LJyrFb/SKsoyX8tRZfbUT1WP+r5h4schUW1if5DfmX+nV5n1fMzXNr1tLKPz9AOv47c4XqwUx/T58+eKdL/9zN9nb2qb5orvr/U7jgkX2+4R31+qbf2VMX32hRQx7d1eg9reu4yyuutatu2KuWUjy6i2K35DTXsJXF/4+13gd/3b86J28t+NPI28WrWteWKZWSu0ertaTBh7m+M5XmrayQa5vFjPV4q1+h8a32l8YqWxj84XeR9SC0rhHv+ktzfp+Vv4ja1aq1puy12i/cf6rSciukQYeCMioimRkiJPEow/oL1fMj1q1AlP0O16/kC/KE465MmZ74mIwR1oWak1fqiS3Cc3PmmjG3wpR9+mbwDPn3HiMmvuJu3Nz1SSYpxgpWjb/PI31FGszRUnw94noQcbtmo93iczQs9TMkDj//3gJ0qBJ2+SyltAHQ1prWtleo621xPlGKU+3QGaMQMNB7Uyudw396tp5bOL2kXvugkWvNKd1fY+26oN+tTjkLb3G8a294e1jsD6Ca8dwxRsu3qayKM42T3pncehVu0eme4XTAp20i6F319G78th9aXPerRNMnjkfxIdIPz+ZtSzb7+WeqpkvxLbUXUTyX4RnnD7jbve5mvFb/gW+tg/ykCU97ZH2R8GGrUc2a5j7g/Ce3u1rW1+ocShvUa/8NlPItlXg+3r7rIt1ba+o5KkP4j1yuCUWLdv/1eBUnHc8g69Tfg4pLY3V5TNZzWfndS2yfx57QtGPwhsC+3im0bf9N/PgjD6lnfdSCqotnwk4BWwzw0Yx7SUOr9jwkVxrFIfIw68hVl3gd8N1p5+3tmqLQ1owwjaK4Ljpbvc80V+/Fbt+S2Y++03VYIQwfHv4Ldku/odywVR7URElyXeakpERFPCbg9261jo9MkUl1+Hlr0tPq+6NerRChc60bTPBdODz6JikZE0wozsJx6DBb145cd+t9AsWo3MG9XnUQ2g9cVuILUO7Y9YVNoocjKQOUN91vWjuUHU0ZrHAvJnXvM15MKF7t6RvGWXVSPNrCaUtNszxL92nHzPmB63/M1+eTAjY02meB+Ew33b0PARvBqqPhdVYHO++jyqBMTdJN4O7UeH9217M0ww+dRNKAkoshYgzmdZMzIzZP0fx8D7RkpkImzHCSioqoDFO+/mDOTJJhx0YMhIGUVk/UUXoi+H1ZcONaLJaULpv+xBtt+y4xVXUIQ8kc/mNuP2Pt1wN1r3yn5VhGy9bsZRzjFF2G8WVeKxNb6FTs5eDZPY9u8+VgnDXaH3h5tKsTGs/UFYUITqfL/HwZgzkblEvJ8YULf7eQlnXx3NoiKsvVV9lmZm4G/vkB+yUfmgd/+PQ+bfiWmX6BNed/lN9DjkOtCENlccKiryRM69zLAgr0Bs70i3upXTjtZXRD9IrcZ3/doCpkxs/Ifw9tW0b1aI1u9G84+9CnFuP5qPyHlrxbwQrp+nz7N3dPjexmsSxyr1MVJRO4Y7u1CStx0Da/bgdb9jWDS22f9Kvfh2GqqfzvZtQ0n8FlTfK9p5d5vvbbZCOMe/hBtlrXdh/wHfziyqnYjossTAGxERTQmLJfgJUKj0yRTsqaaZi9Rf6I5B/aQ14/blxrS/BRYsE2/9v/ILEC6zILyc23HshDg9zVge1lNULV/2X6sDZ+W54IGSkbFs3K85hcb4SN55G3bBfqQJNZXlyM9MROLieDUuz8RZkpPVpxFxcbHiX6+Ts/ftOC7eQtVneIEzCyp/IE6+5PhKX4pBYo4VzUcdCGe8Jg+XA/2v2WCtLEFuiqiHxFg1Jtp4RdaO42fBLV9WHz3iMO8G8XbqZGCAJUCE/UUK1ZfD6EsDp/TWxvKvGNOTYmYBiuRJeUsnut1jhx1qRpMrARUPyuCRNI5yhiOSfvM3yYH1FpegB2KOn1Et9f7AJOwPBpejHx07rCgvzkXqYpG32CRYRZ8MJqx9dTQBZTPBrEdPzDDP1BM8jDIMwnlBnzRM8DjkOCfrz4HtmX5tK16pz8j2OA67GiPw5KnQ+2XY9bukCKVLgN7W/Z7xAwfad6EXeXiocJQ9XvTV6vpsxB2tQWpsLNJLbeg6FdGRKlBUjuFOdG0uEftFAdqbCgIDYVHYpuOcqMm4TCwP8R9Uxm9dP+w+Ae3wjn+W8gZULHKibb3I5+JcWFv64ZhgtRMRRRMDb0RENCXKy8vVJ1+h0i97MyL7r/XZXwhz+RDrNd9dG3DVnuf1LXWS7exC+eJYpOY8hdYzFzHv9kp897s70W7NNuZPIfO1E7v0wJxRi77fnEbn9iLc/J4N5eJkMHalDfZwBs0/ZUPWDYlIL9mGI47PI+HuzXh+2240PBA0vBSRsNvxEgurv7gF63MR9SUzrr1WfZwk2YWlMLma0fm2nHKhraUNSK3QgyPeIirnWKLYbya6P9h3ZiE2MR2FdUcw+IUE5G16Hs83NqDI/yq6y8GkHYeSUfHPQdpVf9Uh2yseNvH9MgFrv5kG9LVi/zk5bUfzLjtMD25EgV+g0Z/lgXac/rNOpAcAACIHSURBVK8+tDyeAfzYivyUWCQ+3IVwLiwMEKVjuOPlQuTvA4r+eWfglamX0e9G2MyZqP3FRzj9eh2K/vokbA+nI/GGLNhOqflERJcZBt6IiGhKbNiwATabzXOFm3yX0zL9koozbhU68naPMe3vjHEFV2ZahCfxHrNxnTgntP+kx3MlRWSM7ztd85Dtd9We53WrcQY68LIVzQ4LqsUJybuv70HDcxUoEPOzlwRc3xA9M+S1MaI+3/E808+LC85IzkZNcch8qAGdvxblqc+Gqc+Kwp1jX/PVVWdF74wCtPznB3jr1QY0WEv1eloe8n6xcEy0HadK+P1lNOH2JZN5nvi3E0f6jOlJk3E/KuJcaGrp0m8Hf7UTyPtWkddVTZNTTm9R6TczzZA1NKH9YbgL257shSm/BR988Bba6xtQ/aAs4/LQt0BeQpNxHDL61SBMf+3Xpp5XJix6QEztl73Hg14ROzQ09s3ZbnGFDyEbvdjVLo4xR1vR/L73FZZjmGlBnrUdb/3mAxx+xAJHSz4e9XuK6Sn3VZBe/K/KjMox/JQN+ZXdsDx9GA2r5NHZV7R+N+JuFPufoxs9eiAzkF5203Isl8MKjIsJcRmlaHj9ND461oDsGb2wFnk92ZqI6DLCwBsREU0ZGWTr6+vD+fPn9fdLHnSTZuZiXa44Bd79VJD/LXei63vbYEcmClZFdhI/Ig33l4nT4yNWbPEbjyY8acgtFCdLB7aN+b/5xnh5y2BZYEwbnMbVQiFM+hh7N2UjW5xIOXbWo8OvuK6+Gmz1OxkNzgWXz1m0CQmFRRDNhIEP/cNedth9bp0bEGUSbzfdDIv3eeNwP1pfClVW/3UEM9F2jJZTfrdqhd9fRhNuX4q7uwjZor2angjvasTw+1sy1j4g6nvfq2huaUYXClD0de+gweSUc8R4+k0Y4jKRvWSC+8Nv7KKVgYQvW3xvEZTBoUkp++SajONQ3Kpc0cIO2GwdY1w5lobsr4u3YP3gk2bUPB9BmFz9Fth/2IHm/8cGx5JSFPldYRlgWByrvPv9DDPS7l+r36b7kUNtW/3nTv+RXt+yONvQtE99VsZTd6MatmN7kRX9t9aiJcTYlJFvM5zjpdiDC4pEuXtR80yQq/9O2VAjym7esFa0YORcvj8QMC0oQlGO+HBm4DL/jxEiulox8EZERFc5Ewp+0I4Ccz+sKYnIerIJHa91oGOfDSUp8frtOQWvtqAorAcpBJdsbUftreJEZl08UkttaJPrf60NtspcFDaO/f/zmU+3iPzZUeOdP/Fqqi1B7uJyz+DUGXfmiX/bULbaiiZ9mSaUi+80Xwh2amPBLfKksqUGVfvEsjtq0KyPmTRRFmz+v4tgdrWhcGkWrLtVXp/MQtJ9g0hbpRYb1RGU3ZCIXE9Z21CzbpMoWQIq7vMqi+UW/QS3+dkqvU5ttc0YEMtkZ4vT3FM1yN+g6nqf+Lw4H71fDHLiGXQdwYXVjj+rQmxMImqOGpPRlLBIH30Q25606fmo2mn0hHD7y2jC7kvmAux5tQDmo1akLh5p747dos5XVHltK/L+ZnmgQpyUd8L6bLfXQxVGhF1ORzNyY2KQ3z7aIFAR9puwJWBjzQT3BxXMtj+Tj8Idbfr322rzkbi2F1+8DG81nZTj0I2l2FmTDFd7IeJTSmCT8/Q2scG6Lh1ZXle+Zj9Ri2TIfpA0Uj87SkR/3AVzfiRtJ34LHiqF6cQ2WPe5Rn+ogtv7u7DqhnSUqO3qZb2vRuQmG0V3q/+smZmL0kKzPh5hyj01Rt/abUXW0q3AGt/8RVZ3Y3GhqzILNSfMyFubAHunqkP36yd2/SrBiLYZwfESS6rRLtrQuS/fpw1l309MMYKBh58bT7nEL0RlrD72p5FfY3/Y1C72trL7VSBvADY5PmCiOA54jz1IRHSpqKebEhERTT/v1Wsps2ZpKS+cVQmjGDqp7a1YoS2cO0ubJb4za9ZcbeldW7S9vxpSC7id1eqXi/kbD6rpMF08q+1/IkdLmT+y/oUZxdredy6qBQ5qxaPl9eMerXHjCm3+dV7f/0qOtuWVk9pIDoe0nhfWa0vdZZi7QisW8y++UaxPF7+hFnOz79XW3+xedr3WOigTg5VvlLyFWPdQb6NWnDHfWLeqy/0fijVtlNPFYo2jOau1irJ6t8XCjLIgbaFpJ19ary1UdTL3vlZNL8Jng9p+0Zaeuro5R9vaNaSdfCFFTKdo9e/pX/UIuo5QZR6jHc/KbczdpPXoU6PQ680vL8HSlOD1NqS9+cQKba6ej1nawme9thpWfxmtL0fWl4belu290JOXWfNTtJwnDqq6VMLub26DWuOdcvml2tZfqSR/4ZRTz3OOttcnM0GE3W9GyXOIY87E9gfhw/1amef7oq3v2qod/PikkY/l9SJHbpHsq8HKEbpsofKq93mf+pmM45B0UTv7oy1aTvJcY558zV+ordhYr70p6s6HqJ8tdy319L/5Yp9s7B0KkrcxfPamtknPt8jHH1SaF2N9XnXwhx5t210pI33muvlayn1bA/MX0LfWa/We/HnXafh1F/hdv7br3aLNl+sI9fL0m8jaK6LjpTD471u19V8Z6buz5ov1v/CmNviZWsBN3154x7+zbcXaioUj/WLuwhVamfc+L+siQ8xbWKYdDNKORERT7Rr5j4rBEREREUVVR3EMCtuL0H6+AZfx0N3j5ELbuliU3XQYH20f35UcNPn6n0lEel81Tr/uPUYcERER0dTgraZEREQ0NYa7ceR18Z6RhvE+quLydhw9PwFy72TQ7fLhQH+fA5ZVmQy6ERER0SXBwBsRERFNCfvOp9DkAjLzV0/PIMipbnS7CrAurHHsaEoM96D7iAVFuWOO1kVEREQUFbzVlIiIiCbVQGMuCv89AdmrspF8vUj4dABdL9Wj+WcOmO9owE/3y6fdERERERFNfwy8ERER0aRy/cyGwifq0fOuA85hI828KBNF//AsHrs3GWa/p1MSEREREU1XDLwRERERERERERFFAcd4IyIiIiIiIiIiigIG3oiIiIiIiIiIiKKAgTciIiIiIiIiIqIoYOCNiIiIiIiIiIgoCvhwBSIiIiIi0v3xj3/Ep59+is8++wzDw8P4n//5H7hPF6655hr8+Z//OWbMmIHPfe5zuPbaa/EXf/EX+jwiIiIKjoE3IiIiIqKrmAyw/fd//zcuXryoT//lX/6lHlRzB9rkuyRPG9yBOBmck9+RPv/5z+vfkQE5IiIi8sXAGxERERHRVehPf/oTfv/73+PChQt64Ey+Ir2CTV4hJ78vg3YzZ87ErFmz8Gd/xtFsiIiI3Bh4IyIiIiK6ysir1ZxOJ0wmkx4sm+jVavKqufPnz+tXwpnNZj2IR0RERAy8ERERERFdVWTATV6hNmfOnEkfo01eAffb3/5Wv/1UBuCIiIiudgy8ERERERFdJWRQTN5iKoNu0bolVK5fbkeuX26HiIjoasbAGxERERHRVcAdDJs9e7ZKia6hoSFPkI+IiOhqxZFPiYiIiIimOXl7qfz/9qkKuklyW3KbcttERERXKwbeiIiIiIimMfkgBfnQg0tx5Zncpty2zAMREdHViIE3IiIiIqJpSt7qKa84u+6663DNNdeo1KkjtymvfJN5kHkhIiK62jDwRkREREQ0Tf3+97+HyWTC5z73OZUy9eSTU6+99lo9L0RERFcbBt6IiIiIiKah4eFh/RbPWbNmqZTIyQckHD9+XE2NX0xMjJ4XmSciIqKrCQNvRERERETTkAx0/eVf/iVmzJihUiL3+OOPY8WKFfjwww9VyvjIPMi8cKw3IiK62jDwRkREREQ0DV28eFEPdk3E+fPn9fff/va3+vtEyLzIPBEREV1NGHgjIiIiIppm/vjHP0LTtEs6tps/mReZJ5k3IiKiqwUDb0RERERE08ynn36Kz3/+82rq8iEf9CDzRkREdLVg4I2IiIiIaJr57LPPJjS2W7TIq95k3oiIiK4WDLwREREREU0z8umhf/7nf66mLh8yT3yyKRERXU0YeCMiIiIimmb+53/+57K84k3mSeaNiIjoasHAGxERERHRNCMfYnA5XvH2Z3/2Z3reiIiIrhYMvBEREUWdE707CpE4JwYxMTEoP6SSw9aFEvG91B0DanoMzl7Y1ifq24qJKRffvvwM7EgVeSuZ8rz1PinqZU4Wms6oBAruQIlon1TYplk9dZXKfWKy+l2E++VlzOVyoaCgAP/6r/+qUsZ2/vx5bNiwAW1tbSolPNdcc436REREdHVg4I2IiKYvPXgQg5IDajqIqQgAOV4uRFZ1B0z31qGlaTPSZqsZUeFA8/osWDtNKPp+C/Y8noaobu6K4sLQBfWRaJqTAa4//elPamp0v/3tb3HkyBGUlJSgvb1dpYb2+9//Hjk5OXjttdfwH//xHyo1PPI2UwbfiIjoasLAGxERUVQNoPWlbmBJLV7/QSny7q1GUaqaFQ3vt2LXEcBS8zoaHsxDgbUIaWrWdOM4ZEXuLVVBgqYOdFXnImmz/xwTsutP4/xvD6N0gUoiuqL0o3ldOnIbx77KTt5mGu5YajfccANaW1v18dc2btyIH//4x2pOoAsXLuBrX/sajh07hszMTGzdulXNCY8MBl6Ot8ASERFFCwNvREREUeXAwK/F2zILEoyE6Do3ALt4W7ZoSrZ2SblOdKH7zO/UlDcX7Ie6MeBUk0TThgPdB/ox6FKTo4j0IQYyiLZv3z79arRvfvObQYNvMuiWm5uLX/ziF/jqV7+q32b6F3/xF2pueC7Xhz4QERFFCwNvREREUTWE34Vxkjxphn6HqdwcEV2ePve5z+GPf/yjmgpPVlYWWlpa9M8y+PbGG294bgv97//+b0/QLSUlRQ/MmUwmfV4kZJ5k3oiIiK4WDLwREdGU2bt3L1JT5ZhqMfq7nL4sDTvQ8WQuUuONhyHExMQiKacJ/Wq2m6NT3uoY67WMFR3n1EzBGMg9H/rQ4/vy1XLGeHKhx5YbgO02sVxppKPOGQO9x6wzBjpvWye35bce14BfuWIQn5ILa6dDLeA2kgdnnw2Fi41lRxsrz3swfp96mROP9NIm9IZ59ZnrTAesOamIVw+ikN9P9atXnLEhVcxLqpbX9rUhXy4nXyK/Rr0mwXpCzPLU+Ujeg9W7J23YeAhGUqxaX3w6rIeCZFzVo2e52HSUtNhh19cT7gMJXBh4zbf/pJc2w37CKJvPgP3uuj0l+mVlOmLl8rfZRCsZnD9rQklmopEuXyLf5QFt6vUggHOyjpM8y8dnlqCpL1QDyXyWI93dZ2KTULijF/5LO/sC81B1yD8PQXzSi6bSdCS661L2l8oOOIbVfJ3XPiGWt633zrsVXZ+oxbyp9Xr60eJc1Ii2jCwordooJd5Yh3yFKJfst+WZ7uXEsWC9LbDPB+x/wZfz9Efvh6SIsnsfT+zVSWodXv1Nb9eRfefGv/4qnumU+0hk/u7v/g4vvfSSfkvo+vXrcfToUT1djv8mg27y2N3Z2YnPf/7zenqk5IMcrr32WjVFREQ0/THwRkREU0IG2SoqKmC3GyeC8l1OX37BNweav56IwsZBLH+6BS17W7CnJheze4+LOSPsO9KRKE6azyZXY49YpqWpAha7DFLlolkFiZK/Jb9fYYyx9tUKfV0teyuRrM+dbMmolOt/xBjRLe0RI+8t31Jbc3ahPCkJhTtPwlxYZ8xrqkU2uvWT+/QdQU7Q3xPleWIIlT89rz/BcM8alT6Kwc4SrHi0B8vKd+vbqHvIgrP7qpCVZ4PdJ5gSyHmgHEm3FMJmN6Nom5H/PU9nA2/Lek2H7ZRaMC4bdXLd+XFiIg0VsizyJcoat0aWrQ4FcpanzltQuUz/5iicePXhFKw/YsF3GmXdbEYm+mG7ZwVqZBDPbdgO22qjHuNKVD1+NwMDz6Qiqy78p1vad6xC0gYbTsZt1MvSsvdZZAzUIHX1Nk9AzV/XozloTWvB+6Itzv+8wrh1+YwNWaurcMS0Fs/q66lD0fX9aF6fgvJDQcJMH3eg5P/YhJ6kCuyWy39f9NszbahamTNSv16OfW8VUmuB++vVum8YQEd1FkravaJFP6vC0pUiD/+rCDtVHiqSB3HsxFhhrgHY7spC1U+uxdrvyu+JNr13NvpfLkRKZVdgkOyTV1Fy23p0L/mOnvc9j2cCR23Iz6zRb6/2EH295Bax3nYXsp/eo693z9/HomPdUpSNFjz24URXaaLRRtcXqTYS+SucjcEzfjnr34pVt9WIStqplonDQKcVWaVtPgHKrkrRb8RxZVmVytPjyzEklxP7RmCbi7op2oKh8l/o+975pmyf40lcvup7oq6zZV8/14zcxWLfGVyO6j0yfQ9qv34d/vWnH+Czzz7T1xiJr3/969i1axc0TcO5c8YB7YMPPkBycjI6Ojowc+ZMPS1S7rxEensqERHRFU38oBIREUVdSkqKNmvWrICXTI+aN4r1bRS/oaaDOPuCzFexdlBNawP12gqZr7qTKkG5eFG7qD5q79VrKcGWGdqvFc+dpc2t6lEJ0kGtWJZ1o2cLuoDtepzV6pf7L2+sI+WFs2p6FEHLfFE7uHGuSF+h1dtVkseQmDdfzFupNX6oktx58Ekbg9rurOXbtJOfqTRlqO0efV7OS4MqJUj5/yDKKOpuVkZ9wPe1ITFvvph3Z6M2soZI69AQ7DtG2ixtvlh+SKXp3tmqLRXp3u1pLDtf1K/PkiN5nJWi1b+n0kJR/Sdge5628GtrVbdzv/2mSvDy3l5ta5t3rQhDe7V7xPKzvrlfJUiqH4r8bfPvA0OtxvJ37R2pX3d7+rdHkGUPfkuut1jb79duYpcZw1lt77Ot2qDP94a0vd/wX5+7PwbW+7F/XCrS52qb3lYJo/X1gUYtR6+DYH3G1+BLOWK5WdqKF/z2cR/uOvXf1pDWulam52h7vZrmYMNWrcev2/Q8tVAs59sm7v648kW/dtUZ2/Q/FpxtWBGwHsnhcGhDQ34bjcCrr76qxcTE6Pm57bbbNKfTqeaMj8zLRNdBRER0peEVb0RENCXcV7r5C5V+yVw/T7+SyN7RAbv3hS0mE9yjGfW/Ug87svHY31tUimLOw9dyANdbPSGvWrokLnSiaZ8LpgefRcUileZhRvYTj8GCXrzyY79cL1qNzBvV5zBlV1XA4jduujn/MZSKyus+0qNSArkONKHNZUJpTeD3Yc7Gd6pEXfe9gtb3Vdqks6CyKlvUhpdbV2O1yLfrk0GVMICOH4r+mlqN767xWVLP42P/4NcfQhjobBb9Jw3VT/ttT7ZFVaXISXC5d2SqT14WFKFav/LPizkTmUvE+4mBwH645rHAPmAuwGMPiYIe6UaP31WJBf7tac7FOnnl48cjt20m3Cj3mC7sP+B7z+TYw38loMhagDif9jYjM0PWwHEM+Lf1oko85lfvydmrxX7pwu8+VgnDXXg1VF+/qRQb89XnUQ2g9cVu0c51aH8kjDbN3+y3LTNyC7LF+yCcF4wUKbusGml+3Sbt9gzxrx0n3zOmR1iw+g6/dh1FXJx+1EJHp93nSsE5c+boY7MND49xuWkIa9euxY4dO3DXXXfp473JW1jHS+ZB5uUv//IvVQoREdHVgYE3IiKaEhZL8BPYUOmXzMwCVNdnI+5oDVJj5bhbNnSd8r21zHFO3nTahZK/MsZS8n4VtotZJ4753vp2qTkG9QBMxu3LjWl/CyyQd2L2/8ov18ssIYNAwVmwfFmwaEscEhaIt2CBIMVxTs8hln/FmPaXsEjPIaIXp12G5ICgpH++7Th2QqRmLBdzApnCfFCjXdZzXCaWBwtqzggVrbLg5hCN4XL0o2OHFeXFuUhdnIjEWDXGXRCWtGWeALK3uPkycOMf7Aq2TRPMMnjk1cct5Q2oWORE2/p4fSw1a0s/HH53Y4bkcqD/NRuslSXITRF5T4xVY/cF8TfJgf0xLkEPlB8/o3rW+wOiFKH7enhtNHo7+7N8ObBhTDNlJYn1eBdl2AX7kSbUVJYjP1OUdbGoLzUmY6BlsMi+FybT16vRsCoO/c+kIlaOObijC/YLxpNNZaDr97//vVoycg888AB++MMf4rrrrlMp4yPzIPPCJ5oSEdHVhoE3IiKaEuXl5eqTr1Dpk2L2dUaQYZSLPfQgiB/LA+04/V99aHk8A/ixFfkpsUh8uMt3QPnr81Crxn0KfEVrHLcpFjIIFNqogY3/ZQ4a9LnSzP7CJJTCPHIFZbiC1a19ZxZiE9NRWHcEg19IQN6m5/F8YwOKAoKIyqhtOg9mv6G7wgpUmTNR+4uPcPr1OhT99UnYHk5H4g1ZQceM83HKhqwbEpFesg1HHJ9Hwt2b8fy23Wh4ILJwbzDmayfeRmG3czj7iRxjcXEsUnOeQuuZi5h3eyW++92daLfKK+OCCzeQq5thQdG/nsZHv2jB5juAzup8pP5VIsoPODFr1iz9gQbjveptMshtyzzIvBAREV1tGHgjIqIpsWHDBthsNs8VbvJdTsv0qFmwDPK6l86fdBvTAezoeVu8ZWQGBspmWpBnbcdbv/kAhx+xwNGSj0fVwOyzzeJE+xMX5mXnIe/uYK/ksK6UAU7B7n873bBxtc2kijNunz3ydohbPc/Y9auEMtMmGi70u8LH7UIvukWZTItvDlkvcfrtikfQ8x/GtL+BU3oOkTbmQxKiSz7H0d57PHDgf2FoaEh9GoMMqJzqwXGv2xA9nEMIcy2ir3Rh25O9MOW34IMP3kJ7fQOqH5T9b7nx4IUgggWaIUrT+7ZIN1lwc/h3N/oxIS6jFA2vn8ZHxxqQPaMX1qJgDw0Y0VVnRe+MArT85wd469UGNFhL9f1neajMh2OmGfPE25F3/J9BLLng9HuCaHCzcZ3Yxe0/6fF5oMpEDLxsRbPDgupffIR3X9+DhucqUCDKmr3E797TCTItykP1q2/ho/88jIolDjSvexSH//RnMJvN+O1vf6s/LGGqyW3Kbcs8/Nmf8dSDiIiuPvz1IyKiKSODbH19ffpT+uR7VINuUtxqFGSI0+3dVdge5AmL9h0PYvv7QGb+6pGA0LALLu8LQ2aYkXb/Wv0Wt48cxml4Wm4RTOjCtheDBTHCYwSa+tHd6xsJcP64CaFuPhu3mblYlyvr4akgVyE50fW9bbAjEwWrxh118Wh7uRlOvwtr+uu2itoyo+gbxhNXgzGtWYc8uNBUHeTpp84ubK0TdZ1RgNUBWQwSvHSz20cN/EQuA5miHnFgW2A9ftKMmufDC9Nk3Jkn/g3Sf4adaP7e9vCDPb+xi9IDCV+2+I4Vd7QVzaGuNtvXhOZP1Ge3o9ux9QBg3rDWeAJvhOSVTN5MC4pQlCM+nBkYpSwDxm3DN90Mi3fmh/vR+tL49yt5C2/2EsCxsx4dfkE2V1+NXs6xpeH+MrF/HrFii9+4deNljGXpf/uoE20t49vbA8bG9GsDXJ+GogL9qIVB0d7yFs9rr71WD4BNNblNuW2O7UZERFcrBt6IiGgai0PR92uRNsOOmttikbquHDW7O9C2w4qS1YlIre6H+Y4GNDzgFc15fxdW3SDHSGpDx2sd4tWE8vtqIB+mUHS3Wi6jGi33mmF/JhWJq61o0pcTr901KMmRt3cZi43GtKYURWagqzgF+bXGtpqezMLSfwSyQ90mOG4mFPygHQXmflhTEpH1ZJOR3302lKTEI38fUPBqC4oifJBCoDgkD1oRf1u5qpM21NyTiPTnB2C+dw+qv6oWC2ZmAXa+WgDzUStSF2fBKtpJ5rFtRwlSv5SPNhSg/V+KfK6Yc4/7tu1Jm76tqp1dxgwkwCJnHd0G6w5ZzirYDhlzJkbUY00tkkVvqElJQqHqI3oeF++COT+8WyRN+bWovRV6/0naYEObuy1uS8Quc0HgOGah3JSN7JvkevJH8lKbj8S1vfhiiD4Ud6sD1sRUlLvrVy6fuR0DYrt7nhpP2A04UhmLxJyR/UCuc1O7aIWy+0cJ5CUgOzsBOFWDfE8diM+L89H7xbBrIIgEbKwpgtnVhsKlI/1I7ltJ9w0ibZVabAzJ1nbRRk60rYtHaqnKn+hjtspcFDZGHs41gq1tKPMcL8RxReyLzRcirXMLbpEPzmipQdU+sZ4dNWg+Aww0rkLsihLYZJpc/+5yFNbagTVF+Jq+07jQ8+RSfHHhN3DoTNjXVE6YvAr0mmuu0a92IyIiumrpzzYlIiKazj7u0Ro3rtAWzp2lzZplvOZ/JUfb8soxbegztYzbH3q0bXelaPOvU8teN19LuW+r9uaHar7bZ0Naz4vF2or5I+ucuzBFy3lir3ZySC2jO6gVy/kbD6ppLx/u18oy5nu+v/C+eq1n6KxWv9x/eWMdKS+cVdOjeKNYX1fxG2ra29BJbW+Fdz3M1ZbetUXb+yufDAvB8jAGfbspWr19SDv4bI620F1/81doxS/2aAFbeCFFzC8WJfM19Ku9ok4WanP1/InX3KVB6tRtSHvziRWeZRc+26PShaE3tS3/e66xjusWalt7jeRg2w2VF089LK8Xn7yIdtty11LPdudnFGuNvUNqPaIO3lPLjeazQW3/EznaUndbuOvpvXotRUz7tLW7boOt178P3bVVO/jxySD5dvehk9pQ11Yt52a1XdG/V2xsFP1OLeY2yjYPbpTfHamvs21iP1io6lq85i5coZW9Iraj5ock60D0R8++dnOOtrVrSDsZUI+j9Mdg9SUM9TZqxZ56Mfr5frEP++d9VBfP6m2U4tnH52oLRVvvfeeiWmCU/TJgPxTHixfWj7T3XNHeoo4uBtlfQ/dHxb5XW+9uv7nrtdZBkdW3t2k5XxnpB7Pmp2jrn31TG/Qc3y5qB78l5l+3Uvv+f3yiffzxx9qf/vQnNW/yyXXLbXzyyScqhYiI6Op1jfxHxeCIiIiIxudACWLWHUftsT5URPA0xunE/nwqUp8xofaXb6HiJpUYqVPbkZpSA9Nz7+ItebvjpOlCSUw+jte8i75HJnO9dCVyOp349NNPMWfOnEl/yqh8kIL79lJe6UZERMRbTYmIiIgmgQPdb9gB03IsH2/QTXD85CDsMGH53zA4RtEjA2Jf+MIX8PHHH+tBuD/96U9qzvj9z//8j74uuU65bgbdiIiIDAy8EREREU2Q88AW1PSN/wEFOmcXtjzbK1ZShLWpKo0oSuTDDmJjY/XPg4ODetBMPigjkpth5LLyO3IsN4d6+IxcJx+kQERENIK3mhIREdHEXS23mh6qQtKO3yFv1d9i+U3XioRB9O/bhe0H7MCCChz+/2qRNtNYNLQuVN1iw+/WZONv0xKgr+VEM3Y93wX7cAIqDvah9qsmY9FJw1tNKTR5e+h///d/4+LFi/qVa/I2Ufn68z//c/1WVPmSpwxynlxWvstbVeVLLvP5z39eD7ZN9m2rRERE0wEDb0RERDRxV0vg7Uwbyiu34WCvHQ6XkWSKS0ZueTW+81A2EsKKlw2grbIc2w70wD6yEiR/vRLVT2xE9oLJDrpJDLxReP74xz/qAbXPPvvME2Rzny7IJ5S6g3Gf+9zn9ODcX/zFX+jziIiIKDgG3oiIiIiIiIiIiKKAY7wRERERERERERFFAQNvREREREREREREUcDAGxERERERERER0aQD/n+Iia7DN2Z5xQAAAABJRU5ErkJggg==)"
   ]
  },
  {
   "cell_type": "markdown",
   "metadata": {
    "id": "C-VIU25XqgF3"
   },
   "source": [
    "##  🤖 Machine Tutor Question\n",
    "**Prompt:**\n",
    "```\n",
    "Can you give brief explanation on the commonly used Python libraries for data science,  machine Learning and deep learning tasks?\n",
    "```\n",
    "\n",
    "* [ChatGPT Tutor Response](https://chatgpt.com/share/6751bd0e-cf14-8006-82be-96d5deaabcde)\n",
    "* [Gemini Tutor Response](https://g.co/gemini/share/5b5750785fac)"
   ]
  },
  {
   "cell_type": "markdown",
   "metadata": {
    "id": "2RUxKaGco-f7"
   },
   "source": [
    "# 2.  Google Colab Development Environment <a class=\"anchor\" id=\"one-three\"></a>"
   ]
  },
  {
   "cell_type": "markdown",
   "metadata": {
    "id": "08D9Ro4oBML2"
   },
   "source": [
    "Throughout this Python course, we will be using **Google Colab** as our primary integrated development environment (IDE) for coding, experimentation, and learning.\n",
    "\n",
    "Google Colab is a free, web-based coding environment that provides a platform for you to write and execute Python code. It requires no setup, runs entirely in the cloud, and comes preinstalled with many popular Python packages. Google Colab also supports real-time collaboration, allowing multiple people to edit a document simultaneously.\n",
    "\n",
    "You can access Google Colab by simply going to the [website](https://colab.research.google.com/). You'll need to be signed into a Google account. From there, you can create a new notebook, upload an existing notebook from your local machine, or even import a notebook from GitHub.\n",
    "\n",
    "An alternative IDE, similar to Google Colab you can use is the Jupyter Notebooks, previously known as **IPython Notebook**. The main difference between Google Colab and Jupyter notebook environment is that the former is cloud-based while the latter is not. In other words, Jupyter notebook environment requires installation on a local machine, and also all computations are done locally on the user's computer.\n",
    "\n",
    "To ensure you can follow along with the course materials, please make sure you have access to either Google Colab or the Jupyter Notebook environment. Preferably Google Colab.\n",
    "\n",
    "### 🤖 Machine Tutor Question\n",
    "\n",
    "Copy the prompt below and ask either ChatGPT or Gemini\n",
    "**Prompt:**\n",
    "```\n",
    "Between Google Colab and Jupyter Notebooks IDE, which is most preferable for running data science projects and why?\n",
    "```\n",
    "* [ChatGPT Tutor Response](https://chatgpt.com/share/6751bd8a-e73c-8006-bd15-38848cfe5e20)\n",
    "* [Gemini Tutor Response](https://g.co/gemini/share/cef1334af991)\n",
    "\n",
    "Other questions to ask machine tutor:\n",
    "```\n",
    "What other programming languages apart from Python exist that every aspiring Data Scientist should consider learning and why?\n",
    "```\n",
    "\n",
    "```\n",
    "Apart from cloud-based or browser-based IDE, what IDE will you recommend for a new Python language learner to install in their local machine and why?\n",
    "```"
   ]
  },
  {
   "cell_type": "markdown",
   "metadata": {
    "id": "QBaHEmY8tBuQ"
   },
   "source": [
    "## 2.1 Getting Started with Google Colab <a class=\"anchor\" id=\"two-two\"></a>\n",
    "\n",
    "A Google Colab notebook is divided into 'cells', which are blocks of code or text that make up the document. There are two main types of cells: Code cell and Text cell"
   ]
  },
  {
   "cell_type": "markdown",
   "metadata": {
    "id": "JgkL13csJJb3"
   },
   "source": [
    "### 2.1.1 Code cell\n",
    "\n",
    "Code cells are used for writing and executing Python code."
   ]
  },
  {
   "cell_type": "code",
   "execution_count": null,
   "metadata": {
    "colab": {
     "base_uri": "https://localhost:8080/"
    },
    "id": "-j5nGcEas0G6",
    "outputId": "ee8e5a16-d715-43dd-efa8-8b6a72f5fc41"
   },
   "outputs": [
    {
     "name": "stdout",
     "output_type": "stream",
     "text": [
      "I love Python\n"
     ]
    }
   ],
   "source": [
    "# This is a code cell\n",
    "print('I love Python')"
   ]
  },
  {
   "cell_type": "markdown",
   "metadata": {
    "id": "AVCgrpemJiNQ"
   },
   "source": [
    "### 2.1.2  Text cell"
   ]
  },
  {
   "cell_type": "markdown",
   "metadata": {
    "id": "5Lm_Dy83J6tH"
   },
   "source": [
    "This is a text cell.\n",
    "\n",
    "Text cells are used for adding notes, comments, or documenting your code. They support Markdown, HTML, and LaTeX, which allows for rich text formatting. **Text cell** is formatted using a simple markup language called **Markdown**.\n",
    "\n",
    "Here are simple mathematical equations written in Latex.\n",
    "\n",
    "$y=x^2$\n",
    "\n",
    "$e^{i\\pi} + 1 = 0$\n",
    "\n",
    "$e^x=\\sum_{i=0}^\\infty \\frac{1}{i!}x^i$\n",
    "\n",
    "For more examples including writing equations in text cell, [here's a useful notebook](https://colab.research.google.com/notebooks/markdown_guide.ipynb#scrollTo=Lhfnlq1Surtk) with further references."
   ]
  },
  {
   "cell_type": "markdown",
   "metadata": {
    "id": "OJNHkmmmJnin"
   },
   "source": [
    "### 2.1.3 Fundamentals of Markdown Language"
   ]
  },
  {
   "cell_type": "markdown",
   "metadata": {
    "id": "uf_xF84biq4e"
   },
   "source": [
    "Markdown offers various features to style your text, such as creating lists, tables, and adjusting font size.\n",
    "\n",
    "For more information on how to format your text using Markdown, here is a [Google Colab notebook link](https://colab.research.google.com/notebooks/markdown_guide.ipynb) you can experiment with."
   ]
  },
  {
   "cell_type": "markdown",
   "metadata": {
    "id": "GRqFcJDHs0G7"
   },
   "source": [
    "On Google Colab, if you want to create codes or markdown paragraphs, you can add cell buttons (+ Code & + Text) to write Python statements or markdown content. Colab is built on top of the Jupyter Notebook service. Each code cell can be executed with the Python interpreter."
   ]
  },
  {
   "cell_type": "markdown",
   "metadata": {
    "id": "6IHTh4Hi4K7T"
   },
   "source": [
    "##  🤖 Machine Tutor Question\n",
    "**Prompt:**\n",
    "```\n",
    "\n",
    "What are some unique markdown commands for Google Colab every programmer should know to enhance text style and aesthetics?\n",
    "\n",
    "```\n",
    "\n",
    "* [ChatGPT Tutor Response](https://chat.openai.com/share/0c5587eb-fff2-41ad-aa33-414f7071c5cb)\n",
    "* [Gemini Tutor Response](https://g.co/gemini/share/6df7b80e634d)"
   ]
  },
  {
   "cell_type": "markdown",
   "metadata": {
    "id": "07GYVcBbTHMf"
   },
   "source": [
    "### 2.1.4 Access External Files - Mount a Google Drive <a class=\"anchor\" id=\"two-two-two\"></a>"
   ]
  },
  {
   "cell_type": "code",
   "execution_count": null,
   "metadata": {
    "id": "bDmww3-3s0G8"
   },
   "outputs": [],
   "source": [
    "from google.colab import drive\n",
    "drive.mount('/content/drive')"
   ]
  },
  {
   "cell_type": "markdown",
   "metadata": {
    "id": "5MdqwxXWTRNn"
   },
   "source": [
    "One feature of Colab is that it can be integrated with other services offered by Google, such as Google Drive. To mount your drive and retrieve data from there, please run the above code to create a connection with your account. You can import your data, including spreadsheets, as well as from GitHub and many other sources."
   ]
  },
  {
   "cell_type": "markdown",
   "metadata": {
    "id": "Z4RZ4oMDtRMz"
   },
   "source": [
    "### 2.1.5 Access External files - Upload Files <a class=\"anchor\" id=\"two-two-three\"></a>\n",
    "\n",
    "By clicking the File icon on the left bar of the Google Colab, and then selecting the *Upload to session storage* highlighted in yellow, you can upload files from your local machine and load them to Google Colab for further processing."
   ]
  },
  {
   "cell_type": "markdown",
   "metadata": {
    "id": "xA9V7_ccstPL"
   },
   "source": [
    "\n",
    "\n",
    "![image.png](data:image/png;base64,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)"
   ]
  },
  {
   "cell_type": "markdown",
   "metadata": {
    "id": "duhaVnrBs0G8"
   },
   "source": [
    "### 2.1.6 Access External Files - Clone a GitHub Repository <a class=\"anchor\" id=\"two-two-three\"></a>"
   ]
  },
  {
   "cell_type": "markdown",
   "metadata": {
    "id": "Z-Y3XxM4s0G8"
   },
   "source": [
    "![image.png](data:image/png;base64,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)"
   ]
  },
  {
   "cell_type": "markdown",
   "metadata": {
    "id": "6WdmF9Yss0G8"
   },
   "source": [
    "You can add a GitHub repository after the clone command in the same way as you would on your local machine. The URL for the GitHub repository can be found under the 'Download Code' tab of the repository page."
   ]
  },
  {
   "cell_type": "code",
   "execution_count": null,
   "metadata": {
    "id": "7sVLRYZvT5Eq"
   },
   "outputs": [],
   "source": [
    "#Address of the repository to be placed on the URL part below\n",
    "\n",
    "!git clone https://github.com/SDG-AI-Lab/DS4SDGs.git"
   ]
  },
  {
   "cell_type": "markdown",
   "metadata": {
    "id": "yCpKlYu_YMTt"
   },
   "source": [
    "### 2.1.7 Run Commands and Installing Libraries <a class=\"anchor\" id=\"two-two-five\"></a>\n",
    "\n",
    "In Colab you can run the terminal command line in the code cell by using an exclamation mark. A terminal is a textual way to interact with your operating system. There are a variety of packages available for Python and the below codes are how we can import libraries. PIP is the package-management system for Python to install and manage software libraries."
   ]
  },
  {
   "cell_type": "code",
   "execution_count": null,
   "metadata": {
    "id": "nL85QJE4ZVgu",
    "outputId": "9375e2b3-d73d-49a8-b540-87b05879300c"
   },
   "outputs": [
    {
     "name": "stdout",
     "output_type": "stream",
     "text": [
      "Requirement already satisfied: pandas in c:\\programdata\\anaconda3\\lib\\site-packages (0.25.1)\n",
      "Requirement already satisfied: numpy>=1.13.3 in c:\\users\\ohike\\appdata\\roaming\\python\\python37\\site-packages (from pandas) (1.19.5)\n",
      "Requirement already satisfied: python-dateutil>=2.6.1 in c:\\programdata\\anaconda3\\lib\\site-packages (from pandas) (2.8.0)\n",
      "Requirement already satisfied: pytz>=2017.2 in c:\\programdata\\anaconda3\\lib\\site-packages (from pandas) (2019.3)\n",
      "Requirement already satisfied: six>=1.5 in c:\\users\\ohike\\appdata\\roaming\\python\\python37\\site-packages (from python-dateutil>=2.6.1->pandas) (1.15.0)\n"
     ]
    }
   ],
   "source": [
    "# if the libraries do not exist in Colab\n",
    "# we can use the code below to install the packages first:\n",
    "%pip install pandas\n",
    "%pip install numpy\n",
    "%pip install matplotlib\n",
    "%pip install scikit-learn"
   ]
  },
  {
   "cell_type": "code",
   "execution_count": null,
   "metadata": {
    "id": "ohuR2skcYjxK"
   },
   "outputs": [],
   "source": [
    "# Import the packages.\n",
    "# You can assign an alias to any Python package during importing. This makes the\n",
    "# code more concise and readable, especially when calling functions. For example,\n",
    "# NumPy, Pandas, and Matplotlib libraries are often aliased as \"np\", \"pd\", and \"plt\".\n",
    "\n",
    "import numpy as np\n",
    "import pandas as pd\n",
    "import matplotlib.pyplot as plt\n",
    "import sklearn"
   ]
  },
  {
   "cell_type": "markdown",
   "metadata": {
    "id": "SJ2daBzPs0G-"
   },
   "source": [
    "#### NumPy\n",
    "It is the fundamental package for scientific computing with Python. It is an open source Python library that provides a multidimensional array object, various derived objects (such as masked arrays and matrices), and an assortment of routines for fast operations on arrays, including mathematical, logical, shape manipulation, sorting, selecting, I/O, discrete Fourier transforms, basic linear algebra, basic statistical operations, random simulation and much more.\n",
    "\n",
    "Learn more about NumPy <a href=\"https://numpy.org/doc/stable/user/index.html\">here</a>"
   ]
  },
  {
   "cell_type": "markdown",
   "metadata": {
    "id": "OGDE8gFjs0G_"
   },
   "source": [
    "#### Pandas\n",
    "Pandas is a fast, powerful, flexible and easy to use open source data analysis and manipulation tool, built on top of the Python programming language. In particular, it offers data structures and operations for manipulating numerical tables and time series.\n",
    "\n",
    "Learn more about pandas <a href=\"https://pandas.pydata.org/docs/\">here</a>"
   ]
  },
  {
   "cell_type": "markdown",
   "metadata": {
    "id": "58lIQiPS46Fd"
   },
   "source": [
    "##  🤖 Machine Tutor Question\n",
    "**Prompt:**\n",
    "```\n",
    "\n",
    "What is the difference between Pandas and Numpy Libraries?\n",
    "\n",
    "```\n",
    "\n",
    "* [ChatGPT Tutor Response](https://chat.openai.com/share/cbeaaf12-ab47-4541-8ee8-248d6e7394db)\n",
    "* [Gemini Tutor Response](https://g.co/bard/share/ce1a5068784d)"
   ]
  },
  {
   "cell_type": "markdown",
   "metadata": {
    "id": "iRQUHnaOs0G_"
   },
   "source": [
    "# 3. Basics of Programming <a class=\"anchor\" id=\"three\"></a>"
   ]
  },
  {
   "cell_type": "markdown",
   "metadata": {
    "id": "dD4KUxPls0G_"
   },
   "source": [
    "<p align=\"center\">\n",
    "  <img src=\"https://c.tenor.com/mGgWY8RkgYMAAAAC/hello-world.gif\" />\n",
    "</p>\n",
    "\n",
    "\n",
    "<center>Image from <a href=\"https://tenor.com/view/hello-world-gif-18564330\">tenor.com</a> by Vignesh_kp24</center>"
   ]
  },
  {
   "cell_type": "markdown",
   "metadata": {
    "id": "ycpuYbjmsnXc"
   },
   "source": [
    "## 3.1 Creating Your First Program <a class=\"anchor\" id=\"three-one\"></a>"
   ]
  },
  {
   "cell_type": "markdown",
   "metadata": {
    "id": "LLOLRsHmxeF2"
   },
   "source": [
    "The definition of a program at a basic level is using statements to perform certain tasks. Not all, but most programs are designed for the purpose of solving a practical problem. Examine the following code and create a program that creates the same outcome."
   ]
  },
  {
   "cell_type": "code",
   "execution_count": null,
   "metadata": {
    "colab": {
     "base_uri": "https://localhost:8080/"
    },
    "id": "9poup64Mx0wr",
    "outputId": "4c7960bb-dcd9-4260-d13a-cb887ee443cf"
   },
   "outputs": [
    {
     "name": "stdout",
     "output_type": "stream",
     "text": [
      "Sustainable Development Goals (SDGs)\n"
     ]
    }
   ],
   "source": [
    "def print_name(name):\n",
    "    print(\"Sustainable Development Goals\", name)\n",
    "    return\n",
    "\n",
    "\n",
    "print_name(\"(SDGs)\")"
   ]
  },
  {
   "cell_type": "markdown",
   "metadata": {
    "id": "TTrMRzb3yViV"
   },
   "source": [
    "From the above example, we defined a program to print a sentence. At a lower level, more calculations are required, but at a higher coding level, it is as simple as displaying characters. In reality, our program can have more advanced goals, and we would complete those targets by utilizing functions, models, and other concepts introduced in the following part of the course.\n",
    "\n",
    "The contents of the curriculum might not be able to cover all aspects required for creating a great program, but all great programs are built on the solid foundation of the concepts that will be introduced."
   ]
  },
  {
   "cell_type": "markdown",
   "metadata": {
    "id": "-_AoU9agsypo"
   },
   "source": [
    "## 3.2 Basic Concepts of Input / Output <a class=\"anchor\" id=\"three-two\"></a>\n",
    "\n",
    "- **Input**: In Python, you can use the built-in *input()* function to get user input. The input() function pauses your program and waits for the user to enter some text. Once Python receives the input, it stores it as a string. Input can come from various resources, for example, a CSV file of data. In the below example, the input will come from the user typing data.\n",
    "\n",
    "- **Output**:\n",
    "The results of a program. We hope to store it for future usage or display it."
   ]
  },
  {
   "cell_type": "code",
   "execution_count": null,
   "metadata": {
    "colab": {
     "base_uri": "https://localhost:8080/"
    },
    "id": "0nzrikbYs0HG",
    "outputId": "0dffb1e1-44c6-4ce6-8e10-5a75674abacc"
   },
   "outputs": [
    {
     "name": "stdout",
     "output_type": "stream",
     "text": [
      "What SDG Are your interested in?:Poverty\n",
      "What SDG Are your interested in?\n",
      " Poverty\n"
     ]
    }
   ],
   "source": [
    "input_name = input(\"What SDG are you interested in?: \")\n",
    "print(\"What SDG are you interested in?\\n\", input_name)"
   ]
  },
  {
   "cell_type": "markdown",
   "metadata": {
    "id": "mCeebMUCs0HH"
   },
   "source": [
    "## 3.3 Comments <a class=\"anchor\" id=\"three-four\"></a>"
   ]
  },
  {
   "cell_type": "markdown",
   "metadata": {
    "id": "3B_y_Rv0s0HH"
   },
   "source": [
    "Commenting on your code helps to explain your thought process to others and let the audience know your intention with the code. This will allow you to find errors more easily, fix them, and improve the code in a collaborative manner. It is also used to temporarily disable a portion of code without deleting it.\n",
    "\n",
    "There are two types of comments in Python: Single-line comments start with the **#** symbol, while multi-line comments are enclosed within triple quotation marks **(’ ’ ’ or \" \" \")**.\n",
    "\n",
    "**Visual Studio Shortcut:**\n",
    "For commenting/uncommenting on MAC **COMMAND + SHIFT + 7** and on WINDOWS **CONTROL + K + C**"
   ]
  },
  {
   "cell_type": "code",
   "execution_count": null,
   "metadata": {
    "colab": {
     "base_uri": "https://localhost:8080/"
    },
    "id": "2ZMtY8Brs0HH",
    "outputId": "500a8d1a-9f85-44c5-8ffb-4683149705ab"
   },
   "outputs": [
    {
     "name": "stdout",
     "output_type": "stream",
     "text": [
      "Sustainable Development!\n",
      "Sustainable Development!\n"
     ]
    }
   ],
   "source": [
    "# This is a single line comment\n",
    "print(\"Sustainable Development!\") #This comment is at the end of a line of code\n",
    "\n",
    "'''\n",
    "This is a multi-line comment\n",
    "It spans multiple lines\n",
    "'''\n",
    "print(\"Sustainable Development!\")"
   ]
  },
  {
   "cell_type": "markdown",
   "metadata": {
    "id": "dWB92-K_1VyH"
   },
   "source": [
    "\n",
    "#### 🤖 Machine Tutor Question\n",
    "\n",
    "**Prompt:**\n",
    "\n",
    "```\n",
    "Apart from is single-line and multi-line comments, what other types of comments exists in python and what are they used for?\n",
    "```\n",
    "* [ChatGPT Tutor Response](https://chat.openai.com/share/f8c683d9-6fe2-43b3-a4e1-b58857606e9b)\n",
    "\n",
    "\n",
    "* [Gemini Tutor Response](https://g.co/gemini/share/1e50635ce4ca)"
   ]
  },
  {
   "cell_type": "markdown",
   "metadata": {
    "id": "1IGZSfJlhQSP"
   },
   "source": [
    "## 3.4 Fundamental Data Types <a class=\"anchor\" id=\"three-five\"></a>\n",
    "\n",
    "Data types are the classification or categorization of data items. It provides information on what operations can be performed on a particular data. Since everything is considered as an object in Python programming, data types are also the same as classes and variables of the object of these classes. Following are the standard or built-in data types of Python:\n",
    "\n",
    "\n",
    "| Python Data Type | Category       | Example                                  |  \n",
    "|------------------|----------------|------------------------------------------|  \n",
    "| None             | None Type      | `x = None`                               |  \n",
    "| Integer          | Numeric        | `x = 10`                                 |  \n",
    "| Float            | Numeric        | `x = 1.0`                                |  \n",
    "| String           | Text           | `x = 'Sustainability'`                   |  \n",
    "| Boolean          | Boolean        | `x = True, y = False`                    |  \n",
    "| List             | Sequence       | `x = [10, 20, 30]`                       |  \n",
    "| Tuple            | Sequence       | `x = ('SDG_1', 'SDG_2', 'SDG_3')`        |  \n",
    "| Dictionary       | Mapping        | `x = {\"SDG_1\": \"No Poverty\", \"SDG_2\": \"Zero Hunger\"}` |"
   ]
  },
  {
   "cell_type": "markdown",
   "metadata": {
    "id": "k_-4epkj5oWI"
   },
   "source": [
    "#### 🤖 Machine Tutor Question\n",
    "\n",
    "**Prompt:**\n",
    "\n",
    "```\n",
    "What are the main data types in Python? Give examples to illustrate the use of each data type  listed.\n",
    "```\n",
    "* [ChatGPT Tutor Response](https://chat.openai.com/share/153ead88-0b42-4b44-9f91-82773a8b64b7)\n",
    "\n",
    "\n",
    "* [Gemini Tutor Response](https://g.co/gemini/share/a3512f8a6bd9)"
   ]
  },
  {
   "cell_type": "markdown",
   "metadata": {
    "id": "SabtYjEPhrPB"
   },
   "source": [
    "### 3.4.1 Integers and Float <a class=\"anchor\" id=\"three-five-one\"></a>\n",
    "\n",
    "Integers: They contain positive or negative whole numbers without fractions or decimals. In Python, there is no limit to how long an integer value can be.\n",
    "\n",
    "Float: It is a real number with a floating-point representation. It is specified by a decimal point. Optionally, the character 'e' or 'E' followed by a positive or negative integer may be appended to specify scientific notation.\n",
    "\n",
    "Differences between integers and float numbers are the following:\n",
    "\n",
    "  * 'Float' stores floating-point values, so values have potential decimal places.\n",
    "  * 'Int' stores integral values, so values are whole numbers."
   ]
  },
  {
   "cell_type": "markdown",
   "metadata": {
    "id": "KTgDOy2t8Zn3"
   },
   "source": [
    "### 3.4.2 String <a class=\"anchor\" id=\"three-five-two\"></a>\n",
    "\n",
    "A string is a collection of one or more characters enclosed in single, double, or triple quotes. In Python there is no character data type to distinguish a word, a sentence, or a character. A character is a string with length one.\n",
    "\n",
    "**Slicing**\n",
    "\n",
    "Slicing in Python is a feature that enables accessing parts of sequences like strings, tuples, and lists. You can use this feature to modify or delete specific items from a mutable sequence. Slicing enables writing clean, concise, and readable code.\n",
    "\n",
    "We can get a particular segment of string following the below example:\n",
    "<p align=\"center\">\n",
    "  <img src=\"https://github.com/SDG-AI-Lab/dashboard_images/blob/main/3.5.2_slicing.png?raw=true\" />\n",
    "</p>"
   ]
  },
  {
   "cell_type": "code",
   "execution_count": null,
   "metadata": {
    "colab": {
     "base_uri": "https://localhost:8080/"
    },
    "id": "s22XkWxj9njS",
    "outputId": "460d89ad-fac0-40d6-d672-42c9b381e36f"
   },
   "outputs": [
    {
     "name": "stdout",
     "output_type": "stream",
     "text": [
      "HUNGER\n"
     ]
    }
   ],
   "source": [
    "s = 'ZERO HUNGER'\n",
    "\n",
    "print(s[5:11])"
   ]
  },
  {
   "cell_type": "code",
   "execution_count": null,
   "metadata": {
    "id": "XpS87zD9s0HI",
    "outputId": "42eaeb97-d18d-4cc5-d495-875ee4f876ea"
   },
   "outputs": [
    {
     "data": {
      "text/plain": [
       "'SLIC'"
      ]
     },
     "execution_count": 43,
     "metadata": {},
     "output_type": "execute_result"
    }
   ],
   "source": [
    "# Example\n",
    "a = \"SLICING\"\n",
    "# First 4 values of a string\n",
    "f = a[:4]\n",
    "f"
   ]
  },
  {
   "cell_type": "code",
   "execution_count": null,
   "metadata": {
    "id": "hWZUFkKFs0HJ",
    "outputId": "5d6ad7c4-8717-42db-e054-da7d4e7e748d"
   },
   "outputs": [
    {
     "data": {
      "text/plain": [
       "'IN'"
      ]
     },
     "execution_count": 44,
     "metadata": {},
     "output_type": "execute_result"
    }
   ],
   "source": [
    "# Negative Indices\n",
    "b = a[-3:-1] # Slice the string from the third character from the end up to (but not including) the first character from the end\n",
    "b"
   ]
  },
  {
   "cell_type": "code",
   "execution_count": null,
   "metadata": {
    "id": "TJAWhBKRs0HJ",
    "outputId": "d8b4efe4-5773-4f24-e111-0baa6d48909b"
   },
   "outputs": [
    {
     "data": {
      "text/plain": [
       "'GNICILS'"
      ]
     },
     "execution_count": 46,
     "metadata": {},
     "output_type": "execute_result"
    }
   ],
   "source": [
    "# Reversing a string\n",
    "r = a[::-1]\n",
    "r"
   ]
  },
  {
   "cell_type": "markdown",
   "metadata": {
    "id": "tRnzpYt193ND"
   },
   "source": [
    "**String Methods**\n",
    "\n",
    "In Python, 'dir' has listed the methods available for an object. The type function shows the type of an object and the dir function shows the available methods.  \n",
    "  \n",
    "A good source of documentation for string methods is in the link: https://docs.python.org/library/stdtypes.html#string-methods."
   ]
  },
  {
   "cell_type": "code",
   "execution_count": null,
   "metadata": {
    "colab": {
     "base_uri": "https://localhost:8080/",
     "height": 35
    },
    "id": "KCKc8rnu9wqL",
    "outputId": "b4c6f6f6-eb87-426f-bac2-9eeaea5ba235"
   },
   "outputs": [
    {
     "data": {
      "text/plain": [
       "'AFFORDABLE AND CLEAN ENERGY'"
      ]
     },
     "execution_count": 11,
     "metadata": {},
     "output_type": "execute_result"
    }
   ],
   "source": [
    "# upper: turn character upper case\n",
    "\n",
    "a = \"affordable and clean energy\"\n",
    "a.upper()"
   ]
  },
  {
   "cell_type": "code",
   "execution_count": null,
   "metadata": {
    "colab": {
     "base_uri": "https://localhost:8080/",
     "height": 35
    },
    "id": "mtJdWIz__lHt",
    "outputId": "ac12f0e9-b07b-4c5f-f5fa-2ee36b233901"
   },
   "outputs": [
    {
     "data": {
      "text/plain": [
       "'agenda 2030'"
      ]
     },
     "execution_count": 12,
     "metadata": {},
     "output_type": "execute_result"
    }
   ],
   "source": [
    "# lower: turn character lower case\n",
    "\n",
    "a = \"AGENDA 2030\"\n",
    "a.lower()"
   ]
  },
  {
   "cell_type": "code",
   "execution_count": null,
   "metadata": {
    "colab": {
     "base_uri": "https://localhost:8080/"
    },
    "id": "ygeV6Vph_qc1",
    "outputId": "e0fe8c3f-4a3a-4b37-845b-01596efe4164"
   },
   "outputs": [
    {
     "name": "stdout",
     "output_type": "stream",
     "text": [
      "8\n"
     ]
    }
   ],
   "source": [
    "# find: searches for the position of one string within the original one\n",
    "# returns the lowest index where the substring is found\n",
    "# if the substring is not found, it returns -1\n",
    "a = \"Life on Land\"\n",
    "index = a.find(\"Land\")\n",
    "\n",
    "print(index)"
   ]
  },
  {
   "cell_type": "markdown",
   "metadata": {
    "id": "P3ysU70RAZeA"
   },
   "source": [
    "**String Operator**\n",
    "\n",
    "Strings can be concatenated with `+` and repeated with `*`. Operators `-`, `/`, and `**` do not work with strings. See the examples below:"
   ]
  },
  {
   "cell_type": "code",
   "execution_count": null,
   "metadata": {
    "colab": {
     "base_uri": "https://localhost:8080/"
    },
    "id": "pB7GWqy1Aw59",
    "outputId": "0a7cafe5-16eb-47ba-ef0e-606c6b42f586"
   },
   "outputs": [
    {
     "name": "stdout",
     "output_type": "stream",
     "text": [
      "Quality Education\n"
     ]
    }
   ],
   "source": [
    "a = \"Quality\"\n",
    "b = \" Education\"\n",
    "\n",
    "print(a + b)"
   ]
  },
  {
   "cell_type": "code",
   "execution_count": null,
   "metadata": {
    "colab": {
     "base_uri": "https://localhost:8080/"
    },
    "id": "WnxhXm3SA19-",
    "outputId": "e82b566d-f44b-46e3-9fdf-b1d4a214967f"
   },
   "outputs": [
    {
     "name": "stdout",
     "output_type": "stream",
     "text": [
      "SDGS SDGS SDGS SDGS SDGS SDGS SDGS SDGS SDGS SDGS SDGS SDGS SDGS SDGS SDGS SDGS SDGS \n"
     ]
    }
   ],
   "source": [
    "a = \"SDGS \"\n",
    "b = 17\n",
    "\n",
    "print(a * b)"
   ]
  },
  {
   "cell_type": "markdown",
   "metadata": {
    "id": "kA2sMamRA522"
   },
   "source": [
    "**Format Operator**\n",
    "\n",
    "The format operator '%' enables us to build strings, by replacing parts of the strings with the data stored in other variables. Here are some rules for the usage of '%':\n",
    "\n",
    "\n",
    "*  '%d' to format an integer\n",
    "*  '%g' to format a floating-point\n",
    "*  '%s' to format a string\n",
    "\n",
    "See the example below for a practical usage."
   ]
  },
  {
   "cell_type": "code",
   "execution_count": null,
   "metadata": {
    "colab": {
     "base_uri": "https://localhost:8080/"
    },
    "id": "9bV_a7aIDR08",
    "outputId": "0034cf0f-985c-4942-916c-c9610f0703cb"
   },
   "outputs": [
    {
     "name": "stdout",
     "output_type": "stream",
     "text": [
      "There are totally 17 Sustainable Development Goals to achieve Agenda 2030.\n"
     ]
    }
   ],
   "source": [
    "print('There are totally %d Sustainable Development Goals to achieve %s 2030.'\n",
    "      % (17, \"Agenda\"))\n"
   ]
  },
  {
   "cell_type": "markdown",
   "metadata": {
    "id": "4jUwy4z_s0HM"
   },
   "source": [
    "**Escape Sequence**\n",
    "\n",
    "To insert characters that are illegal in a string, we can use an escape character. An escape character is a backslash \\ followed by the character you want to insert.\n",
    "\n",
    "An example of an illegal character is a double quote inside a string that is surrounded by double quotes:"
   ]
  },
  {
   "cell_type": "code",
   "execution_count": null,
   "metadata": {
    "colab": {
     "base_uri": "https://localhost:8080/",
     "height": 141
    },
    "id": "-iKhZveps0HM",
    "outputId": "7dada32e-637a-4e18-a0bb-f0e290351afb"
   },
   "outputs": [
    {
     "ename": "SyntaxError",
     "evalue": "ignored",
     "output_type": "error",
     "traceback": [
      "\u001b[0;36m  File \u001b[0;32m\"<ipython-input-11-cb99dad4105a>\"\u001b[0;36m, line \u001b[0;32m2\u001b[0m\n\u001b[0;31m    txt = (\"The \"2030 Agenda\" for Sustainable Development, adopted by all United Nations Member States in 2015,\"\u001b[0m\n\u001b[0m           ^\u001b[0m\n\u001b[0;31mSyntaxError\u001b[0m\u001b[0;31m:\u001b[0m invalid syntax. Perhaps you forgot a comma?\n"
     ]
    }
   ],
   "source": [
    "# This line of code will generate an error\n",
    "txt = (\"The \"2030 Agenda\" for Sustainable Development, adopted by all United Nations Member States in 2015,\"\n",
    "       \"provides a shared blueprint for peace and prosperity for people and the planet, now and into the future.\")"
   ]
  },
  {
   "cell_type": "code",
   "execution_count": null,
   "metadata": {
    "colab": {
     "base_uri": "https://localhost:8080/",
     "height": 53
    },
    "id": "LoLIsO0qs0HM",
    "outputId": "ca87c6b9-3971-405e-ff5f-751ad81ff53d"
   },
   "outputs": [
    {
     "data": {
      "application/vnd.google.colaboratory.intrinsic+json": {
       "type": "string"
      },
      "text/plain": [
       "'The \"2030 Agenda\" for Sustainable Development, adopted by all United Nations Member States in 2015, provides a shared blueprint for peace and prosperity for people and the planet, now and into the future.'"
      ]
     },
     "execution_count": 6,
     "metadata": {},
     "output_type": "execute_result"
    }
   ],
   "source": [
    "# To fix this problem, we need to use the escape character \"\\\".\n",
    "# This allows us to include quotes within a string.\n",
    "\n",
    "txt = (\"The \\\"2030 Agenda\\\" for Sustainable Development, adopted by all \"\n",
    "       \"United Nations Member States in 2015, provides a shared blueprint \"\n",
    "       \"for peace and prosperity for people and the planet, now and into the future.\")\n",
    "txt"
   ]
  },
  {
   "cell_type": "markdown",
   "metadata": {
    "id": "f71YHLKss0HN"
   },
   "source": [
    "Other escape characters used in Python:"
   ]
  },
  {
   "cell_type": "code",
   "execution_count": null,
   "metadata": {
    "colab": {
     "base_uri": "https://localhost:8080/"
    },
    "id": "fyqtLD2-s0HN",
    "outputId": "1bbc247c-85f9-49cd-a35c-5088f54d3ee7"
   },
   "outputs": [
    {
     "name": "stdout",
     "output_type": "stream",
     "text": [
      "Backslash - \\\\ \\\n",
      "Single Quote - \\' '\n",
      "New Line - \\n \n",
      "\n",
      "Carriage Return - \\r \r\n",
      "Tab - \\t \t\n",
      "Backspace - \\b Hello \bWorld!\n",
      "Octal value - \\ooo Hello\n",
      "Hex value - \\xhh Hello\n"
     ]
    }
   ],
   "source": [
    "# Backslash: Shows how to escape a backslash character\n",
    "print(\"Backslash - \\\\\\ \\\\\")\n",
    "\n",
    "# Single Quote: Demonstrates escaping single quotes within a string\n",
    "print(\"Single Quote - \\\\' \\'\")\n",
    "\n",
    "# New Line: Shows how \\n creates a line break\n",
    "print(\"New Line - \\\\n \\n\")\n",
    "\n",
    "# Carriage Return: \\r moves cursor to the beginning of the line\n",
    "print(\"Carriage Return - \\\\r \\r\")\n",
    "\n",
    "# Tab: \\t creates a horizontal tab space\n",
    "print(\"Tab - \\\\t \\t\")\n",
    "\n",
    "# Backspace: \\b moves the cursor back one space\n",
    "print(\"Backspace - \\\\b Hello \\bWorld!\")\n",
    "\n",
    "# A backslash followed by three integers will result in a octal value\n",
    "print(\"Octal value - \\\\ooo \\110\\145\\154\\154\\157\")\n",
    "\n",
    "# A backslash followed by an 'x' and a hex number represents a hex value\n",
    "print(\"Hex value - \\\\xhh \\x48\\x65\\x6c\\x6c\\x6f\")"
   ]
  },
  {
   "cell_type": "markdown",
   "metadata": {
    "id": "kTYQyxYaEBLV"
   },
   "source": [
    "**Special Operators**\n",
    "\n",
    "- 'In': Boolean operator which takes two strings and returns True value if the first appears as a substring in the second.\n",
    "- 'Join': Takes all items in an iterable and joins them into one string."
   ]
  },
  {
   "cell_type": "code",
   "execution_count": null,
   "metadata": {
    "colab": {
     "base_uri": "https://localhost:8080/"
    },
    "id": "5AXFDEkQErEo",
    "outputId": "8072a4f6-d080-4517-8ba3-6ad27c8c84d0"
   },
   "outputs": [
    {
     "data": {
      "text/plain": [
       "False"
      ]
     },
     "execution_count": 59,
     "metadata": {},
     "output_type": "execute_result"
    }
   ],
   "source": [
    "# in:\n",
    "\n",
    "\"a\" in \"python\""
   ]
  },
  {
   "cell_type": "code",
   "execution_count": null,
   "metadata": {
    "colab": {
     "base_uri": "https://localhost:8080/"
    },
    "id": "PLqVG8ReEulr",
    "outputId": "5836e60d-4a4d-4785-e912-8702d32e1f72"
   },
   "outputs": [
    {
     "name": "stdout",
     "output_type": "stream",
     "text": [
      "health\n",
      "h e a l t h\n"
     ]
    }
   ],
   "source": [
    "# join\n",
    "\n",
    "ls = ['h', 'e', 'a', 'l', 't', 'h']\n",
    "print(\"\".join(ls))\n",
    "\n",
    "ls = ['h', 'e', 'a', 'l', 't', 'h']\n",
    "print(\" \".join(ls))"
   ]
  },
  {
   "cell_type": "markdown",
   "metadata": {
    "id": "7gPrieKTQR0C"
   },
   "source": [
    "### 3.4.3 Boolean <a class=\"anchor\" id=\"three-five-three\"></a>\n",
    "\n",
    "Data type with one of the two built-in values, 'True' or 'False'. Boolean objects that are equal to True are positive to the mentioned criteria, and those equal to False are negative to the mentioned criteria.\n",
    "\n",
    "The TRUE or FALSE values are used for reporting the statement results such as judging whether two variables are the same. Please find the examples below."
   ]
  },
  {
   "cell_type": "code",
   "execution_count": null,
   "metadata": {
    "colab": {
     "base_uri": "https://localhost:8080/"
    },
    "id": "auk0dOwaRN8c",
    "outputId": "e135f849-a80b-40c7-ac28-32d3e067a35c"
   },
   "outputs": [
    {
     "name": "stdout",
     "output_type": "stream",
     "text": [
      "True\n",
      "False\n"
     ]
    }
   ],
   "source": [
    "print(5 == 5)\n",
    "\n",
    "print(5 == 6)"
   ]
  },
  {
   "cell_type": "markdown",
   "metadata": {
    "id": "1oe_lXeus0HO"
   },
   "source": [
    "### 3.4.4 List <a class=\"anchor\" id=\"three-five-four\"></a>"
   ]
  },
  {
   "cell_type": "markdown",
   "metadata": {
    "id": "St5OWjGLs0HP"
   },
   "source": [
    "**Characteristics of a List**\n",
    "- Ordered: Maintains the order of the data insertion\n",
    "- Changeable: The list is mutable and we can modify items\n",
    "- Heterogeneous: The list can contain data of different types\n",
    "- Contains duplicates: Allows duplicate data"
   ]
  },
  {
   "cell_type": "code",
   "execution_count": null,
   "metadata": {
    "colab": {
     "base_uri": "https://localhost:8080/"
    },
    "id": "Pcn322jqgqHj",
    "outputId": "2a853b96-9e5a-4e6a-badd-24142fb41921"
   },
   "outputs": [
    {
     "data": {
      "text/plain": [
       "list"
      ]
     },
     "execution_count": 21,
     "metadata": {},
     "output_type": "execute_result"
    }
   ],
   "source": [
    "topics = [\"health\", \"equality\", \"well-being\"]\n",
    "\n",
    "type(topics)"
   ]
  },
  {
   "cell_type": "markdown",
   "metadata": {
    "id": "eV8zTBJVgEE4"
   },
   "source": [
    "**Looping Through a List:**\n",
    "\n",
    "We can combine 'for loop' or 'while loop' in a list. We continue with the following example:"
   ]
  },
  {
   "cell_type": "code",
   "execution_count": null,
   "metadata": {
    "colab": {
     "base_uri": "https://localhost:8080/"
    },
    "id": "YdNgspATdTs6",
    "outputId": "53342564-aa44-4ae3-b02d-320afbe23f35"
   },
   "outputs": [
    {
     "name": "stdout",
     "output_type": "stream",
     "text": [
      "health\n",
      "equality\n",
      "well-being\n"
     ]
    }
   ],
   "source": [
    "for topic in topics:\n",
    "    print(topic)"
   ]
  },
  {
   "cell_type": "markdown",
   "metadata": {
    "id": "R5IWEGUZhFbs"
   },
   "source": [
    "**List Slicing**\n",
    "\n",
    "It is quite similar as we slice the string. We will provide several examples of the concept:"
   ]
  },
  {
   "cell_type": "code",
   "execution_count": null,
   "metadata": {
    "colab": {
     "base_uri": "https://localhost:8080/"
    },
    "id": "hL4YYeJDhDMR",
    "outputId": "614ee904-5b5b-45b1-9028-a9cf21a04687"
   },
   "outputs": [
    {
     "name": "stdout",
     "output_type": "stream",
     "text": [
      "['n', 'o']\n",
      "['n', 'o']\n",
      "['p', 'o', 'v', 'e', 'r', 't', 'y']\n"
     ]
    }
   ],
   "source": [
    "ls = ['n', 'o', ' ', 'p', 'o', 'v', 'e', 'r', 't', 'y']\n",
    "\n",
    "print(ls[0:2])  # First two elements\n",
    "print(ls[:2])   # Same as above, from start to index 2\n",
    "print(ls[3:])   # From index 3 to end"
   ]
  },
  {
   "cell_type": "code",
   "execution_count": null,
   "metadata": {
    "id": "RkMpuOLzs0HQ",
    "outputId": "965c9bc4-dc5f-4b53-cf3d-c8a56e27e1c0"
   },
   "outputs": [
    {
     "name": "stdout",
     "output_type": "stream",
     "text": [
      "[6, 5, 4, 3, 2, 1]\n"
     ]
    }
   ],
   "source": [
    "# Example\n",
    "ls1 = [1, 2, 3, 4, 5, 6]\n",
    "# To reverse a list\n",
    "print(ls1[::-1])"
   ]
  },
  {
   "cell_type": "code",
   "execution_count": null,
   "metadata": {
    "id": "D4kQa76is0HQ",
    "outputId": "e035a2c6-13cd-4912-f700-8f0639a36e46"
   },
   "outputs": [
    {
     "name": "stdout",
     "output_type": "stream",
     "text": [
      "6\n"
     ]
    }
   ],
   "source": [
    "# Last element of a list\n",
    "print(ls1[-1])"
   ]
  },
  {
   "cell_type": "code",
   "execution_count": null,
   "metadata": {
    "id": "PH3dWNKcs0HR",
    "outputId": "d785c7ea-ad16-4c95-8319-782c76202276"
   },
   "outputs": [
    {
     "name": "stdout",
     "output_type": "stream",
     "text": [
      "[1, 3, 5]\n"
     ]
    }
   ],
   "source": [
    "# Slice the list with a step of 2, starting from the first element to the second-to-last\n",
    "print(ls1[0:-1:2])"
   ]
  },
  {
   "cell_type": "code",
   "execution_count": null,
   "metadata": {
    "id": "2IyRT-mks0HR",
    "outputId": "091b553c-4c45-4212-8e1d-aecd753dd998"
   },
   "outputs": [
    {
     "name": "stdout",
     "output_type": "stream",
     "text": [
      "[2, 3, 4, 5]\n"
     ]
    }
   ],
   "source": [
    "# Slice the list using negative indexing, from the 5th last to the 2nd last element\n",
    "print(ls1[-5:-1])"
   ]
  },
  {
   "cell_type": "markdown",
   "metadata": {
    "id": "vq_iSosnh6Ku"
   },
   "source": [
    "**List Methods**\n",
    "\n",
    "Python offers methods that perform operations on lists. For example, we introduce three functions: 'append', 'sort' and 'extend'."
   ]
  },
  {
   "cell_type": "code",
   "execution_count": null,
   "metadata": {
    "colab": {
     "base_uri": "https://localhost:8080/"
    },
    "id": "xcUMp3NUiPRh",
    "outputId": "b3c927b3-6fcc-4a50-f973-b0e631001ea8"
   },
   "outputs": [
    {
     "name": "stdout",
     "output_type": "stream",
     "text": [
      "['S', 'D', 'G', 's']\n",
      "['life', 'below', 'water']\n",
      "['clean energy', 'health', 'life', 'quality', 'water']\n"
     ]
    }
   ],
   "source": [
    "# apppend: add new elements in the original list\n",
    "t = ['S', 'D', 'G']\n",
    "t.append('s')\n",
    "print(t)\n",
    "\n",
    "# extend: extend one list with another\n",
    "t1 = ['life', 'below']\n",
    "t2 = ['water']\n",
    "t1.extend(t2)\n",
    "print(t1)\n",
    "\n",
    "# sort: order the list in alphabetical order\n",
    "t = ['life', 'water', 'health', 'clean energy', 'quality']\n",
    "t.sort()\n",
    "print(t)"
   ]
  },
  {
   "cell_type": "markdown",
   "metadata": {
    "id": "N-vfVpbFjRAL"
   },
   "source": [
    "**List Operations:**\n",
    "\n",
    "* '+' : The operator helps concatenate lists\n",
    "\n",
    "* '*' : The operator helps repeat a list the given number of times"
   ]
  },
  {
   "cell_type": "code",
   "execution_count": null,
   "metadata": {
    "colab": {
     "base_uri": "https://localhost:8080/"
    },
    "id": "5Hp5RgIfjNGU",
    "outputId": "7b81b1fe-1945-417c-fdae-d486b8108867"
   },
   "outputs": [
    {
     "name": "stdout",
     "output_type": "stream",
     "text": [
      "[1, 3, 3, 4, 4, 6]\n",
      "[1, 4, 1, 4, 1, 4, 1, 4]\n"
     ]
    }
   ],
   "source": [
    "# example\n",
    "a = [1, 3, 3]\n",
    "b = [4, 4, 6]\n",
    "c = a + b\n",
    "print(c)\n",
    "\n",
    "a = [1, 4]\n",
    "b = a * 4\n",
    "print(b)"
   ]
  },
  {
   "cell_type": "markdown",
   "metadata": {
    "id": "xkxOf3qUjp4k"
   },
   "source": [
    "### 3.4.5 Dictionary <a class=\"anchor\" id=\"three-five-five\"></a>\n",
    "\n",
    "Much like a book of dictionary, a dictionary as a Python data type is used to store data values in key: value pairs. It is an unordered collection of data values, used to store data values. Unlike other data types that hold single values as elements, a dictionary holds paired information."
   ]
  },
  {
   "cell_type": "markdown",
   "metadata": {
    "id": "bXtBJbiSs0HS"
   },
   "source": [
    "<p align=\"center\">\n",
    "  <img src=\"https://editor.analyticsvidhya.com/uploads/17699Append-a-Dictionary-to-a-list-in-Python-5-i2tutorials.jpeg\" />\n",
    "</p>\n",
    "<center>Image from <a href=\"https://www.analyticsvidhya.com/blog/2021/06/working-with-lists-dictionaries-in-python/\">Working with Lists & Dictionaries in Python</a> by Mohit Tripathi</center>"
   ]
  },
  {
   "cell_type": "markdown",
   "metadata": {
    "id": "MRCtwm9Es0HS"
   },
   "source": [
    "**Creating a Dictionary From 2 Lists**"
   ]
  },
  {
   "cell_type": "code",
   "execution_count": null,
   "metadata": {
    "colab": {
     "base_uri": "https://localhost:8080/"
    },
    "id": "SS8D3DX7juFU",
    "outputId": "21731dd4-b6f2-41b9-a7a5-59030081a76b"
   },
   "outputs": [
    {
     "name": "stdout",
     "output_type": "stream",
     "text": [
      "Value of key 'a' is:  1\n",
      "Key of value '1' is:  ['a', 'c']\n"
     ]
    }
   ],
   "source": [
    "# Example: Create a dictionary by zipping two lists (keys and values)\n",
    "keys = ['a', 'b', 'c']  # List of keys\n",
    "values = [1, 2, 1]  # List of corresponding values\n",
    "dictionary = dict(zip(keys, values))  # Create dictionary by pairing keys and values\n",
    "\n",
    "# Get value by key using the 'get' method\n",
    "print(\"Value of key 'a' is: \", dictionary.get('a'))\n",
    "\n",
    "# Get keys by value using list comprehension\n",
    "keys = [k for k, v in dictionary.items() if v == 1]  # Find all keys with value 1\n",
    "print(\"Key of value '1' is: \", keys)"
   ]
  },
  {
   "cell_type": "markdown",
   "metadata": {
    "id": "wR_RB__NDAtC"
   },
   "source": [
    "**Key-Value Usage**\n",
    "\n",
    "A dictionary consists of 'key'-'value' pairs, and they are separated by a colon ':'\n",
    "\n",
    "Other key-value pairs are separated by commas.\n",
    "\n",
    "The dictionary is enclosed by curly brackets {}."
   ]
  },
  {
   "cell_type": "code",
   "execution_count": null,
   "metadata": {
    "id": "Do1_nJ6KCfbv"
   },
   "outputs": [],
   "source": [
    "ID = {\n",
    "    \"SDG Number\": 1,\n",
    "    \"Goal\": \"No Poverty\"\n",
    "     }"
   ]
  },
  {
   "cell_type": "code",
   "execution_count": null,
   "metadata": {
    "colab": {
     "base_uri": "https://localhost:8080/"
    },
    "id": "2Kfdd-EfDswd",
    "outputId": "81fcbffa-ebca-435c-dac8-1e640f174750"
   },
   "outputs": [
    {
     "data": {
      "text/plain": [
       "dict_keys(['SDG Number', 'Goal'])"
      ]
     },
     "execution_count": 42,
     "metadata": {},
     "output_type": "execute_result"
    }
   ],
   "source": [
    "ID.keys()"
   ]
  },
  {
   "cell_type": "code",
   "execution_count": null,
   "metadata": {
    "colab": {
     "base_uri": "https://localhost:8080/"
    },
    "id": "frcouvS4DvCl",
    "outputId": "3c2ea146-80e9-4af8-b8e3-45b0edbb4e0a"
   },
   "outputs": [
    {
     "data": {
      "text/plain": [
       "dict_values([1, 'No Poverty'])"
      ]
     },
     "execution_count": 43,
     "metadata": {},
     "output_type": "execute_result"
    }
   ],
   "source": [
    "ID.values()"
   ]
  },
  {
   "cell_type": "markdown",
   "metadata": {
    "id": "hU0EzUyKD55m"
   },
   "source": [
    "**Iterate Through Dictionary**\n",
    "\n",
    "We can combine for loop or while loop when using the dictionary."
   ]
  },
  {
   "cell_type": "code",
   "execution_count": null,
   "metadata": {
    "id": "DPn-9CMOELT7"
   },
   "outputs": [],
   "source": [
    "# Example\n",
    "IDs = {\n",
    "    \"SDG1\": {\n",
    "        \"SDG Number\": 1,\n",
    "        \"Goal\": \"No Poverty\"\n",
    "    },\n",
    "    \"SDG2\": {\n",
    "        \"SDG Number\": 2,\n",
    "        \"Goal\": \"Zero Hunger\"\n",
    "    }\n",
    "}"
   ]
  },
  {
   "cell_type": "code",
   "execution_count": null,
   "metadata": {
    "colab": {
     "base_uri": "https://localhost:8080/"
    },
    "id": "uGtX9ld_E200",
    "outputId": "09a37a7a-967f-477d-ab1b-f141ef437e89"
   },
   "outputs": [
    {
     "name": "stdout",
     "output_type": "stream",
     "text": [
      "SDG1\n",
      "SDG2\n"
     ]
    }
   ],
   "source": [
    "# for loop print keys\n",
    "for id in IDs.keys():\n",
    "    print(id)"
   ]
  },
  {
   "cell_type": "code",
   "execution_count": null,
   "metadata": {
    "colab": {
     "base_uri": "https://localhost:8080/"
    },
    "id": "CjRP9Lk_E_CU",
    "outputId": "e420849f-8dff-473e-cc3d-cbab49d0bf8e"
   },
   "outputs": [
    {
     "name": "stdout",
     "output_type": "stream",
     "text": [
      "{'SDG Number': 1, 'Goal': 'No Poverty'}\n",
      "{'SDG Number': 2, 'Goal': 'Zero Hunger'}\n"
     ]
    }
   ],
   "source": [
    "# for loop print values\n",
    "for id in IDs.values():\n",
    "    print(id)"
   ]
  },
  {
   "cell_type": "code",
   "execution_count": null,
   "metadata": {
    "colab": {
     "base_uri": "https://localhost:8080/"
    },
    "id": "8YwbmgYyFFX8",
    "outputId": "f934307c-63c8-4530-cdd4-58489f8f8bea",
    "scrolled": true
   },
   "outputs": [
    {
     "name": "stdout",
     "output_type": "stream",
     "text": [
      "('SDG1', {'SDG Number': 1, 'Goal': 'No Poverty'})\n",
      "('SDG2', {'SDG Number': 2, 'Goal': 'Zero Hunger'})\n"
     ]
    }
   ],
   "source": [
    "# for loop print whole items\n",
    "for id in IDs.items():\n",
    "    print(id)"
   ]
  },
  {
   "cell_type": "markdown",
   "metadata": {
    "id": "WU85AQ-zUHpg"
   },
   "source": [
    "### 3.4.6 Sets <a class=\"anchor\" id=\"three-five-six\"></a>\n",
    "Sets in Python are a type of data structure that store non-duplicate items. They are unordered, meaning they don't record element position or order of insertion, and this allows sets to support operations like union, intersection, and difference more efficiently.\n",
    "\n",
    "Key characteristics of sets are:\n",
    "\n",
    "* **Unordered:** Set elements are unordered. You cannot access or change an element of a set using indexing or slicing.\n",
    "\n",
    "*  **Mutable:** Sets are mutable, i.e., they can be modified after they are created. However, the elements stored in sets must be of an immutable type (like integers, floats, strings, tuples).\n",
    "\n",
    "* **No duplicates:** Sets cannot have duplicate values. Duplicate values will automatically be removed.\n",
    "\n",
    "* **Built-in set methods:** Python provides a wealth of methods to modify or query a set, such as add, remove, union, intersection, difference, etc."
   ]
  },
  {
   "cell_type": "markdown",
   "metadata": {
    "id": "Aqq9OTFtcSiZ"
   },
   "source": [
    "**Creating a Set**"
   ]
  },
  {
   "cell_type": "code",
   "execution_count": null,
   "metadata": {
    "colab": {
     "base_uri": "https://localhost:8080/"
    },
    "id": "gg-4O9secUVb",
    "outputId": "194dbc1b-4b36-4d50-b88f-b92f72d27211"
   },
   "outputs": [
    {
     "name": "stdout",
     "output_type": "stream",
     "text": [
      "{'SDG1', 'SDG3', 'SDG2'}\n"
     ]
    }
   ],
   "source": [
    "#  Creating a set\n",
    "sdg_set = {\"SDG1\", \"SDG2\", \"SDG3\"}\n",
    "# Printing the set\n",
    "print(sdg_set)  # Output: {\"SDG1\", \"SDG2\", \"SDG3\"} -> It may appear unordered"
   ]
  },
  {
   "cell_type": "markdown",
   "metadata": {
    "id": "s4T4LFGlcGfB"
   },
   "source": [
    "**Set Methods**"
   ]
  },
  {
   "cell_type": "code",
   "execution_count": null,
   "metadata": {
    "id": "aO8I3mnxcDOJ"
   },
   "outputs": [],
   "source": [
    "sdg_set = {\"SDG1\", \"SDG2\", \"SDG3\"}\n",
    "more_sdgs = {\"SDG4\", \"SDG5\", \"SDG6\"}\n",
    "\n",
    "# Adding an element to a set\n",
    "sdg_set.add(\"SDG5\")\n",
    "print(sdg_set)  # Output: {'SDG1', 'SDG2', 'SDG3', 'SDG5'} -> It may appear unordered\n",
    "\n",
    "# Removing an element from a set\n",
    "sdg_set.remove(\"SDG2\")\n",
    "print(sdg_set)  # Output: {'SDG1', 'SDG3', 'SDG5'} -> It may appear unordered\n",
    "\n",
    "# Union of two sets\n",
    "all_sdgs = sdg_set.union(more_sdgs)\n",
    "print(all_sdgs)  # Output: {'SDG1', 'SDG3', 'SDG4', 'SDG5', 'SDG6'} -> It may appear unordered\n",
    "\n",
    "# Intersection of two sets\n",
    "common_sdgs = sdg_set.intersection(more_sdgs)\n",
    "print(common_sdgs)  # Output:{'SDG5'}\n",
    "\n",
    "# Difference of two sets\n",
    "unique_sdgs = sdg_set.difference(more_sdgs)\n",
    "print(unique_sdgs)  # Output: {'SDG1', 'SDG3'} > It may appear unordered"
   ]
  },
  {
   "cell_type": "markdown",
   "metadata": {
    "id": "U0T3CcZFWhDS"
   },
   "source": [
    "### 3.4.7 Tuple <a class=\"anchor\" id=\"three-seven-six\"></a>\n",
    "A tuple in Python is an immutable sequence type. It is a data structure that can hold an ordered collection of elements. They are similar to lists, but unlike lists, they cannot be modified after creation - they are \"immutable\". This means you can't add, remove, or change elements in a tuple. Tuples are defined by enclosing the elements in parentheses ( ), with elements separated by commas.\n",
    "\n",
    "Key characteristics of tuples:\n",
    "\n",
    "* **Immutable:** Once a tuple is created, you cannot change its content.\n",
    "* **Allow duplicates:** Tuples can contain duplicate values.\n",
    "* **Order is retained:** The order of elements in a tuple is preserved.\n",
    "* **Indexing and Slicing:** Tuple values can be accessed by referring to their index number via brackets. Slicing can also be done in tuples"
   ]
  },
  {
   "cell_type": "markdown",
   "metadata": {
    "id": "mlbsFWskebjj"
   },
   "source": [
    "Here's an example of a tuple:"
   ]
  },
  {
   "cell_type": "code",
   "execution_count": null,
   "metadata": {
    "id": "nZ5pe88Ldh1I"
   },
   "outputs": [],
   "source": [
    "# This tuple represents the three pillars of sustainable development\n",
    "pillars_of_sustainability = (\"Economic\", \"Social\", \"Environmental\")\n",
    "print(pillars_of_sustainability)  # Outputs: (\"Economic\", \"Social\", \"Environmental\")"
   ]
  },
  {
   "cell_type": "markdown",
   "metadata": {
    "id": "2SxyAj8sWmwJ"
   },
   "source": [
    "#### 🤖 Machine Tutor Question\n",
    "\n",
    "**Prompt:**\n",
    "\n",
    "```\n",
    "What is the difference between List, Dictionary, Sets and Tuple Data structures?\n",
    "```\n",
    "* [ChatGPT Tutor Response](https://chatgpt.com/share/6751bdee-c780-8006-80ba-d687011c0e62)\n",
    "\n",
    "* [Gemini Tutor Response](https://g.co/gemini/share/a7249b906b79)\n",
    "\n",
    "**Prompt to Try Out**\n",
    "```\n",
    "In general, in what situations should I prefer using one data structure over the other.\n",
    "```"
   ]
  },
  {
   "cell_type": "markdown",
   "metadata": {
    "id": "r9hr10OHs0HV"
   },
   "source": [
    "### 3.4.8 Mutable vs Immutable Data Types\n",
    "\n",
    "The data types like **integer**, **float**, **boolean**, and **string** are _immutable_, i.e., they can't be changed once they are created.\n",
    "The data types **list**, **dict**, and **set** are _mutable_, i.e., their values can be changed. Usually, objects that store a collection of data are mutable."
   ]
  },
  {
   "cell_type": "code",
   "execution_count": null,
   "metadata": {
    "id": "ojcj6Tits0HV"
   },
   "outputs": [],
   "source": [
    "# Example: String objects are immutable\n",
    "text = \"Hello World!\"\n",
    "text[0] = \"h\" # Attempting to change the first character of the string will raise a TypeError\n",
    "print(text)"
   ]
  },
  {
   "cell_type": "code",
   "execution_count": null,
   "metadata": {
    "id": "0Xg1oDTks0HW",
    "outputId": "45d87eb3-8be7-4f44-cdcb-99f62ada8a5e"
   },
   "outputs": [
    {
     "name": "stdout",
     "output_type": "stream",
     "text": [
      "['d', 'b', 'c']\n"
     ]
    }
   ],
   "source": [
    "# Example: List objects are mutable\n",
    "items = [\"a\", \"b\", \"c\"]\n",
    "items[0] = \"d\" # We can change the first element of the list to \"d\"\n",
    "print(items)"
   ]
  },
  {
   "cell_type": "markdown",
   "metadata": {
    "id": "qKn_EQG3EJ4O"
   },
   "source": [
    "#### 🤖 **Machine Tutor Question**\n",
    "\n",
    "Copy and past the prompt below in your [ChatGPT](https://chat.openai.com/) and [Gemini](https://gemini.google.com/) interface to read more about mutable and immutable datatypes in Python.\n",
    "\n",
    "**Prompt:**\n",
    "\n",
    "```\n",
    "What are mutable and immutable datatypes in Python?\n",
    "```"
   ]
  },
  {
   "cell_type": "markdown",
   "metadata": {
    "id": "4PMtMLOFsOl1"
   },
   "source": [
    "# 4. Operators, Expressions and Statements in Python <a class=\"anchor\" id=\"three\"></a>"
   ]
  },
  {
   "cell_type": "markdown",
   "metadata": {
    "id": "voxgBIBsa_t3"
   },
   "source": [
    "## 4.1 Arithmetic Operators <a class=\"anchor\" id=\"four-one\"></a>"
   ]
  },
  {
   "cell_type": "markdown",
   "metadata": {
    "id": "F0PbvBICa8cg"
   },
   "source": [
    "| Operators | Meaning                            | Example | Result |\n",
    "|-----------|------------------------------------|---------|--------|\n",
    "| +         | Addition                           | 4 + 2   | 6      |\n",
    "| -         | Subtraction                        | 4 - 2   | 2      |\n",
    "| *         | Multiplication                     | 4 * 2   | 8      |\n",
    "| /         | Division                           | 4 / 2   | 2      |\n",
    "| %         | Modulus operator for the remainder | 5 % 2   | 1      |\n",
    "| **        | Exponent                           | 5 ** 2  | 25     |\n",
    "| //        | Floor Division                     | 5 // 2  | 2      |"
   ]
  },
  {
   "cell_type": "code",
   "execution_count": null,
   "metadata": {
    "colab": {
     "base_uri": "https://localhost:8080/"
    },
    "id": "uQXUhOXSicql",
    "outputId": "4e5a6579-c537-496f-c592-754d157f231a"
   },
   "outputs": [
    {
     "data": {
      "text/plain": [
       "52"
      ]
     },
     "execution_count": 75,
     "metadata": {},
     "output_type": "execute_result"
    }
   ],
   "source": [
    "20 + 32"
   ]
  },
  {
   "cell_type": "code",
   "execution_count": null,
   "metadata": {
    "colab": {
     "base_uri": "https://localhost:8080/"
    },
    "id": "h1et9txn56p2",
    "outputId": "32566cfc-d00c-4a4c-fa0e-82d0baf1af7f"
   },
   "outputs": [
    {
     "data": {
      "text/plain": [
       "36"
      ]
     },
     "execution_count": 76,
     "metadata": {},
     "output_type": "execute_result"
    }
   ],
   "source": [
    "6 ** 2"
   ]
  },
  {
   "cell_type": "code",
   "execution_count": null,
   "metadata": {
    "colab": {
     "base_uri": "https://localhost:8080/"
    },
    "id": "goXUoghS56iN",
    "outputId": "82063463-4c97-418b-e5e8-8bb6ee9ee7fc"
   },
   "outputs": [
    {
     "data": {
      "text/plain": [
       "112"
      ]
     },
     "execution_count": 77,
     "metadata": {},
     "output_type": "execute_result"
    }
   ],
   "source": [
    "(5 + 9) * (15 - 7)"
   ]
  },
  {
   "cell_type": "markdown",
   "metadata": {
    "id": "AEf4GtijiDzE"
   },
   "source": [
    "### 4.1.1 Order of Operation <a class=\"anchor\" id=\"four-one-one\"></a>\n",
    "\n",
    "Python follows the specific order of operations also known as PEMDAS.\n",
    "\n",
    " * P – Parentheses\n",
    " * E – Exponentiation\n",
    " * M – Multiplication\n",
    " * D – Division\n",
    " * A – Addition\n",
    " * S – Subtraction\n",
    "\n",
    "The precedence of operators is listed from high to low, which is the descending order of the list. Please follow the mathematical computation sequence by order."
   ]
  },
  {
   "cell_type": "markdown",
   "metadata": {
    "id": "hhL7eVgdRdkO"
   },
   "source": [
    "### 4.1.2 Logical Operators <a class=\"anchor\" id=\"four-one-two\"></a>\n",
    "\n",
    "There are three logical operators: 'and', 'or', and 'not'. The\n",
    "three operators mentioned are similar to their usage in English."
   ]
  },
  {
   "cell_type": "code",
   "execution_count": null,
   "metadata": {
    "colab": {
     "base_uri": "https://localhost:8080/"
    },
    "id": "sE6Jr8TORUN1",
    "outputId": "a54001df-644b-4e82-da85-4cc695d6c192"
   },
   "outputs": [
    {
     "name": "stdout",
     "output_type": "stream",
     "text": [
      "True\n",
      "True\n",
      "False\n"
     ]
    }
   ],
   "source": [
    "# Examples:\n",
    "\n",
    "print(True and True) # Both conditions must be True for the result to be True\n",
    "\n",
    "print(True or False) # Only one condition needs to be True for the result to be True\n",
    "\n",
    "print(not True) # Reverses the boolean value of the condition"
   ]
  },
  {
   "cell_type": "code",
   "execution_count": null,
   "metadata": {
    "colab": {
     "base_uri": "https://localhost:8080/"
    },
    "id": "_jS5O7l87z8n",
    "outputId": "1f48be01-a453-4729-efdb-cef85ee8c7d8"
   },
   "outputs": [
    {
     "data": {
      "text/plain": [
       "int"
      ]
     },
     "execution_count": 79,
     "metadata": {},
     "output_type": "execute_result"
    }
   ],
   "source": [
    "type(0)"
   ]
  },
  {
   "cell_type": "code",
   "execution_count": null,
   "metadata": {
    "colab": {
     "base_uri": "https://localhost:8080/"
    },
    "id": "XHGkmO7A8Lgi",
    "outputId": "c37589cd-7143-4de0-e306-44057c19b375"
   },
   "outputs": [
    {
     "data": {
      "text/plain": [
       "float"
      ]
     },
     "execution_count": 80,
     "metadata": {},
     "output_type": "execute_result"
    }
   ],
   "source": [
    "type(0.0)"
   ]
  },
  {
   "cell_type": "markdown",
   "metadata": {
    "id": "ZICCsFM_s0HZ"
   },
   "source": [
    "### 4.1.3 Bitwise Operations <a class=\"anchor\" id=\"four-one-three\"></a>"
   ]
  },
  {
   "cell_type": "markdown",
   "metadata": {
    "id": "3F7VbUB-s0HZ"
   },
   "source": [
    "The number 1234 is a decimal value that can be broken down as: 4 ones, 3 tens, 2 hundreds, and 1 thousand. Bitwise Operations help us perform logical operations on binary numbers."
   ]
  },
  {
   "cell_type": "code",
   "execution_count": null,
   "metadata": {
    "id": "jao1o4hWs0HZ",
    "outputId": "105442e1-2717-4247-e9db-bc9dab72fa38"
   },
   "outputs": [
    {
     "data": {
      "text/plain": [
       "1234"
      ]
     },
     "execution_count": 1,
     "metadata": {},
     "output_type": "execute_result"
    }
   ],
   "source": [
    "4 * 1 + 3 * 10 + 2  * 100 + 1 * 1000"
   ]
  },
  {
   "cell_type": "code",
   "execution_count": null,
   "metadata": {
    "id": "nRUqy6YWs0HZ",
    "outputId": "717c4bc8-e14f-4332-ce9b-fb8b589a0d3e"
   },
   "outputs": [
    {
     "data": {
      "text/plain": [
       "1234"
      ]
     },
     "execution_count": 2,
     "metadata": {},
     "output_type": "execute_result"
    }
   ],
   "source": [
    "4 * 10**0 + 3 * 10**1 + 2 * 10**2 + 1 * 10**3"
   ]
  },
  {
   "cell_type": "markdown",
   "metadata": {
    "id": "5dh2CAKGs0Ha"
   },
   "source": [
    "\"4 times ten to the 0th power, 3 times ten to the 1st power, 2 times ten to the 2nd power...\"\n",
    "Computers use binary numbers which are in base 2. They just use digits 0 and 1."
   ]
  },
  {
   "cell_type": "code",
   "execution_count": null,
   "metadata": {
    "id": "SnATp03Os0Ha",
    "outputId": "ada705d7-aedc-4b98-cd5a-2608af815e62"
   },
   "outputs": [
    {
     "data": {
      "text/plain": [
       "13"
      ]
     },
     "execution_count": 19,
     "metadata": {},
     "output_type": "execute_result"
    }
   ],
   "source": [
    "# The binary number below is equivalent to 13 in decimal.\n",
    "0b1101\n",
    "# Breaking down the binary number:\n",
    "# Starting from the right, calculate the sum:\n",
    "# 1 * 2**0 = 1\n",
    "# 0 * 2**1 = 0\n",
    "# 1 * 2**2 = 4\n",
    "# 1 * 2**3 = 8\n",
    "# Total: 1 + 0 + 4 + 8 = 13\n",
    "1 * 2**0 + 0 * 2**1 + 1 * 2**2 + 1 * 2**3"
   ]
  },
  {
   "cell_type": "markdown",
   "metadata": {
    "id": "VZOnN9PNs0Ha"
   },
   "source": [
    "Examples:"
   ]
  },
  {
   "cell_type": "code",
   "execution_count": null,
   "metadata": {
    "id": "N4SyoVdts0Ha"
   },
   "outputs": [],
   "source": [
    "x=0b11001011\n",
    "y=0b10101101"
   ]
  },
  {
   "cell_type": "code",
   "execution_count": null,
   "metadata": {
    "id": "DJ0vemgps0Ha",
    "outputId": "8fed4087-4f8c-4ca5-8ee1-839dea20af7d"
   },
   "outputs": [
    {
     "data": {
      "text/plain": [
       "'0b10001001'"
      ]
     },
     "execution_count": 21,
     "metadata": {},
     "output_type": "execute_result"
    }
   ],
   "source": [
    "# Bitwise AND -- use &\n",
    "# It's like a game, apply logical sense to get a number out of x and y.\n",
    "# For \"AND\" we gotta have'em both.\n",
    "# 1,1 --> 1\n",
    "# 1,0 --> 0\n",
    "# 0,1 --> 0\n",
    "# 0,0 --> 0\n",
    "# 1,1 --> 1\n",
    "# 0,1 --> 0\n",
    "# 1,0 --> 0\n",
    "# 1,1 --> 1\n",
    "bin(x & y)"
   ]
  },
  {
   "cell_type": "code",
   "execution_count": null,
   "metadata": {
    "id": "iXZLtZvds0Hb",
    "outputId": "42962fdd-6b6e-472a-ff2b-d71120fe0c05"
   },
   "outputs": [
    {
     "data": {
      "text/plain": [
       "'0b11101111'"
      ]
     },
     "execution_count": 22,
     "metadata": {},
     "output_type": "execute_result"
    }
   ],
   "source": [
    "# Bitwise OR -- use |\n",
    "\n",
    "# Again, but this time if either one of them is 1 it's 1.\n",
    "# 1,1 --> 1\n",
    "# 1,0 --> 1\n",
    "# 0,1 --> 1\n",
    "# 0,0 --> 0\n",
    "# 1,1 --> 1\n",
    "# 0,1 --> 1\n",
    "# 1,0 --> 1\n",
    "# 1,1 --> 1\n",
    "bin(x | y)"
   ]
  },
  {
   "cell_type": "code",
   "execution_count": null,
   "metadata": {
    "id": "K9-x7CBvs0Hb",
    "outputId": "e6f451e3-e5ec-44aa-a514-6fd3c10664f3"
   },
   "outputs": [
    {
     "data": {
      "text/plain": [
       "'0b1100110'"
      ]
     },
     "execution_count": 23,
     "metadata": {},
     "output_type": "execute_result"
    }
   ],
   "source": [
    "# Bitwise XOR -- use ^\n",
    "# If one of them is 1 but NOT both.\n",
    "\n",
    "# 1,1 --> 0\n",
    "# 1,0 --> 1\n",
    "# 0,1 --> 1\n",
    "# 0,0 --> 0\n",
    "# 1,1 --> 0\n",
    "# 0,1 --> 1\n",
    "# 1,0 --> 1\n",
    "# 1,1 --> 0\n",
    "bin(x^y)"
   ]
  },
  {
   "cell_type": "code",
   "execution_count": null,
   "metadata": {
    "id": "NymalaOds0Hb",
    "outputId": "e42b256d-4d0a-44b9-a77a-f49fe0672693"
   },
   "outputs": [
    {
     "data": {
      "text/plain": [
       "-204"
      ]
     },
     "execution_count": 24,
     "metadata": {},
     "output_type": "execute_result"
    }
   ],
   "source": [
    "# Bitwise NOT -- use ~\n",
    "# The ~ operator inverts all the bits of the number.\n",
    "# For x = 0b11001011 (203 in decimal), applying ~x:\n",
    "# - In binary, x is 11001011.\n",
    "# - Applying ~ inverts all the bits to get 00110100.\n",
    "# - This is the one's complement of the original number.\n",
    "# - In Python, the result is interpreted as a two's complement number.\n",
    "# - The two's complement of 203 is -204 (calculated as -(203 + 1)).\n",
    "# Thus, ~x produces -204.\n",
    "~x  # Result: -204"
   ]
  },
  {
   "cell_type": "code",
   "execution_count": null,
   "metadata": {
    "id": "xbb3Narzs0Hb",
    "outputId": "5c224051-4a3e-4e4a-ae4a-70f4b3fb6c8b"
   },
   "outputs": [
    {
     "data": {
      "text/plain": [
       "203"
      ]
     },
     "execution_count": 25,
     "metadata": {},
     "output_type": "execute_result"
    }
   ],
   "source": [
    "# Bitwise Zero fill left shift -- use <<\n",
    "\n",
    "bin(x)\n",
    "x << 1 # 406 let's see bin(406)   # This means add a 0 to the end of the number.\n",
    "\n",
    "bin(406) # '0b110010110'\n",
    "\n",
    "0b110010110 # is 406\n",
    "0b11001011 # is 203"
   ]
  },
  {
   "cell_type": "code",
   "execution_count": null,
   "metadata": {
    "id": "RxUePKGEs0Hc",
    "outputId": "f16c6579-53a4-4101-b6e5-ae6205c177af"
   },
   "outputs": [
    {
     "data": {
      "text/plain": [
       "'0b1100'"
      ]
     },
     "execution_count": 26,
     "metadata": {},
     "output_type": "execute_result"
    }
   ],
   "source": [
    "# Bitwise Signed right shift -- use >>\n",
    "\n",
    "bin(x << 4) # added 4 0s at the end. '0b110010110000'\n",
    "\n",
    "bin(x) # 0b11001011\n",
    "bin(x >> 4) # 0b1100'"
   ]
  },
  {
   "cell_type": "markdown",
   "metadata": {
    "id": "mbJrS0Vl6hIT"
   },
   "source": [
    "#### 🤖 Machine Tutor Question\n",
    "\n",
    "**Prompt:**\n",
    "\n",
    "```\n",
    "What are the fundamental operators in Python? Give examples to illustrate each operator use-case.\n",
    "```\n",
    "* [ChatGPT Tutor Response](https://chat.openai.com/share/5f1bfe94-6e56-4054-8040-8b1eb205842c)\n",
    "\n",
    "\n",
    "* [Gemini Tutor Response](https://g.co/gemini/share/81fc50907197)"
   ]
  },
  {
   "cell_type": "markdown",
   "metadata": {
    "id": "jFmKARKXhTxV"
   },
   "source": [
    "## 4.2 Variables <a class=\"anchor\" id=\"four-two\"></a>"
   ]
  },
  {
   "cell_type": "markdown",
   "metadata": {
    "id": "eY0VcEnNs0Hc"
   },
   "source": [
    "A variable in Python is a reserved memory location to store values. It's a way of Python program to give the data a location to be stored for further reference. All the data types that have been referred to, including numbers, lists, tuples, strings, and dictionaries, can be declared by any name or even alphabet to be stored as a variable."
   ]
  },
  {
   "cell_type": "markdown",
   "metadata": {
    "id": "4Awp1cZ1SMQv"
   },
   "source": [
    "**Assigning Variables**\n",
    "\n",
    "In Python, we usually define variables with names and values. In below, we provided some basic examples of assignments."
   ]
  },
  {
   "cell_type": "code",
   "execution_count": null,
   "metadata": {
    "id": "xZ9AwHk-ShuS"
   },
   "outputs": [],
   "source": [
    "string = 'Sustainable Cities and Communities'\n",
    "n = 17\n",
    "pi = 3.1415926535897931"
   ]
  },
  {
   "cell_type": "markdown",
   "metadata": {
    "id": "3wZx_nFrQj8y"
   },
   "source": [
    "**Python Variable Naming Convention (Good Practices)**\n",
    "\n",
    "In Python, there are certain guidelines and best practices that are recommended to follow when choosing a variable name.\n",
    "\n",
    "Here are five of the main aspects to keep in mind when naming variables in your code:\n",
    "\n",
    "**1. Use Descriptive Names:** Choose variable names that describe the purpose or content of the variable. This makes it easier for others (and your future self) to understand the code's intention.\n",
    "\n",
    "**2. Snake Case:** For most variables, use lowercase letters and separate words with underscores. This style is known as snake case. For example: total_amount, user_name, item_count.\n",
    "\n",
    "**3. Avoid Single Letters:** Avoid using single letters (e.g., a, b, x, y) as variable names, except in specific cases like loop counters.\n",
    "\n",
    "**4. Constants:** If a variable is intended to be a constant (i.e., its value won't change), use uppercase letters and underscores to separate words. For example: MAX_VALUE, PI, DEFAULT_TIMEOUT."
   ]
  },
  {
   "cell_type": "markdown",
   "metadata": {
    "id": "6FvaLtG06AUe"
   },
   "source": [
    "\n",
    "#### **⚠️ Note:**\n",
    " Variable names cannot include:\n",
    "* Other punctuation (-.!?@)\n",
    "* Spaces ( )\n",
    "* A reserved Python word"
   ]
  },
  {
   "cell_type": "code",
   "execution_count": null,
   "metadata": {
    "id": "syvU5PcZS73h"
   },
   "outputs": [],
   "source": [
    "# Good variable naming\n",
    "total_amount = 100.50\n",
    "user_name = \"John Doe\"\n",
    "item_count = 5\n",
    "\n",
    "# Constants\n",
    "MAX_RETRIES = 3\n",
    "PI = 3.14159"
   ]
  },
  {
   "cell_type": "code",
   "execution_count": null,
   "metadata": {
    "id": "cLFesH2dTULR"
   },
   "outputs": [],
   "source": [
    "\n",
    "# Bad variable naming\n",
    "a = 100.50\n",
    "un = \"John Doe\"\n",
    "ic = 5\n",
    "\n",
    "# Constants\n",
    "MR = 3\n",
    "p = 3.14159"
   ]
  },
  {
   "cell_type": "markdown",
   "metadata": {
    "id": "mybLzRMoTfWB"
   },
   "source": [
    "**Machine Tutor Question**\n",
    "\n",
    "**Prompt:**\n",
    "\n",
    "```\n",
    "Apart from using descriptive names,snake case, avoiding single letters; can you list other python language good variable naming guidelines?\n",
    "```\n",
    "* [ChatGPT Tutor Response](https://chat.openai.com/share/adb0b07a-5d7f-4c64-852e-7b529b968f5c)\n",
    "\n",
    "* [Gemini Tutor Response](https://g.co/gemini/share/7605c72e5492)"
   ]
  },
  {
   "cell_type": "markdown",
   "metadata": {
    "id": "ihkG98ZcR32K"
   },
   "source": [
    "### 4.2.1 Variable Scope <a class=\"anchor\" id=\"four-two-one\"></a>"
   ]
  },
  {
   "cell_type": "markdown",
   "metadata": {
    "id": "Ql2rC7eKs0Hd"
   },
   "source": [
    " A variable scope refers to the region or part of the code where a variable is accessible and can be referenced. In other words, a variable is only available from inside the region it is created, which is its scope. Python has two main variable scopes: Local and Global scope"
   ]
  },
  {
   "cell_type": "markdown",
   "metadata": {
    "id": "RQ5SzyVRs0He"
   },
   "source": [
    "#### 4.2.1.1 Local Scope <a class=\"anchor\" id=\"four-two-one\"></a>\n",
    "A variable created inside a function is available inside that function:"
   ]
  },
  {
   "cell_type": "code",
   "execution_count": null,
   "metadata": {
    "id": "i7OeWZmFs0He"
   },
   "outputs": [],
   "source": [
    "def myfunc():\n",
    "    x = 300\n",
    "    print(x)\n",
    "\n",
    "myfunc()\n"
   ]
  },
  {
   "cell_type": "markdown",
   "metadata": {
    "id": "025VvfIys0He"
   },
   "source": [
    "As explained in the example above, the variable x is not available outside the function, but it is available for any function inside the function:"
   ]
  },
  {
   "cell_type": "code",
   "execution_count": null,
   "metadata": {
    "id": "SMn2oadns0He"
   },
   "outputs": [],
   "source": [
    "def myfunc():\n",
    "    x = 300\n",
    "    def myinnerfunc():\n",
    "        print(x)   #output: 300\n",
    "    myinnerfunc()\n",
    "\n",
    "myfunc()\n"
   ]
  },
  {
   "cell_type": "markdown",
   "metadata": {
    "id": "GngdJ-Tms0He"
   },
   "source": [
    "#### 4.2.1.2 Global Scope <a class=\"anchor\" id=\"four-two-two\"></a>\n",
    "A variable created in the main body of the Python code is a global variable and belongs to the global scope.\n",
    "Global variables are available from within any scope, global and local."
   ]
  },
  {
   "cell_type": "code",
   "execution_count": null,
   "metadata": {
    "id": "6Qk3z04Fs0Hf"
   },
   "outputs": [],
   "source": [
    "x = 300\n",
    "\n",
    "def myfunc():\n",
    "    print(x)  #output: 300\n",
    "\n",
    "myfunc()\n",
    "\n",
    "print(x)    #output: 300"
   ]
  },
  {
   "cell_type": "markdown",
   "metadata": {
    "id": "sBfoO-l9s0Hf"
   },
   "source": [
    "If you operate with the same variable name inside and outside of a function, Python will treat them as two separate variables, one available in the global scope (outside the function) and one available in the local scope (inside the function):"
   ]
  },
  {
   "cell_type": "code",
   "execution_count": null,
   "metadata": {
    "id": "DyOU1HfEs0Hf"
   },
   "outputs": [],
   "source": [
    "x = 300\n",
    "\n",
    "def myfunc():\n",
    "    x = 200\n",
    "    print(x)   #output: 200\n",
    "\n",
    "myfunc()\n",
    "\n",
    "print(x)     #output: 300"
   ]
  },
  {
   "cell_type": "markdown",
   "metadata": {
    "id": "ftzXCzZos0Hf"
   },
   "source": [
    "#### 4.2.1.3 Global Keyword <a class=\"anchor\" id=\"four-two-three\"></a>\n",
    "If you need to create a global variable, but are stuck in the local scope, you can use the global keyword.\n",
    "\n",
    "The global keyword makes the variable global.\n",
    "\n",
    "If you use the global keyword, the variable belongs to the global scope:"
   ]
  },
  {
   "cell_type": "code",
   "execution_count": null,
   "metadata": {
    "id": "kr-CcwcAs0Hg"
   },
   "outputs": [],
   "source": [
    "def myfunc():\n",
    "   global x\n",
    "   x = 300\n",
    "\n",
    "myfunc()\n",
    "\n",
    "print(x)    #output: 300"
   ]
  },
  {
   "cell_type": "markdown",
   "metadata": {
    "id": "elTsCnIDs0Hg"
   },
   "source": [
    "Also, use the global keyword if you want to make a change to a global variable inside a function."
   ]
  },
  {
   "cell_type": "code",
   "execution_count": null,
   "metadata": {
    "id": "mfvnE8nWs0Hg"
   },
   "outputs": [],
   "source": [
    "x = 300\n",
    "\n",
    "def myfunc():\n",
    "    global x\n",
    "    x = 200\n",
    "\n",
    "myfunc()\n",
    "\n",
    "print(x) #output: 200"
   ]
  },
  {
   "cell_type": "markdown",
   "metadata": {
    "id": "5fIqImUb7-1f"
   },
   "source": [
    "\n",
    "#### 🤖 Machine Tutor Question\n",
    "\n",
    "**Prompt:**\n",
    "\n",
    "```\n",
    "Can you provide a clear and comprehensible definition of a variable in Python, supplemented with examples to elucidate the concept?\n",
    "```\n",
    "* [ChatGPT Tutor Response](https://chat.openai.com/share/3c460ce5-9f8c-409c-a322-38e71f512b17)\n",
    "\n",
    "\n",
    "* [Gemini Tutor Response](https://g.co/gemini/share/773c5b4aca13)"
   ]
  },
  {
   "cell_type": "markdown",
   "metadata": {
    "id": "mahp8b0Cr7s_"
   },
   "source": [
    "## 4.3 Expressions vs. Statements"
   ]
  },
  {
   "cell_type": "markdown",
   "metadata": {
    "id": "2MJgJq6CsJpW"
   },
   "source": [
    "### 4.3.1 Expressions:\n",
    "\n",
    "An expression is any piece of code that results in a value.\n",
    "* It can be as simple as a constant, a variable name, or more complex involving operations among variables.\n",
    "* Expressions are evaluated to produce a value"
   ]
  },
  {
   "cell_type": "code",
   "execution_count": null,
   "metadata": {
    "id": "8W_2DbebsQa3"
   },
   "outputs": [],
   "source": [
    "# Python examples of expressions\n",
    "3 + 4\n",
    "len(\"hello\")\n",
    "[1, 2, 3][1]"
   ]
  },
  {
   "cell_type": "markdown",
   "metadata": {
    "id": "oS7oJvfgsS71"
   },
   "source": [
    "### 4.3.2 Statements:\n",
    "\n",
    "A statement is a unit of code that performs an action.\n",
    "* It doesn’t return a value and can’t be used as part of another expression.\n",
    "* Examples include assignments, loops, function definitions, and control structures."
   ]
  },
  {
   "cell_type": "code",
   "execution_count": null,
   "metadata": {
    "id": "ZTpeKIemsaeF"
   },
   "outputs": [],
   "source": [
    "# Python examples of statements\n",
    "x = 10  # assignment statement\n",
    "print(\"Hello, World!\")  # print statement\n",
    "if x > 5:  # if statement\n",
    "    print(\"x is greater than 5\")"
   ]
  },
  {
   "cell_type": "markdown",
   "metadata": {
    "id": "ARLze7uj9xlk"
   },
   "source": [
    "#### 🤖 Machine Tutor Question\n",
    "\n",
    "**Prompt:**\n",
    "\n",
    "```\n",
    "Can you provide a clear and comprehensible explanation of expressions and\n",
    "statements in Python, supplemented with multiple examples to demonstrate their\n",
    "differences?\n",
    "```\n",
    "* [ChatGPT Tutor Response](https://chat.openai.com/share/3bd1e0dd-3064-41e6-aee6-7a91a1d37c07)\n",
    "\n",
    "\n",
    "* [Gemini Tutor Response](https://g.co/gemini/share/b0e372fe0bfc)"
   ]
  },
  {
   "cell_type": "markdown",
   "metadata": {
    "id": "ab7zBW5ltt0J"
   },
   "source": [
    "## 4.4 Program Control Flow\n",
    "\n",
    "Program control flow in Python refers to the order in which statements are executed in a program. Under normal circumstances, Python programs are executed line by line. Control flow allows the altering of the order of execution based on certain conditions, loops, or function calls.\n",
    "\n",
    "This allows for the building of complex and flexible programs that can respond to different situations and inputs.\n",
    "\n",
    "The figure below gives an overview of Python statements that are used to control program flow."
   ]
  },
  {
   "cell_type": "markdown",
   "metadata": {
    "id": "D2z6weOnE7mJ"
   },
   "source": [
    "\n",
    "![image.png](data:image/png;base64,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)\n",
    "\n",
    "\n",
    "Image from [PYnative Python Programming](https://pynative.com/python-control-flow-statements/)\n"
   ]
  },
  {
   "cell_type": "markdown",
   "metadata": {
    "id": "6QTNt1fYhTlj"
   },
   "source": [
    "### 4.4.1 Conditional Statements Execution  <a class=\"anchor\" id=\"four-three\"></a>"
   ]
  },
  {
   "cell_type": "markdown",
   "metadata": {
    "id": "tShJ_VVxpbmw"
   },
   "source": [
    "**IF, IF-ELSE, IF-ELIF-ELSE**\n",
    "\n",
    "* IF: The if condition is the simplest of the three statements. It runs a decision based on whether the input condition is true or not. When the condition is true, it continues to run the statement under the if condition. While the condition is false, it skips running the code under the if statement.\n",
    "  \n",
    "  \n",
    "* IF-ELSE: A condition that checks to see else if a variant of it is true. To not mix using multiple ifs, rather than using else ifs, we can give this simple example to let the new learners understand the difference better.\n",
    "\n",
    "```\n",
    "x = get_value_from_somewhere()\n",
    "if x == 0:\n",
    "    # Something\n",
    "    x = 1\n",
    "elif x == 1:\n",
    "    # Something else...\n",
    "\n",
    "vs.\n",
    "\n",
    "x = get_value_from_somewhere()\n",
    "if x == 0:\n",
    "    # Something\n",
    "    x = 1\n",
    "if x == 1:\n",
    "    # Something else...\n",
    "```\n",
    "\n",
    "In the first case, only one of \"Something\" or \"Something else...\" will occur. In the second case, the side effects of the first block make the condition in the second block true.\n",
    "\n",
    "Link/reference for the stackoverflow that explains this issue: https://stackoverflow.com/questions/4636191/is-there-any-difference-between-using-multiple-if-statements-and-else-if-stateme\n",
    "\n",
    "  \n",
    "* IF-ELIF-ELSE: The if-elif-else condition is the most complicated of the threes. When the situation appears where there are several conditions, we can add as many elif conditions as necessary between the if condition and the else condition to perform certain tasks.\n",
    "  \n",
    "    \n",
    "Examples are provided in below for three cases:"
   ]
  },
  {
   "cell_type": "markdown",
   "metadata": {
    "id": "_NmtDo2etZ7j"
   },
   "source": [
    "**Types: Simple Chain Method**"
   ]
  },
  {
   "cell_type": "code",
   "execution_count": null,
   "metadata": {
    "colab": {
     "base_uri": "https://localhost:8080/"
    },
    "id": "CE9XD120paV_",
    "outputId": "868ca9cd-e047-4103-d5bb-4eecf5292b0f"
   },
   "outputs": [
    {
     "name": "stdout",
     "output_type": "stream",
     "text": [
      "even number\n",
      "odd number\n",
      "not divisible by 2 and 3\n"
     ]
    }
   ],
   "source": [
    "# IF\n",
    "n = 2\n",
    "if n % 2 == 0:\n",
    "    print(\"even number\")\n",
    "\n",
    "\n",
    "# IF-ELSE\n",
    "n = 1\n",
    "if n % 2 == 0:\n",
    "    print(\"even number\")\n",
    "else:\n",
    "    print(\"odd number\")\n",
    "\n",
    "\n",
    "# IF-ELIF-ELSE\n",
    "n = 1\n",
    "if n % 2 == 0:\n",
    "    print(\"divisible by 2\")\n",
    "elif n % 3 == 0:\n",
    "    print(\"divisible by 3\")\n",
    "else:\n",
    "    print(\"not divisible by 2 and 3\")"
   ]
  },
  {
   "cell_type": "markdown",
   "metadata": {
    "id": "0tn0OuDu-MR-"
   },
   "source": [
    "#### 🤖 Machine Tutor Question\n",
    "\n",
    "**Prompt:**\n",
    "\n",
    "```\n",
    "Could you provide a clear and comprehensible explanation of conditional statements in Python,\n",
    "supplemented with multiple examples to demonstrate their structure and use-cases?\n",
    "\n",
    "```\n",
    "* [ChatGPT Tutor Response](https://chat.openai.com/share/f393cbf5-7bc9-439b-b128-fec86fe9a3a9)\n",
    "\n",
    "\n",
    "* [Gemini Tutor Response](https://g.co/gemini/share/c2127ea226e8)"
   ]
  },
  {
   "cell_type": "markdown",
   "metadata": {
    "id": "w1cr7MI7hTuV"
   },
   "source": [
    "### 4.4.2 Iterative statements (Loops) <a class=\"anchor\" id=\"four-four\"></a>\n",
    "\n",
    "In programming, iterative statements (loops) are fundamental control flow construct that allows you to execute a block of code repeatedly based on a specific condition. Loops are useful for performing repetitive tasks, such as iterating over elements in a sequence, processing data, and solving problems with a pattern that repeats."
   ]
  },
  {
   "cell_type": "markdown",
   "metadata": {
    "id": "pDT6T4TpLMsh"
   },
   "source": [
    "### Loop Visualization"
   ]
  },
  {
   "cell_type": "markdown",
   "metadata": {
    "id": "eGcP_8fPs0Hh"
   },
   "source": [
    "<p align=\"center\">\n",
    "  <img src=\"https://blog.finxter.com/wp-content/uploads/2019/08/flowchart_else_branch_loop-scaled.jpg\" />\n",
    "</p>\n",
    "\n",
    "<center>Image from <a href=\"https://blog.finxter.com/for-else-and-while-else-in-python-a-helpful-guide/\">Pythoon While Else and For Else - A Helpful Illustrated Guide</a> by Chris from finxter</center>"
   ]
  },
  {
   "cell_type": "code",
   "execution_count": null,
   "metadata": {
    "colab": {
     "base_uri": "https://localhost:8080/",
     "height": 641
    },
    "id": "M9LgcyUrpeMv",
    "outputId": "e8b5d7b7-fca2-497b-92f9-04e28c9d16a7"
   },
   "outputs": [
    {
     "data": {
      "text/html": [
       "\n",
       "        <iframe\n",
       "            width=\"1500\"\n",
       "            height=\"600\"\n",
       "            src=\"https://pythontutor.com/render.html#code=def%20classify_numbers%28numbers%29%3A%0A%20%20%20%20for%20num%20in%20numbers%3A%0A%20%20%20%20%20%20%20%20if%20num%20%3E%200%3A%0A%20%20%20%20%20%20%20%20%20%20%20%20print%28f%22%7Bnum%7D%20is%20positive.%22%29%0A%20%20%20%20%20%20%20%20elif%20num%20%3C%200%3A%0A%20%20%20%20%20%20%20%20%20%20%20%20print%28f%22%7Bnum%7D%20is%20negative.%22%29%0A%20%20%20%20%20%20%20%20else%3A%0A%20%20%20%20%20%20%20%20%20%20%20%20print%28f%22%7Bnum%7D%20is%20zero.%22%29%0A%0A%23%20Testing%20the%20function%20with%20a%20list%20of%20numbers%0Aclassify_numbers%28%5B1,%20-2,%203,%20-4,%200,%205,%20-6%5D%29%0A&cumulative=false&curInstr=8&heapPrimitives=nevernest&mode=display&origin=opt-frontend.js&py=3&rawInputLstJSON=%5B%5D&textReferences=false\"\n",
       "            frameborder=\"0\"\n",
       "            allowfullscreen\n",
       "            \n",
       "        ></iframe>\n",
       "        "
      ],
      "text/plain": [
       "<IPython.lib.display.IFrame at 0x7f37984b0820>"
      ]
     },
     "execution_count": 2,
     "metadata": {},
     "output_type": "execute_result"
    }
   ],
   "source": [
    "# Loop visualization\n",
    "from IPython.display import IFrame\n",
    "\n",
    "IFrame(\"https://pythontutor.com/render.html#code=def%20classify_numbers%28numbers%29%3A%0A%20%20%20%20for%20num%20in%20numbers%3A%0A%20%20%20%20%20%20%20%20if%20num%20%3E%200%3A%0A%20%20%20%20%20%20%20%20%20%20%20%20print%28f%22%7Bnum%7D%20is%20positive.%22%29%0A%20%20%20%20%20%20%20%20elif%20num%20%3C%200%3A%0A%20%20%20%20%20%20%20%20%20%20%20%20print%28f%22%7Bnum%7D%20is%20negative.%22%29%0A%20%20%20%20%20%20%20%20else%3A%0A%20%20%20%20%20%20%20%20%20%20%20%20print%28f%22%7Bnum%7D%20is%20zero.%22%29%0A%0A%23%20Testing%20the%20function%20with%20a%20list%20of%20numbers%0Aclassify_numbers%28%5B1,%20-2,%203,%20-4,%200,%205,%20-6%5D%29%0A&cumulative=false&curInstr=8&heapPrimitives=nevernest&mode=display&origin=opt-frontend.js&py=3&rawInputLstJSON=%5B%5D&textReferences=false\", width=1500, height=600)"
   ]
  },
  {
   "cell_type": "markdown",
   "metadata": {
    "id": "x7j6sg4STyF5"
   },
   "source": [
    "#### 4.4.2.1 For Loop <a class=\"anchor\" id=\"four-four-three-one\"></a>\n",
    "\n",
    "The For loop is used to iterate over a sequence such as a list, string, tuple, and other iterable objects such as range. A basic for loop will consist of two lines:\n",
    "\n",
    "* First line: you type the English word for, a new variable name for each item in the list, the English word in, the name of the list, and a colon (:)\n",
    "\n",
    "* On the second line, you indent and write a statement to be completed for each item in the list"
   ]
  },
  {
   "cell_type": "markdown",
   "metadata": {
    "id": "GpqepsJt6_X2"
   },
   "source": [
    "\n",
    "#### **⚠️ Note:**\n",
    "*  Repetition can be established by a 'for loop'. An example is provided below for your understanding.\n",
    "* The body of for loop is indented with a tabulator or four spaces. When the indentation stops, the loop ends. Indentation also applies to other statements such as in functions, conditional statements, and while loops."
   ]
  },
  {
   "cell_type": "code",
   "execution_count": null,
   "metadata": {
    "colab": {
     "base_uri": "https://localhost:8080/"
    },
    "id": "YfulMRXUT6wd",
    "outputId": "57fb6fce-d36c-44e7-b95f-05c592f61ed4"
   },
   "outputs": [
    {
     "name": "stdout",
     "output_type": "stream",
     "text": [
      "No Poverty\n",
      "Zero Hunger\n",
      "Good Health and Well-being\n",
      "Quality Education\n",
      "Gender Equality\n",
      "Clean Water and Sanitation\n",
      "Affordable and Clean Energy\n",
      "Decent Work and Economic Growth\n",
      "Industry, Innovation and Infrastructure\n",
      "Reduced Inequalities\n",
      "Sustainable Cities and Communities\n",
      "Responsible Consumption and Production\n",
      "Climate Action\n",
      "Life Below Water\n",
      "Life on Land\n",
      "Peace, Justice and Strong Institutions\n",
      "Partnerships for the Goals\n"
     ]
    }
   ],
   "source": [
    "SDGs = [\n",
    "    \"No Poverty\", \"Zero Hunger\", \"Good Health and Well-being\",\n",
    "    \"Quality Education\", \"Gender Equality\", \"Clean Water and Sanitation\",\n",
    "    \"Affordable and Clean Energy\", \"Decent Work and Economic Growth\",\n",
    "    \"Industry, Innovation and Infrastructure\", \"Reduced Inequalities\",\n",
    "    \"Sustainable Cities and Communities\", \"Responsible Consumption and Production\",\n",
    "    \"Climate Action\", \"Life Below Water\", \"Life on Land\",\n",
    "    \"Peace, Justice and Strong Institutions\", \"Partnerships for the Goals\"\n",
    "]\n",
    "\n",
    "for SDG in SDGs:\n",
    "    print(SDG)"
   ]
  },
  {
   "cell_type": "code",
   "execution_count": null,
   "metadata": {
    "id": "heOqMlHYs0Hi",
    "outputId": "25ed91b5-5327-4c48-bd1c-12a6f682a992"
   },
   "outputs": [
    {
     "name": "stdout",
     "output_type": "stream",
     "text": [
      "SDG 1 is No Poverty\n",
      "SDG 2 is Zero Hunger\n",
      "SDG 3 is Good Health and Well-being\n",
      "SDG 4 is Quality Education\n",
      "SDG 5 is Gender Equality\n",
      "SDG 6 is Clean Water and Sanitation\n",
      "SDG 7 is Affordable and Clean Energy\n",
      "SDG 8 is Decent Work and Economic Growth\n",
      "SDG 9 is Industry, Innovation and Infrastructure\n",
      "SDG 10 is Reduced Inequalities\n",
      "SDG 11 is Sustainable Cities and Communities\n",
      "SDG 12 is Responsible Consumption and Production\n",
      "SDG 13 is Climate Action\n",
      "SDG 14 is Life Below Water\n",
      "SDG 15 is Life on Land\n",
      "SDG 16 is Peace, Justice and Strong Institutions\n",
      "SDG 17 is Partnerships for the Goals\n"
     ]
    }
   ],
   "source": [
    "for i in range(0, len(SDGs)):\n",
    "    print(\"SDG %d is %s\" % (i + 1, SDGs[i]))"
   ]
  },
  {
   "cell_type": "markdown",
   "metadata": {
    "id": "l71qHRPVs0Hj"
   },
   "source": [
    "When there is a need to execute a statement for hundred times, there's no need for repeating them for hundred times in a code. Nested loops are considered as loops inside loops. In other words, a nested loop refers to a loop inside a loop. The inner loop will execute one time for each iteration of the outer loop as shown from the example below."
   ]
  },
  {
   "cell_type": "markdown",
   "metadata": {
    "id": "uWDOmy1RXVuj"
   },
   "source": [
    "```\n",
    "# outer for loop\n",
    "for element1 in sequence:\n",
    "    # inner for loop\n",
    "    for element2 in sequence:\n",
    "        # body of inner for loop\n",
    "        pass\n",
    "    # body of outer for loop\n",
    "    pass\n",
    "```"
   ]
  },
  {
   "cell_type": "code",
   "execution_count": null,
   "metadata": {
    "id": "7qR7VkgPs0Hj",
    "outputId": "3cc9b0e8-706e-4953-851b-f2309c8a86de"
   },
   "outputs": [
    {
     "name": "stdout",
     "output_type": "stream",
     "text": [
      "1 2 3 4 5 6 7 8 9 10 \n",
      "2 4 6 8 10 12 14 16 18 20 \n",
      "3 6 9 12 15 18 21 24 27 30 \n",
      "4 8 12 16 20 24 28 32 36 40 \n",
      "5 10 15 20 25 30 35 40 45 50 \n",
      "6 12 18 24 30 36 42 48 54 60 \n",
      "7 14 21 28 35 42 49 56 63 70 \n",
      "8 16 24 32 40 48 56 64 72 80 \n",
      "9 18 27 36 45 54 63 72 81 90 \n",
      "10 20 30 40 50 60 70 80 90 100 \n"
     ]
    }
   ],
   "source": [
    "# outer loop\n",
    "for i in range(1, 11):\n",
    "    # nested loop\n",
    "    # to iterate from 1 to 10\n",
    "    for j in range(1, 11):\n",
    "        # print multiplication\n",
    "        print(i * j, end = ' ')\n",
    "    print()\n"
   ]
  },
  {
   "cell_type": "markdown",
   "metadata": {
    "id": "ra8MuiN8UIaN"
   },
   "source": [
    "#### 4.4.2.2 While Loop <a class=\"anchor\" id=\"four-four-three-two\"></a>\n",
    "\n",
    "A basic while loop will consist of the two lines:\n",
    "\n",
    "* First line: you type the English word while, a condition statement, and a colon (:)\n",
    "\n",
    "* On the second line, you indent and write a statement to be completed until the condition is not satisfied anymore."
   ]
  },
  {
   "cell_type": "code",
   "execution_count": null,
   "metadata": {
    "colab": {
     "base_uri": "https://localhost:8080/"
    },
    "id": "UJQPIH3dVSbQ",
    "outputId": "797de510-b82c-4aab-fa33-a7e77ccee9d7"
   },
   "outputs": [
    {
     "name": "stdout",
     "output_type": "stream",
     "text": [
      "3\n",
      "2\n",
      "1\n",
      "end\n"
     ]
    }
   ],
   "source": [
    "n = 3\n",
    "\n",
    "while n > 0:\n",
    "    print(n)\n",
    "    n = n - 1\n",
    "\n",
    "print('end')"
   ]
  },
  {
   "cell_type": "markdown",
   "metadata": {
    "id": "S6gae3e2MuVZ"
   },
   "source": [
    "### 🤖 Machine Tutor Question\n",
    "\n",
    "**Prompt:**\n",
    "\n",
    "```\n",
    "What is the difference between 'For loop' and 'While loop', and when should you prefer one over the other?\n",
    "```\n",
    "* [ChatGPT Tutor Response](https://chat.openai.com/share/ab56c352-45ed-4cf3-b588-1a4ddfadddaf)\n",
    "\n",
    "* [Gemini Tutor Response](https://g.co/gemini/share/1542ff7c57ae)"
   ]
  },
  {
   "cell_type": "markdown",
   "metadata": {
    "id": "-TWuyNtHXnkh"
   },
   "source": [
    "### 4.4.3 Transfer statements (Break, Continue, and Pass) <a class=\"anchor\" id=\"four-four-five\"></a>\n",
    "\n",
    "**Break:** As we perform a break statement, the loop that is currently being executed will be ended and the next statement will be picked up by the execution. In below, we show an example:"
   ]
  },
  {
   "cell_type": "code",
   "execution_count": null,
   "metadata": {
    "colab": {
     "base_uri": "https://localhost:8080/"
    },
    "id": "NDHxG-YnZ-zS",
    "outputId": "61266527-00dc-4132-ae40-36486418f57b"
   },
   "outputs": [
    {
     "name": "stdout",
     "output_type": "stream",
     "text": [
      "7\n",
      "6\n",
      "5\n",
      "4\n",
      "3\n",
      "end\n"
     ]
    }
   ],
   "source": [
    "n = 7\n",
    "\n",
    "while n > 0:\n",
    "    print(n)\n",
    "    n = n - 1\n",
    "    if (n < 3):\n",
    "        break\n",
    "\n",
    "print('end')"
   ]
  },
  {
   "cell_type": "markdown",
   "metadata": {
    "id": "nSVy8JliaSB7"
   },
   "source": [
    "**Continue:** As we perform a continue statement, it is only used to skip the rest of the code inside a loop for the current iteration. The loop continues with the next iteration. In below, we show an example:"
   ]
  },
  {
   "cell_type": "code",
   "execution_count": null,
   "metadata": {
    "colab": {
     "base_uri": "https://localhost:8080/"
    },
    "id": "iRDqJwYXcYni",
    "outputId": "0d1d449d-6565-4e86-f710-1524f5f3044d"
   },
   "outputs": [
    {
     "name": "stdout",
     "output_type": "stream",
     "text": [
      "h\n",
      "e\n",
      "o\n",
      "end\n"
     ]
    }
   ],
   "source": [
    "for cha in \"hello\":\n",
    "    if cha == \"l\":\n",
    "        continue\n",
    "    print(cha)\n",
    "print('end')"
   ]
  },
  {
   "cell_type": "markdown",
   "metadata": {
    "id": "Nlti1vozKUsw"
   },
   "source": [
    "**Pass:** The pass statement is a null operation, which means it does nothing when executed. It acts as a placeholder in situations where a statement is syntactically required but you don't want any action to be taken. The pass statement is commonly used when defining empty functions, classes, or loops that will be implemented later. It allows you to have a valid syntax without requiring immediate functionality."
   ]
  },
  {
   "cell_type": "code",
   "execution_count": null,
   "metadata": {
    "id": "6tuGUYscK9sY"
   },
   "outputs": [],
   "source": [
    "def some_function():\n",
    "    pass  # This function does nothing for now, but it's a valid placeholder."
   ]
  },
  {
   "cell_type": "markdown",
   "metadata": {
    "id": "vsVwucbQebqn"
   },
   "source": [
    "### 4.4.4 Infinite Loop <a class=\"anchor\" id=\"four-four-four\"></a>\n",
    "\n",
    "Infinite Loop is called to be a continuous repetitive conditional loop that gets executed until an external factor interferes in the execution such as insufficient CPU memory or a failed error in the code statement. To understand it, we provide a simple example.\n",
    "\n",
    "It's better not to run an infinite loop on your machine, unless you would like to restart your kernel."
   ]
  },
  {
   "cell_type": "markdown",
   "metadata": {
    "id": "Am6i8jxts0Hl"
   },
   "source": [
    "![image.png](data:image/png;base64,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)\n",
    "<br>"
   ]
  },
  {
   "cell_type": "markdown",
   "metadata": {
    "id": "b6tGXqF5lYEG"
   },
   "source": [
    "### 4.4.5 Use of Whitespace in Code Organization <a class=\"anchor\" id=\"four-four-five\"></a>\n",
    "In Python, whitespace is used for indentation to indicate a block of code. Each line of code that is part of the same block needs to be indented at the same level.\n",
    "\n",
    "Python uses 4 spaces as a standard indentation, although tabs or different number of spaces can also be used. However, it's recommended to maintain consistency across the project.\n",
    "\n",
    "An example of Python code is provided in the cell below:\n",
    "* The function hello_world(name) is defined at the top level, so it is not indented.\n",
    "* The if and else statements are within the function, so they are indented with 4 spaces.\n",
    "* The print statements are within the if and else blocks, so they are indented with 8 spaces."
   ]
  },
  {
   "cell_type": "code",
   "execution_count": null,
   "metadata": {
    "colab": {
     "base_uri": "https://localhost:8080/"
    },
    "id": "Jrgsrx7lmHkn",
    "outputId": "6cc92735-75db-43de-f61b-66dd2db0754a"
   },
   "outputs": [
    {
     "name": "stdout",
     "output_type": "stream",
     "text": [
      "Hello, Python!\n"
     ]
    }
   ],
   "source": [
    "def hello_world(name):\n",
    "    if name:\n",
    "        print(\"Hello, \" + name + \"!\")\n",
    "    else:\n",
    "        print(\"Hello, world!\")\n",
    "\n",
    "hello_world(\"Python\")"
   ]
  },
  {
   "cell_type": "markdown",
   "metadata": {
    "id": "DSfqdQ1JsL7g"
   },
   "source": [
    "# 5. Functions <a class=\"anchor\" id=\"five\"></a>"
   ]
  },
  {
   "cell_type": "markdown",
   "metadata": {
    "id": "tLmyaHwJs0Hm"
   },
   "source": [
    "## 5.1 Definition & Benefits <a class=\"anchor\" id=\"five-one\"></a>"
   ]
  },
  {
   "cell_type": "markdown",
   "metadata": {
    "id": "5K4_DYcnBKbM"
   },
   "source": [
    "**Why functions?**\n",
    "\n",
    "In Python, we use functions to help us accomplish specific tasks. Some advanced analyses cannot be easily completed using built-in or simple functions. Therefore, we might need to write or define customized functions and utilize them together for bigger goals. Functions are an essential part of Python programming."
   ]
  },
  {
   "cell_type": "markdown",
   "metadata": {
    "id": "GO434UskxvBP"
   },
   "source": [
    "**Parameters and Arguments**\n",
    "\n",
    "We have noticed that some built-in functions require arguments. For example, when using math.sqrt you pass a number as an argument, and a function can take as many arguments as you intend.\n",
    "\n",
    "Parameters are variables defined in the function definition; arguments are the values passed to the function when it is called.\n",
    "\n",
    "#### ⚠️ Note:\n",
    "The name of the argument will not affect the name of the parameter"
   ]
  },
  {
   "cell_type": "code",
   "execution_count": null,
   "metadata": {
    "colab": {
     "base_uri": "https://localhost:8080/"
    },
    "id": "Y25mabQy2XtV",
    "outputId": "aeb3acdf-1b0a-488f-8bff-5d327ef60526"
   },
   "outputs": [
    {
     "name": "stdout",
     "output_type": "stream",
     "text": [
      "Hello SDG AI Lab\n"
     ]
    }
   ],
   "source": [
    "# example:\n",
    "def print_hi(people):\n",
    "    print(\"Hello\", people)\n",
    "\n",
    "# the function assigns the argument to a parameter named people and prints hello\n",
    "# with the value passed to the 'people' argument.\n",
    "print_hi(\"SDG AI Lab\")"
   ]
  },
  {
   "cell_type": "markdown",
   "metadata": {
    "id": "bivP93i07tWi"
   },
   "source": [
    "**Flow of Execution**\n",
    "\n",
    "It is important to understand the flow of an execution. In a Python program, the statements are executed one line at a time. The order is from top to bottom.  \n",
    "  \n",
    "Function definitions are also following the same rule.\n",
    "\n",
    "#### ⚠️ Note:\n",
    "* If we are calling functions together, the inner functions are performed first."
   ]
  },
  {
   "cell_type": "code",
   "execution_count": null,
   "metadata": {
    "colab": {
     "base_uri": "https://localhost:8080/"
    },
    "id": "VkybsJPE7suc",
    "outputId": "54582f62-dd50-42ab-98f9-09fa15d058f6"
   },
   "outputs": [
    {
     "data": {
      "text/plain": [
       "0.9535708819095106"
      ]
     },
     "execution_count": 90,
     "metadata": {},
     "output_type": "execute_result"
    }
   ],
   "source": [
    "import math\n",
    "\n",
    "math.sqrt(math.sin(2))  # First, math.sin(2) calculates the sine of 2 radians, then math.sqrt() calculates the square root of that result."
   ]
  },
  {
   "cell_type": "markdown",
   "metadata": {
    "id": "GC870WCpBt58"
   },
   "source": [
    "**Fruitful Functions & Void Functions**\n",
    "\n",
    "Some functions can yield results; thus we define them as fruitful functions. Some functions do not return any result; we then call them void functions."
   ]
  },
  {
   "cell_type": "code",
   "execution_count": null,
   "metadata": {
    "colab": {
     "base_uri": "https://localhost:8080/"
    },
    "id": "I5UUSOiXCDHn",
    "outputId": "a715fe72-bd5f-412b-d28f-34610a9cb314"
   },
   "outputs": [
    {
     "data": {
      "text/plain": [
       "8"
      ]
     },
     "execution_count": 91,
     "metadata": {},
     "output_type": "execute_result"
    }
   ],
   "source": [
    "# fruitful:\n",
    "def add(a, b):\n",
    "    return a + b\n",
    "\n",
    "add(3, 5)"
   ]
  },
  {
   "cell_type": "code",
   "execution_count": null,
   "metadata": {
    "colab": {
     "base_uri": "https://localhost:8080/"
    },
    "id": "4GfauIFfCMLh",
    "outputId": "8e55c697-7e54-4f7b-b0bb-8ecde521f1ec"
   },
   "outputs": [
    {
     "name": "stdout",
     "output_type": "stream",
     "text": [
      "hello Jack\n"
     ]
    }
   ],
   "source": [
    "# void:\n",
    "def print_hi(people):\n",
    "    print(\"hello\", people)\n",
    "\n",
    "print_hi(\"Jack\")"
   ]
  },
  {
   "cell_type": "markdown",
   "metadata": {
    "id": "LHuj68mh_ZQC"
   },
   "source": [
    "### 🤖 Machine Tutor Question\n",
    "\n",
    "**Prompt:**\n",
    "\n",
    "```\n",
    "Could you offer a detailed and clear explanation of functions in Python, highlighting their significance and role in programming?\n",
    "```\n",
    "* [ChatGPT Tutor Response](https://chat.openai.com/share/baf8aabd-505f-4ef4-92a6-3ff02c2a5dac)\n",
    "\n",
    "* [Gemini Tutor Response](https://g.co/gemini/share/e6f52fbc7c61)"
   ]
  },
  {
   "cell_type": "markdown",
   "metadata": {
    "id": "nI9JseqNxmYo"
   },
   "source": [
    "## 5.2 Types of Functions <a class=\"anchor\" id=\"five-two\"></a>"
   ]
  },
  {
   "cell_type": "markdown",
   "metadata": {
    "id": "lWew7KxSs0Ho"
   },
   "source": [
    "- User-defined Functions\n",
    "- Built-in Functions\n",
    "- Lambda Functions\n",
    "- Recursion Functions"
   ]
  },
  {
   "cell_type": "markdown",
   "metadata": {
    "id": "meRvakRFyBYz"
   },
   "source": [
    "### 5.2.1 Built-In Functions <a class=\"anchor\" id=\"five-two-one\"></a>\n",
    "\n",
    "Python offers the audience many built-in functions that can be used directly. Examples are shown below. For more information on the list and their usage, please refer to the official documentation from the following link: https://docs.python.org/3/library/functions.html"
   ]
  },
  {
   "cell_type": "code",
   "execution_count": null,
   "metadata": {
    "colab": {
     "base_uri": "https://localhost:8080/"
    },
    "id": "n-4AHX2VyX1S",
    "outputId": "0d628a0b-3ebf-4235-fc9c-da1935785f4c"
   },
   "outputs": [
    {
     "data": {
      "text/plain": [
       "4"
      ]
     },
     "execution_count": 93,
     "metadata": {},
     "output_type": "execute_result"
    }
   ],
   "source": [
    "# the largest value in a list\n",
    "max([1, 2, 4])"
   ]
  },
  {
   "cell_type": "code",
   "execution_count": null,
   "metadata": {
    "colab": {
     "base_uri": "https://localhost:8080/"
    },
    "id": "8XuQQZIDyeAQ",
    "outputId": "aa6c8b4e-6893-4d86-bc33-2b8844e6d719"
   },
   "outputs": [
    {
     "data": {
      "text/plain": [
       "1"
      ]
     },
     "execution_count": 94,
     "metadata": {},
     "output_type": "execute_result"
    }
   ],
   "source": [
    "# the smallest value in a list\n",
    "min([1, 5, 6])"
   ]
  },
  {
   "cell_type": "code",
   "execution_count": null,
   "metadata": {
    "colab": {
     "base_uri": "https://localhost:8080/"
    },
    "id": "mvAOa9eYypsq",
    "outputId": "1d4f0d32-2b0f-41aa-ac12-cf93342dbcc0"
   },
   "outputs": [
    {
     "data": {
      "text/plain": [
       "4"
      ]
     },
     "execution_count": 95,
     "metadata": {},
     "output_type": "execute_result"
    }
   ],
   "source": [
    "# the length of a list\n",
    "len([1, 4, 7, 3])"
   ]
  },
  {
   "cell_type": "markdown",
   "metadata": {
    "id": "eJXCjMt-y6W-"
   },
   "source": [
    "### 5.2.2 Type Conversion Functions <a class=\"anchor\" id=\"five-two-two\"></a>\n",
    "\n",
    "The function is used to convert data variables into different types."
   ]
  },
  {
   "cell_type": "code",
   "execution_count": null,
   "metadata": {
    "colab": {
     "base_uri": "https://localhost:8080/"
    },
    "id": "O5u28fJ5zBB0",
    "outputId": "93acfc58-4139-4bbc-d439-4b4fb7d078f8"
   },
   "outputs": [
    {
     "data": {
      "text/plain": [
       "3"
      ]
     },
     "execution_count": 96,
     "metadata": {},
     "output_type": "execute_result"
    }
   ],
   "source": [
    "int(3.99999)"
   ]
  },
  {
   "cell_type": "code",
   "execution_count": null,
   "metadata": {
    "colab": {
     "base_uri": "https://localhost:8080/"
    },
    "id": "0W3__W1Fzbo6",
    "outputId": "5db15e3c-ddd6-4374-e132-74748f39c49e"
   },
   "outputs": [
    {
     "data": {
      "text/plain": [
       "234.0"
      ]
     },
     "execution_count": 97,
     "metadata": {},
     "output_type": "execute_result"
    }
   ],
   "source": [
    "float(234)"
   ]
  },
  {
   "cell_type": "code",
   "execution_count": null,
   "metadata": {
    "colab": {
     "base_uri": "https://localhost:8080/",
     "height": 35
    },
    "id": "e2-3oOrozdID",
    "outputId": "7263d82c-76cc-4595-906d-d7100bdc93b4"
   },
   "outputs": [
    {
     "data": {
      "text/plain": [
       "'16'"
      ]
     },
     "execution_count": 98,
     "metadata": {},
     "output_type": "execute_result"
    }
   ],
   "source": [
    "str(16)"
   ]
  },
  {
   "cell_type": "markdown",
   "metadata": {
    "id": "qBBM5GJsziPo"
   },
   "source": [
    "### 5.2.3 Math Functions <a class=\"anchor\" id=\"five-two-three\"></a>\n",
    "\n",
    "The math functions are used to compute math algorithms. The functions are under the module math, so to use it, we need to import the library first."
   ]
  },
  {
   "cell_type": "markdown",
   "metadata": {
    "id": "BwllHphss0Hq"
   },
   "source": [
    "#### Math\n",
    "This module provides access to the mathematical functions defined by the C standard.\n",
    "\n",
    "Python math module is defined as the most famous mathematical functions, which includes trigonometric functions, representation functions, logarithmic functions, etc. Furthermore, it also defines mathematical constants, such as, Euler's number (2.7182...), PI (3.1415...) etc.\n",
    "\n",
    "Learn more about this module <a href=\"https://docs.python.org/3/library/math.html\">here</a>"
   ]
  },
  {
   "cell_type": "code",
   "execution_count": null,
   "metadata": {
    "colab": {
     "base_uri": "https://localhost:8080/"
    },
    "id": "e0RvFL_NzhOB",
    "outputId": "bdc34139-4dab-4dc6-f51f-44d94b80699e"
   },
   "outputs": [
    {
     "data": {
      "text/plain": [
       "4.0"
      ]
     },
     "execution_count": 99,
     "metadata": {},
     "output_type": "execute_result"
    }
   ],
   "source": [
    "import math\n",
    "math.sqrt(16) # calculates the square root of 16"
   ]
  },
  {
   "cell_type": "code",
   "execution_count": null,
   "metadata": {
    "colab": {
     "base_uri": "https://localhost:8080/"
    },
    "id": "E2KSiFKn0SZ7",
    "outputId": "52853d0e-f483-4a04-9b1b-5af93f7db538"
   },
   "outputs": [
    {
     "data": {
      "text/plain": [
       "0.0"
      ]
     },
     "execution_count": 100,
     "metadata": {},
     "output_type": "execute_result"
    }
   ],
   "source": [
    "math.log(1) # calculates the natural logarithm (base e) of 1."
   ]
  },
  {
   "cell_type": "code",
   "execution_count": null,
   "metadata": {
    "colab": {
     "base_uri": "https://localhost:8080/"
    },
    "id": "c5GfN7NI0U0J",
    "outputId": "9292c482-095c-48a9-e8f4-05afe3363a85"
   },
   "outputs": [
    {
     "data": {
      "text/plain": [
       "442413.3920089205"
      ]
     },
     "execution_count": 101,
     "metadata": {},
     "output_type": "execute_result"
    }
   ],
   "source": [
    "math.exp(13) # calculates e raised to the power of 13."
   ]
  },
  {
   "cell_type": "markdown",
   "metadata": {
    "id": "Ge_cVF7Cs0Hr"
   },
   "source": [
    "### 5.2.4 Lambda Functions\n",
    "\n",
    "A lambda function is a small anonymous function. A lambda function can take any number of arguments, but can only have one expression."
   ]
  },
  {
   "cell_type": "code",
   "execution_count": null,
   "metadata": {
    "id": "BkhkR8-Cs0Hr",
    "outputId": "c8a0278d-f4b8-42fb-9215-2d51ef7074ae"
   },
   "outputs": [
    {
     "name": "stdout",
     "output_type": "stream",
     "text": [
      "50\n"
     ]
    }
   ],
   "source": [
    "#Multiplication of two arguments which are a and b, return the result:\n",
    "\n",
    "x = lambda a, b : a * b\n",
    "print(x(10, 5))"
   ]
  },
  {
   "cell_type": "markdown",
   "metadata": {
    "id": "-kwdrarqs0Hr"
   },
   "source": [
    "### Why Use Lambda Functions?"
   ]
  },
  {
   "cell_type": "markdown",
   "metadata": {
    "id": "oC-6jpAXs0Hs"
   },
   "source": [
    "The power of lambda is better shown when you use them as an anonymous function inside another function."
   ]
  },
  {
   "cell_type": "code",
   "execution_count": null,
   "metadata": {
    "id": "jjrJrvm4s0Hs"
   },
   "outputs": [],
   "source": [
    "def myfunc(n):\n",
    "    return lambda a : a * n"
   ]
  },
  {
   "cell_type": "markdown",
   "metadata": {
    "id": "kgUjLx3imMGU"
   },
   "source": [
    "### 5.2.5 Recursive vs. Iterative Functions\n",
    "\n",
    "Although recursive and iterative functions could sound the same, they are not. Both are different ways to execute a set of instructions repeatedly.\n",
    "\n",
    "Recursion is simply a function that calls itself, like a dream within a dream! It is mainly used to solve big problems by redefining them into smaller problems. In the below example, we define a function (factorialUsingRecursion) that, in the end, returns itself. That is a recursive function."
   ]
  },
  {
   "cell_type": "code",
   "execution_count": null,
   "metadata": {
    "id": "e59HiFqAmWb6"
   },
   "outputs": [],
   "source": [
    "# ----- Recursion -----\n",
    "# method to find factorial of given number\n",
    "def factorialUsingRecursion(n):\n",
    "    if (n == 0):\n",
    "        return 1\n",
    "\n",
    "    # recursion call\n",
    "    return n * factorialUsingRecursion(n - 1)"
   ]
  },
  {
   "cell_type": "markdown",
   "metadata": {
    "id": "wOMaNsTWmaFH"
   },
   "source": [
    "Iteration, on the other hand, consists of loops, whether for or while, rather than functions. Until the condition controlling the loop becomes false, iteration is when we run repeatedly a set of instructions. The main difference between recursion and iteration is that while recursion uses functions within functions, iteration is done through ''for'' and ''while'' loops. The same operation given in the recursion example is coded through iteration in the below."
   ]
  },
  {
   "cell_type": "code",
   "execution_count": null,
   "metadata": {
    "id": "Ttjwf6TVmcqM"
   },
   "outputs": [],
   "source": [
    "# ----- Iteration -----\n",
    "# Method to find the factorial of a given number\n",
    "def factorialUsingIteration(n):\n",
    "    res = 1\n",
    "\n",
    "    # using iteration\n",
    "    for i in range(2, n + 1):\n",
    "        res *= i\n",
    "\n",
    "    return res"
   ]
  },
  {
   "cell_type": "markdown",
   "metadata": {
    "id": "beXQEvF-srcq"
   },
   "source": [
    "![image.png](data:image/png;base64,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)\n",
    "\n",
    "[Image source](https://www.interviewkickstart.com/learn/difference-between-recursion-and-iteration)"
   ]
  },
  {
   "cell_type": "markdown",
   "metadata": {
    "id": "uCpYDVNaCQGi"
   },
   "source": [
    "### 🤖 Machine Tutor Question\n",
    "\n",
    "**Prompt:**\n",
    "\n",
    "```\n",
    "Can you provide the different types of functions in Python and provide examples to distinguish between them?\n",
    "```\n",
    "* [ChatGPT Tutor Response](https://chat.openai.com/share/58f4f0fc-39b5-4fb7-83b2-94a13fba8688)\n",
    "\n",
    "* [Gemini Tutor Response](https://g.co/gemini/share/69324211425d)"
   ]
  },
  {
   "cell_type": "markdown",
   "metadata": {
    "id": "3H1qtPRQlIYm"
   },
   "source": [
    "### 5.2.6 Pass-by-value vs Pass-by-reference <a class=\"anchor\" id=\"five-two-four\"></a>"
   ]
  },
  {
   "cell_type": "markdown",
   "metadata": {
    "id": "ee93wJKwlGhh"
   },
   "source": [
    "In Python, when data is passed to a function, the way the data behaves depends on whether it is mutable or immutable. For immutable data types (like integers, strings, or tuples), a copy of the value is passed to the function. This means that if the data is changed inside the function, it does not affect the original data outside the function. This is often referred to as pass-by-value. However, for mutable data types (like lists, sets, or dictionaries), a reference to the data is passed to the function. This means that changes made to the data inside the function will also be reflected outside the function. This is commonly referred to as pass-by-reference.\n",
    "\n",
    "The function below takes the values of x and y. Calling the function, i is passed x and l as y. Inside the function, the data is changed by subtraction on the integer value and popping elements from the list.\n",
    "\n",
    "When we run the code below, it prints that i remains 1 even after we subtract 1 from it. However, when we remove one item from the list, it is now ['a'].\n",
    "\n",
    "In pass-by-value, the data doesn't change outside of a function even if it was changed inside the function, whereas i is a mutable data type and it was passed as reference rather than a copy. Therefore, any changes will be reflected outside of the function as well.\n",
    "\n",
    "```\n",
    "def func(x, y):\n",
    "\n",
    "    x = x - 1\n",
    "\n",
    "    y.pop()\n",
    "\n",
    "if __name__ == \"__main__\":\n",
    "\n",
    "    i = 1\n",
    "    \n",
    "    l = ['a', 'b']\n",
    "\n",
    "    func(i, l)\n",
    "\n",
    "    print(i, l)\n",
    "```\n",
    "\n",
    "To avoid changes made to a mutable object inside a function also appearing outside of a function, you can create a copy of the object and pass it to the function.\n",
    "\n",
    "```\n",
    "func(i, l.copy())\n",
    "```"
   ]
  },
  {
   "cell_type": "markdown",
   "metadata": {
    "id": "1-1sooAfMG8H"
   },
   "source": [
    "# 6. Error Handling and Exception"
   ]
  },
  {
   "cell_type": "markdown",
   "metadata": {
    "id": "PsFFW79-NtTG"
   },
   "source": [
    "## 6.1 Debugging <a class=\"anchor\" id=\"three-three\"></a>"
   ]
  },
  {
   "cell_type": "markdown",
   "metadata": {
    "id": "yIN2deTXNjPf"
   },
   "source": [
    "As we build different programs in Python to solve issues, we might encounter bugs or errors from time to time. Debugging is the key process of finding the reason of the error in our code. We provide three helpful pieces of advice for debugging process.\n",
    "\n",
    "- **Reading:** Examine the code, understand the goal in each step and their command.\n",
    "\n",
    "- **Running:** Take experiments in running the code with changes and modifications. With multiple trials and taking a look in and out, it is easier to find the cause of errors.\n",
    "\n",
    "- **Ruminating:** Reflecting on the errors, they can be in semantic, logic or syntax types. Take enough time to review the experiments, which is better for identifying errors."
   ]
  },
  {
   "cell_type": "markdown",
   "metadata": {
    "id": "3BL_CVQliP0B"
   },
   "source": [
    "Here are some common techniques for debugging Python code:\n",
    "* **1. Print Statements:** The most basic form of debugging is adding print statements to your code to display the values of variables at certain points in the program."
   ]
  },
  {
   "cell_type": "code",
   "execution_count": null,
   "metadata": {
    "id": "4c-IiK4Sh82P"
   },
   "outputs": [],
   "source": [
    "def divide_numbers(a, b):\n",
    "    print(f\"Dividing {a} by {b}\")  # Print the values being used\n",
    "    return a / b\n",
    "\n",
    "divide_numbers(10, 2)  # Works fine\n",
    "divide_numbers(10, 0)  # Causes an error"
   ]
  },
  {
   "cell_type": "markdown",
   "metadata": {
    "id": "pxHempYlkL-p"
   },
   "source": [
    "### 🤖 Machine Tutor Question\n",
    "These are some of the ways to debug Python code, from the simplest (print statements) to the most complex (IDE debuggers). Let's find out from ChatGPT and Gemini what debugging tools are available in our arsenal.\n",
    "\n",
    "**Prompt**\n",
    "```\n",
    "What other tools apart from print statements can be used for debugging python code?\n",
    "```\n",
    "\n",
    "[ChatGPT Tutor Response](https://chatgpt.com/share/6751be1e-f3f0-8006-90b3-16a4cfa057df)\n",
    "\n",
    "[Gemini Tutor Response](https://g.co/gemini/share/cd6c07c9282d)"
   ]
  },
  {
   "cell_type": "markdown",
   "metadata": {
    "id": "fMBEkEA7N06w"
   },
   "source": [
    "## **6.2 Error Handling**"
   ]
  },
  {
   "cell_type": "markdown",
   "metadata": {
    "id": "qEClseTvC0RT"
   },
   "source": [
    "### **6.2.1 Traceback**\n",
    "When an error occurs during the execution of your program, Python will \"raise an exception\" and execution will stop. Python will also print a \"traceback\" to the console, which is a report containing information about what part of your code was executing when the error occurred. Learning how to read tracebacks is very useful for debugging.\n",
    "\n",
    "For example, if you run code cell below, You will get a traceback like this:\n",
    "\n",
    "```\n",
    "ZeroDivisionError                         Traceback (most recent call last)\n",
    "<ipython-input-11-8c304d43d613> in <cell line: 4>()\n",
    "      2     return a / b\n",
    "      3\n",
    "----> 4 divide_numbers(10, 0)\n",
    "\n",
    "<ipython-input-11-8c304d43d613> in divide_numbers(a, b)\n",
    "      1 def divide_numbers(a, b):\n",
    "----> 2     return a / b\n",
    "      3\n",
    "      4 divide_numbers(10, 0)\n",
    "\n",
    "ZeroDivisionError: division by zero\n",
    "```\n",
    "\n",
    "This traceback tells you that a *ZeroDivisionError* (i.e., an error caused by trying to divide by zero) occurred, and that it happened on line 2 in the divide_numbers function, which was called from line 4 in the \\<module>\\."
   ]
  },
  {
   "cell_type": "code",
   "execution_count": null,
   "metadata": {
    "id": "vW3I5wskjcnS"
   },
   "outputs": [],
   "source": [
    "def divide_numbers(a, b):\n",
    "    return a / b\n",
    "\n",
    "divide_numbers(10, 0)\n"
   ]
  },
  {
   "cell_type": "markdown",
   "metadata": {
    "id": "vVt-rQr6qQ0f"
   },
   "source": [
    "### **6.2.2 Exceptions**\n",
    "\n",
    "A try/except block in Python is used for exception handling. It allows the program to continue running even if it encounters an error or exception. This is important because, without it, your program would stop and exit at the point of the error. With try/except, you can log or display the error in a user-friendly way, and allow the program to continue.\n",
    "\n",
    "Here is how a basic try/except block looks in Python:"
   ]
  },
  {
   "cell_type": "code",
   "execution_count": null,
   "metadata": {
    "colab": {
     "base_uri": "https://localhost:8080/"
    },
    "id": "v2yb6GAaqegf",
    "outputId": "790cd037-a9f1-41c9-df90-55e60c25345c"
   },
   "outputs": [
    {
     "name": "stdout",
     "output_type": "stream",
     "text": [
      "An error occurred\n"
     ]
    }
   ],
   "source": [
    "try:\n",
    "    # Code that may raise an exception\n",
    "    x = 1 / 0\n",
    "except:\n",
    "    # Code that is executed if an exception occurs\n",
    "    print(\"An error occurred\")"
   ]
  },
  {
   "cell_type": "markdown",
   "metadata": {
    "id": "0nF_zz_uqogG"
   },
   "source": [
    "In this example above, dividing by zero will raise a *ZeroDivisionError exception*. Normally, this would cause the program to stop and print a traceback to the error. But with the try/except block, instead of the program stopping, it executes the code under the except block and then continues."
   ]
  },
  {
   "cell_type": "markdown",
   "metadata": {
    "id": "HF1SlaKpq8ov"
   },
   "source": [
    "### 🤖 Machine Tutor Question\n",
    "\n",
    "**Prompt**\n",
    "```\n",
    "What are other possible ways to catch specific exceptions in python and how can these exceptions be handled?\n",
    "```\n",
    "\n",
    "[ChatGPT Tutor Response](https://chat.openai.com/share/aa1fff06-1b8d-4a6b-9d22-5a29cb6101e9)\n",
    "\n",
    "[Gemini Tutor Response](https://g.co/gemini/share/abb5988fc56f)"
   ]
  },
  {
   "cell_type": "markdown",
   "metadata": {
    "id": "7cU2m25mr0SO"
   },
   "source": [
    "# Annex <a class=\"anchor\" id=\"annex\"></a>"
   ]
  },
  {
   "cell_type": "markdown",
   "metadata": {
    "id": "wLvSl2Tos0Hs"
   },
   "source": [
    "## Annex-1. Installation of Python on Windows & Mac OS\n",
    "\n",
    "Step 1: Download the Official Installer  \n",
    "Recommendation: Choose the latest stable Python version  \n",
    "Windows -> https://www.python.org/downloads/windows/  \n",
    "Mac OS -> Check pre-installed version. Update to the latest version. https://www.python.org/downloads/macos/  \n",
    "\n",
    "Step 2: Run the Installer"
   ]
  },
  {
   "cell_type": "markdown",
   "metadata": {
    "id": "f9jypbw7s0Hs"
   },
   "source": [
    "## Annex-2. Setting up Jupyter Notebook"
   ]
  },
  {
   "cell_type": "markdown",
   "metadata": {
    "id": "bIQY1hi6s0Ht"
   },
   "source": [
    "<img src=\"https://pyhasse.org/files/notebooks/jupyter-logo.png\" width=\"300\">"
   ]
  },
  {
   "cell_type": "markdown",
   "metadata": {
    "id": "x2q_ytt9jajO"
   },
   "source": [
    "Jupyter Notebook is a web-based IDE service that fully utilizes the interactivity of Python shell programming. Media, code, and mathematic equations can be shown as a single document format.\n",
    "\n",
    "\n",
    "Installing Anaconda with the following steps.\n",
    "\n",
    "**Step One:**\n",
    "\n",
    "Visit the Anaconda installation page, and match your operating system, and follow the instructions on the website.  \n",
    "https://docs.anaconda.com/anaconda/install/\n",
    "\n",
    "\n",
    "**Step Two:**\n",
    "\n",
    "Verify the installation. Reference page:   \n",
    "https://docs.anaconda.com/anaconda/install/verify-install/\n",
    "\n",
    "**Step Three:**\n",
    "\n",
    "Search the Anaconda Navigator on your laptop and open the application.\n",
    "\n",
    "**Step Four:**\n",
    "\n",
    "Launch Jupyter Lab"
   ]
  },
  {
   "cell_type": "markdown",
   "metadata": {
    "id": "XWc15rMhxzRJ"
   },
   "source": [
    "## Annex-3. Setting up Github and Git\n",
    "\n",
    "<img src=\"https://logos-world.net/wp-content/uploads/2020/11/GitHub-Emblem-700x394.png\" width=\"300\">\n",
    "\n",
    "GitHub is a great platform for version control and team collaboration. It allows the user or the team to contribute together on projects or different tasks."
   ]
  },
  {
   "cell_type": "markdown",
   "metadata": {
    "id": "3223RPTSOWrG"
   },
   "source": [
    "**Step One:** Register a Personal Account\n",
    "\n",
    "Visit the webpage to set up the account:\n",
    "https://github.com/\n",
    "\n",
    "**Step Two:** Create a Repository\n",
    "\n",
    "Repositories can have folders, files, notebooks, datasets, etc. You may want to put anything essential for the project. The README file is recommended for explaining your targets or goals. GitHub also provides licenses with various options. Choose the best fit for your project\n",
    "\n",
    "**Step Three:** Make and Commit Changes\n",
    "\n",
    "You can commit any changes with either files or folders by clicking the button commit changes.\n",
    "\n",
    "**Step Four:** Open a Pull Request\n",
    "\n",
    "If others or team members made contributes to your repository, to get the latest version of current files, you can ask to pull request. The command \"git pull\" will be helpful to address our need here.\n",
    "\n",
    "\n",
    "**Step Five:** Update Your Contribution\n",
    "\n",
    "If you complete your work progress and would like to update the changes from your local laptop, the command \"git push\" would be helpful to upload your changes to the repository."
   ]
  },
  {
   "cell_type": "markdown",
   "metadata": {
    "id": "v_yBq0J1s0Ht"
   },
   "source": [
    "<img src=\"https://t1.daumcdn.net/cfile/tistory/257E534353142A7D27\" width=\"500\">\n",
    "<br>\n",
    "<center>Image from <a href=\"https://code.osteele.com/\">Git Data Transport Commands</a> by Oliver Steele</center>\n",
    "<br>"
   ]
  },
  {
   "cell_type": "markdown",
   "metadata": {
    "id": "Pnv_WvmXs0Hu"
   },
   "source": [
    "# Reference <a class=\"anchor\" id=\"reference\"></a>\n",
    "\n",
    "- [Google Colab: Loading data from Drive, Sheets, and Google Cloud Storage](https://colab.research.google.com/notebooks/io.ipynb)\n",
    "- [W3School Tutorial: Python Data Types](https://www.w3schools.com/python/python_datatypes.asp)\n",
    "- [Official Documentation of Python Standard Library: Built-in Functions](https://docs.python.org/3/library/functions.html)"
   ]
  }
 ],
 "metadata": {
  "colab": {
   "provenance": []
  },
  "kernelspec": {
   "display_name": "Python 3 (ipykernel)",
   "language": "python",
   "name": "python3"
  },
  "language_info": {
   "codemirror_mode": {
    "name": "ipython",
    "version": 3
   },
   "file_extension": ".py",
   "mimetype": "text/x-python",
   "name": "python",
   "nbconvert_exporter": "python",
   "pygments_lexer": "ipython3",
   "version": "3.9.13"
  },
  "vscode": {
   "interpreter": {
    "hash": "eae4343dc02dd45e1da0dc454aa9d9c8ed8dd137eec4c8b997ff134c054f9679"
   }
  }
 },
 "nbformat": 4,
 "nbformat_minor": 1
}
